{
 "cells": [
  {
   "cell_type": "code",
   "execution_count": 6,
   "metadata": {},
   "outputs": [
    {
     "name": "stdout",
     "output_type": "stream",
     "text": [
      "Including all data\n",
      "Including all data\n"
     ]
    }
   ],
   "source": [
    "import pandas as pd\n",
    "import os\n",
    "import itertools\n",
    "import json\n",
    "import numpy as np\n",
    "from CorpusGenerator import CorpusGenerator\n",
    "from Text_Processing import tokenizer_stemming\n",
    "from Text_Processing import clean_text_similarity\n",
    "import yaml\n",
    "from gensim.models.phrases import Phrases, Phraser\n",
    "\n",
    "\n",
    "# load configuration file\n",
    "with open(os.path.join(\".\", 'config', 'config.yml'), 'r', encoding='utf-8') as conf_file:\n",
    "    config = yaml.load(conf_file, Loader=yaml.SafeLoader)\n",
    "\n",
    "# generate whole corpus for general representation construction\n",
    "all_corpus = CorpusGenerator(country_list=[\"TW\", \"EU\"],\n",
    "                             task=\"SIM\", data_location=\"default\",\n",
    "                             generate_only_for=None, filtered=None)\n",
    "corpus_dataframe = all_corpus.read_from_location()\n",
    "tokenized_cleaned_corpus = list(\n",
    "    corpus_dataframe[\"Text\"].apply(clean_text_similarity).apply(lambda x: x.lower()).apply(tokenizer_stemming))\n",
    "\n",
    "# bigram, trigram for gensim model\n",
    "phrases = Phrases(tokenized_cleaned_corpus,\n",
    "                  min_count=config[\"Modelling\"][\"PHRASER\"][\"config\"][\"MIN_COUNT\"],\n",
    "                  progress_per=config[\"Modelling\"][\"PHRASER\"][\"config\"][\"PROGRESS_PER\"])\n",
    "\n",
    "bigram = Phraser(phrases)\n",
    "bi_sentences = bigram[tokenized_cleaned_corpus]\n",
    "trigram = Phrases(bi_sentences)\n",
    "sentences = trigram[bi_sentences]\n"
   ]
  },
  {
   "cell_type": "code",
   "execution_count": 7,
   "metadata": {},
   "outputs": [],
   "source": [
    "bi_gram = pd.DataFrame(columns=[\"bigram\",\"score\"])\n",
    "for phrase, score in phrases.export_phrases(tokenized_cleaned_corpus):\n",
    "    bi_gram = bi_gram.append({\"bigram\":phrase, \"score\":score},ignore_index=True)"
   ]
  },
  {
   "cell_type": "code",
   "execution_count": 8,
   "metadata": {},
   "outputs": [],
   "source": [
    "bi_gram = bi_gram.drop_duplicates().reset_index(drop=True)"
   ]
  },
  {
   "cell_type": "code",
   "execution_count": 13,
   "metadata": {},
   "outputs": [],
   "source": [
    "bi_gram.to_excel(\"bigram_PMI score.xlsx\")"
   ]
  },
  {
   "cell_type": "code",
   "execution_count": 10,
   "metadata": {},
   "outputs": [],
   "source": [
    "bi_gram[\"bigram\"] = bi_gram[\"bigram\"].apply(lambda x: x.decode('UTF-8'))"
   ]
  },
  {
   "cell_type": "code",
   "execution_count": 15,
   "metadata": {},
   "outputs": [],
   "source": [
    "tri_gram = pd.DataFrame(columns=[\"trigram\",\"score\"])\n",
    "for phrase, score in trigram.export_phrases(bi_sentences):\n",
    "    tri_gram = tri_gram.append({\"trigram\":phrase, \"score\":score},ignore_index=True)"
   ]
  },
  {
   "cell_type": "code",
   "execution_count": 16,
   "metadata": {},
   "outputs": [],
   "source": [
    "#tri_gram = tri_gram.loc[:,[\"trigram\",\"score\"]]"
   ]
  },
  {
   "cell_type": "code",
   "execution_count": 17,
   "metadata": {},
   "outputs": [],
   "source": [
    "tri_gram[\"trigram\"] = tri_gram[\"trigram\"].apply(lambda x: x.decode('UTF-8'))"
   ]
  },
  {
   "cell_type": "code",
   "execution_count": 19,
   "metadata": {},
   "outputs": [
    {
     "data": {
      "text/html": [
       "<div>\n",
       "<style scoped>\n",
       "    .dataframe tbody tr th:only-of-type {\n",
       "        vertical-align: middle;\n",
       "    }\n",
       "\n",
       "    .dataframe tbody tr th {\n",
       "        vertical-align: top;\n",
       "    }\n",
       "\n",
       "    .dataframe thead th {\n",
       "        text-align: right;\n",
       "    }\n",
       "</style>\n",
       "<table border=\"1\" class=\"dataframe\">\n",
       "  <thead>\n",
       "    <tr style=\"text-align: right;\">\n",
       "      <th></th>\n",
       "      <th>trigram</th>\n",
       "      <th>score</th>\n",
       "    </tr>\n",
       "  </thead>\n",
       "  <tbody>\n",
       "    <tr>\n",
       "      <th>16828</th>\n",
       "      <td>6a 6b</td>\n",
       "      <td>6164.034722</td>\n",
       "    </tr>\n",
       "    <tr>\n",
       "      <th>64198</th>\n",
       "      <td>alkylaryl sulphonate</td>\n",
       "      <td>6002.508876</td>\n",
       "    </tr>\n",
       "    <tr>\n",
       "      <th>658</th>\n",
       "      <td>wrist fingers</td>\n",
       "      <td>5943.890625</td>\n",
       "    </tr>\n",
       "    <tr>\n",
       "      <th>75214</th>\n",
       "      <td>communicate_united nations_secretariat</td>\n",
       "      <td>5763.772727</td>\n",
       "    </tr>\n",
       "    <tr>\n",
       "      <th>87960</th>\n",
       "      <td>signed dated</td>\n",
       "      <td>5448.566406</td>\n",
       "    </tr>\n",
       "  </tbody>\n",
       "</table>\n",
       "</div>"
      ],
      "text/plain": [
       "                                      trigram        score\n",
       "16828                                   6a 6b  6164.034722\n",
       "64198                    alkylaryl sulphonate  6002.508876\n",
       "658                             wrist fingers  5943.890625\n",
       "75214  communicate_united nations_secretariat  5763.772727\n",
       "87960                            signed dated  5448.566406"
      ]
     },
     "execution_count": 19,
     "metadata": {},
     "output_type": "execute_result"
    }
   ],
   "source": [
    "tri_gram.sort_values(by=\"score\",ascending=False).drop_duplicates().head()"
   ]
  },
  {
   "cell_type": "code",
   "execution_count": 20,
   "metadata": {},
   "outputs": [],
   "source": [
    "#tri_gram.sort_values(by=\"score\",ascending=False).drop_duplicates().to_excel(\"trigram.xlsx\")"
   ]
  },
  {
   "cell_type": "code",
   "execution_count": null,
   "metadata": {},
   "outputs": [],
   "source": []
  }
 ],
 "metadata": {
  "kernelspec": {
   "display_name": "Python 3",
   "language": "python",
   "name": "python3"
  },
  "language_info": {
   "codemirror_mode": {
    "name": "ipython",
    "version": 3
   },
   "file_extension": ".py",
   "mimetype": "text/x-python",
   "name": "python",
   "nbconvert_exporter": "python",
   "pygments_lexer": "ipython3",
   "version": "3.7.3"
  }
 },
 "nbformat": 4,
 "nbformat_minor": 2
}
