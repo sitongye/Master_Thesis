{
    "cells": [
        {
            "cell_type": "code",
            "execution_count": 1,
            "metadata": {},
            "outputs": [
                {
                    "name": "stderr",
                    "output_type": "stream",
                    "text": [
                        "Using TensorFlow backend.\n"
                    ]
                }
            ],
            "source": [
                "# import libraries\n",
                "import pandas as pd\n",
                "import os\n",
                "import spacy\n",
                "from spacy.pipeline import EntityRuler\n",
                "from spacy.displacy import render,serve\n",
                "from IPython.core.display import display, HTML\n",
                "from spacy.tokens import Span\n",
                "from spacy.displacy import render,serve\n",
                "import networkx as nx\n",
                "import itertools\n",
                "import json\n",
                "import pylab\n",
                "from spacy.util import filter_spans\n",
                "import re\n",
                "import tensorflow as tf\n",
                "from transformers import *\n",
                "import numpy as np\n",
                "import torch\n",
                "from torch.nn.utils.rnn import pad_sequence\n",
                "from keras.utils import to_categorical\n",
                "from sklearn.model_selection import train_test_split\n",
                "import spacy\n",
                "from spacy import displacy\n",
                "from keras.models import Model\n",
                "from keras.layers import Input, LSTM, Lambda, Dense, Concatenate\n",
                "from keras.preprocessing.sequence import pad_sequences\n",
                "import pandas as pd\n",
                "import ast\n",
                "from tqdm import tqdm\n",
                "import matplotlib.pyplot as plt"
            ]
        },
        {
            "cell_type": "code",
            "execution_count": 2,
            "metadata": {},
            "outputs": [
                {
                    "name": "stderr",
                    "output_type": "stream",
                    "text": [
                        "[nltk_data] Downloading package wordnet to\n",
                        "[nltk_data]     C:\\Users\\sye\\AppData\\Roaming\\nltk_data...\n",
                        "[nltk_data]   Package wordnet is already up-to-date!\n"
                    ]
                }
            ],
            "source": [
                "# for base model\n",
                "# load libraries\n",
                "from sklearn.model_selection import train_test_split\n",
                "from sklearn.feature_extraction.text import CountVectorizer\n",
                "from scipy.sparse import hstack\n",
                "from sklearn.linear_model import Lasso, LogisticRegression\n",
                "from sklearn import svm\n",
                "from sklearn.svm import SVC\n",
                "from sklearn.metrics import classification_report, confusion_matrix, accuracy_score\n",
                "import nltk\n",
                "nltk.download('wordnet')\n",
                "import numpy as np\n",
                "from nltk.stem import WordNetLemmatizer \n",
                "from sklearn.feature_extraction.text import TfidfVectorizer"
            ]
        },
        {
            "cell_type": "code",
            "execution_count": 3,
            "metadata": {},
            "outputs": [],
            "source": [
                "def bow_col2feat(train_data,test_data,column,paradict,bow=True):\n",
                "    features_train, features_test,vectorizer = bag_of_word(train_data[column].apply(lambda x: \" \".join(x)),\n",
                "                                                            test_data[column].apply(lambda x: \" \".join(x)),\n",
                "                                                            paradict,bow=bow)\n",
                "    return features_train, features_test,vectorizer\n",
                "\n",
                "def bow_train_feature_stack(train_data,test_data,paradict,column_list,bow=True):\n",
                "    features_stack_train = None\n",
                "    features_stack_test = None\n",
                "    for column in column_list:\n",
                "        features_train,features_test,_ = bow_col2feat(train_data,test_data,column,paradict,bow=bow)\n",
                "        features_stack_train = hstack((features_stack_train, features_train))\n",
                "        features_stack_test = hstack((features_stack_test,features_test))\n",
                "    return features_stack_train, features_stack_test\n",
                "\n",
                "def bag_of_word(train,test,paradict,bow=True):\n",
                "    vectorizer = CountVectorizer(ngram_range=paradict[\"NGRAM_RANGE\"],\n",
                "                                 max_features=paradict[\"MAX_FEATURES\"],\n",
                "                                 binary=paradict[\"BINARY\"],\n",
                "                                 max_df=paradict[\"MAX_DF\"])\n",
                "    if bow==False:\n",
                "        vectorizer = TfidfVectorizer(ngram_range=paradict[\"NGRAM_RANGE\"],\n",
                "                                 max_features=paradict[\"MAX_FEATURES\"],\n",
                "                                 binary=paradict[\"BINARY\"],\n",
                "                                 max_df=paradict[\"MAX_DF\"])\n",
                "    train_data_features = vectorizer.fit_transform(train)\n",
                "    test_data_features = vectorizer.transform(test)\n",
                "    return train_data_features, test_data_features, vectorizer\n",
                "\n",
                "bow_paradict = {\n",
                "\"NGRAM_RANGE\":(1,3),\n",
                "\"MAX_FEATURES\": 30,\n",
                "\"BINARY\": False,\n",
                "\"MAX_DF\":0.95}"
            ]
        },
        {
            "cell_type": "code",
            "execution_count": 4,
            "metadata": {},
            "outputs": [],
            "source": [
                "from BertMerger import BadTERMMerger"
            ]
        },
        {
            "cell_type": "code",
            "execution_count": 5,
            "metadata": {},
            "outputs": [],
            "source": [
                "LABELED_DATA = r\"C:\\Users\\sye\\OneDrive - MHP\\Masterthese\\data\\processed_data\\TW\\labeled\""
            ]
        },
        {
            "cell_type": "code",
            "execution_count": 6,
            "metadata": {},
            "outputs": [
                {
                    "data": {
                        "text/plain": [
                            "[('tagger', <spacy.pipeline.pipes.Tagger at 0x1d33ba26f98>),\n",
                            " ('parser', <spacy.pipeline.pipes.DependencyParser at 0x1d33bb45a08>),\n",
                            " ('BadTERMMerger', <BertMerger.BadTERMMerger at 0x1d33b888550>),\n",
                            " ('ner', <spacy.pipeline.pipes.EntityRecognizer at 0x1d33bb45a68>),\n",
                            " ('merge_entities', <function spacy.pipeline.functions.merge_entities(doc)>)]"
                        ]
                    },
                    "execution_count": 6,
                    "metadata": {},
                    "output_type": "execute_result"
                }
            ],
            "source": [
                "nlp = spacy.load(r\"C:\\Users\\sye\\OneDrive - MHP\\Masterthese\\py\\ner\\parameter\")\n",
                "nlp.add_pipe(nlp.create_pipe('merge_entities'))\n",
                "term_merger = BadTERMMerger(nlp)\n",
                "nlp.add_pipe(term_merger, before=\"ner\")\n",
                "nlp.pipeline"
            ]
        },
        {
            "cell_type": "code",
            "execution_count": 7,
            "metadata": {},
            "outputs": [],
            "source": [
                "pd.set_option('display.max_rows', 1000)\n",
                "pd.set_option('display.max_colwidth', 1000)"
            ]
        },
        {
            "cell_type": "code",
            "execution_count": 8,
            "metadata": {},
            "outputs": [],
            "source": [
                "def return_quant_token(row):\n",
                "    q_t = None\n",
                "    i = None\n",
                "    text_doc = nlp(row[\"Text\"])\n",
                "    for t in text_doc:\n",
                "        if row[\"Quant\"].strip().lower() in t.text.lower():\n",
                "            q_t = t\n",
                "            i = t.i\n",
                "    return q_t, i\n",
                "\n",
                "def return_target_token(row):\n",
                "    t_t = None\n",
                "    i = None\n",
                "    text_doc = nlp(row[\"Text\"])\n",
                "    for t in text_doc:\n",
                "        if str(row[\"target\"]).strip().lower() in t.text.lower():\n",
                "            t_t = t\n",
                "            i = t.i\n",
                "    return t_t, i\n",
                "\n",
                "def sent_snippet(row):\n",
                "    span = None\n",
                "    if (row[\"Quant_Token\"][1] is not None) and (row[\"target_Token\"][1] is not None):\n",
                "        start = min(row[\"Quant_Token\"][1],row[\"target_Token\"][1])\n",
                "        end = max(row[\"Quant_Token\"][1],row[\"target_Token\"][1])\n",
                "        span = row[\"Tokens\"][start:end+1]\n",
                "    return span\n",
                "        "
            ]
        },
        {
            "cell_type": "code",
            "execution_count": 9,
            "metadata": {},
            "outputs": [],
            "source": [
                "def read_labeled_data(data_path):\n",
                "    gesamt = pd.DataFrame()\n",
                "    for path, _, files in os.walk(data_path):\n",
                "        for FILE_NAME in tqdm(files):\n",
                "            try:\n",
                "                test_input = pd.read_excel(os.path.join(path, FILE_NAME),usecols = [\"Text\",\"Quant\",\"Target\",\"Label\"],dtype={\"Text\":str,\"Quant\": str,\"Target\":str})\n",
                "                test_input.dropna(subset=[\"Label\"], inplace=True,axis=0)\n",
                "                test_input = test_input.reset_index(drop=True)\n",
                "                test_input.rename(columns={\"Target\":\"target\",\"Label\":\"label\"}, inplace=True)\n",
                "                test_input[\"label\"] = test_input[\"label\"].apply(lambda x: int(x))\n",
                "                test_input[\"Tokens\"] = test_input.Text.apply(lambda x: [t for t in nlp(x)])\n",
                "                test_input[\"Quant_Token\"] = test_input.apply(return_quant_token, axis=1)\n",
                "                test_input[\"target_Token\"] = test_input.apply(return_target_token, axis=1)\n",
                "                test_input[\"Sent_Span\"] = test_input.apply(sent_snippet, axis=1)\n",
                "                valided_index = []\n",
                "                for row in range(len(test_input)):\n",
                "                    tokens = test_input.loc[row, \"Tokens\"]\n",
                "                    quant_index= test_input.loc[row, \"Quant_Token\"][1]\n",
                "                    target_index = test_input.loc[row, \"target_Token\"][1]\n",
                "                    if quant_index is not None:\n",
                "                        if tokens[quant_index].head==tokens[target_index].head:\n",
                "                            valided_index.append(row)\n",
                "                cleaned = test_input.loc[valided_index,:]\n",
                "                cleaned =test_input.reset_index(drop=True)\n",
                "                print(FILE_NAME)\n",
                "                gesamt = gesamt.append(cleaned,ignore_index=True)\n",
                "            except:\n",
                "                print(\"ERROR!:\",FILE_NAME)\n",
                "                continue\n",
                "    return gesamt"
            ]
        },
        {
            "cell_type": "code",
            "execution_count": 10,
            "metadata": {},
            "outputs": [
                {
                    "name": "stderr",
                    "output_type": "stream",
                    "text": [
                        "\r",
                        "  0%|                                                                                           | 0/59 [00:00<?, ?it/s]"
                    ]
                },
                {
                    "name": "stdout",
                    "output_type": "stream",
                    "text": [
                        "01 The applicable motor vehicle category for vehicle inspection and testing.pdf.xlsx\n"
                    ]
                },
                {
                    "name": "stderr",
                    "output_type": "stream",
                    "text": [
                        "\r",
                        "  2%|█▍                                                                                 | 1/59 [00:00<00:27,  2.10it/s]"
                    ]
                },
                {
                    "name": "stdout",
                    "output_type": "stream",
                    "text": [
                        "02 The requirement of specification for motor vehicle.xlsx\n"
                    ]
                },
                {
                    "name": "stderr",
                    "output_type": "stream",
                    "text": [
                        "\r",
                        "  3%|██▊                                                                                | 2/59 [00:10<03:08,  3.30s/it]"
                    ]
                },
                {
                    "name": "stdout",
                    "output_type": "stream",
                    "text": [
                        "03-0 The installation of lighting and light-signaling devices.xlsx\n"
                    ]
                },
                {
                    "name": "stderr",
                    "output_type": "stream",
                    "text": [
                        "\r",
                        "  5%|████▏                                                                              | 3/59 [00:10<02:15,  2.43s/it]"
                    ]
                },
                {
                    "name": "stdout",
                    "output_type": "stream",
                    "text": [
                        "03-1 The installation of lighting and light-signaling devices.xlsx\n"
                    ]
                },
                {
                    "name": "stderr",
                    "output_type": "stream",
                    "text": [
                        "\r",
                        "  7%|█████▋                                                                             | 4/59 [00:15<02:55,  3.19s/it]"
                    ]
                },
                {
                    "name": "stdout",
                    "output_type": "stream",
                    "text": [
                        "04 Static Braking.xlsx\n"
                    ]
                },
                {
                    "name": "stderr",
                    "output_type": "stream",
                    "text": [
                        "\r",
                        "  8%|███████                                                                            | 5/59 [00:15<02:04,  2.30s/it]"
                    ]
                },
                {
                    "name": "stdout",
                    "output_type": "stream",
                    "text": [
                        "06 The inspection requirement of fuel system for CNG vehicle.xlsx\n"
                    ]
                },
                {
                    "name": "stderr",
                    "output_type": "stream",
                    "text": [
                        "\r",
                        " 10%|████████▍                                                                          | 6/59 [00:16<01:34,  1.79s/it]"
                    ]
                },
                {
                    "name": "stdout",
                    "output_type": "stream",
                    "text": [
                        "07 The lateral protection device and the Rear Underrun Protection Device (RUPD)(or bumper).xlsx\n"
                    ]
                },
                {
                    "name": "stderr",
                    "output_type": "stream",
                    "text": [
                        "\r",
                        " 12%|█████████▊                                                                         | 7/59 [00:17<01:18,  1.50s/it]"
                    ]
                },
                {
                    "name": "stdout",
                    "output_type": "stream",
                    "text": [
                        "08 The requirement of vehicle tilt stability.xlsx\n"
                    ]
                },
                {
                    "name": "stderr",
                    "output_type": "stream",
                    "text": [
                        "\r",
                        " 14%|███████████▎                                                                       | 8/59 [00:17<00:56,  1.11s/it]"
                    ]
                },
                {
                    "name": "stdout",
                    "output_type": "stream",
                    "text": [
                        "09-2 Installation of audible warning devices.xlsx\n"
                    ]
                },
                {
                    "name": "stderr",
                    "output_type": "stream",
                    "text": [
                        "\r",
                        " 15%|████████████▋                                                                      | 9/59 [00:17<00:40,  1.23it/s]"
                    ]
                },
                {
                    "name": "stdout",
                    "output_type": "stream",
                    "text": [
                        "10 Installation requirements of pay load meter.xlsx\n",
                        "11 The installation requirement of turning and reversing audible warning device.xlsx\n"
                    ]
                },
                {
                    "name": "stderr",
                    "output_type": "stream",
                    "text": [
                        "\r",
                        " 19%|███████████████▎                                                                  | 11/59 [00:17<00:28,  1.71it/s]"
                    ]
                },
                {
                    "name": "stdout",
                    "output_type": "stream",
                    "text": [
                        "12 The thermal-insulation protection device of exhaust system for motorcycle.xlsx\n",
                        "13 The requirement of stability and durability regarding motorcycle stands.xlsx\n"
                    ]
                },
                {
                    "name": "stderr",
                    "output_type": "stream",
                    "text": [
                        "\r",
                        " 22%|██████████████████                                                                | 13/59 [00:17<00:19,  2.35it/s]"
                    ]
                },
                {
                    "name": "stdout",
                    "output_type": "stream",
                    "text": [
                        "15 Payload meter.xlsx\n",
                        "19 Flammability of the interior materials for motor vehicle.xlsx\n"
                    ]
                },
                {
                    "name": "stderr",
                    "output_type": "stream",
                    "text": [
                        "\r",
                        " 25%|████████████████████▊                                                             | 15/59 [00:18<00:14,  3.05it/s]"
                    ]
                },
                {
                    "name": "stdout",
                    "output_type": "stream",
                    "text": [
                        "19-1 Flammability of the interior materials for motor vehicle.xlsx\n",
                        "21-1 Audible warning devices.xlsx\n"
                    ]
                },
                {
                    "name": "stderr",
                    "output_type": "stream",
                    "text": [
                        "\r",
                        " 29%|███████████████████████▋                                                          | 17/59 [00:19<00:17,  2.44it/s]"
                    ]
                },
                {
                    "name": "stdout",
                    "output_type": "stream",
                    "text": [
                        "22 Speedometer.xlsx\n"
                    ]
                },
                {
                    "name": "stderr",
                    "output_type": "stream",
                    "text": [
                        "\r",
                        " 31%|█████████████████████████                                                         | 18/59 [00:19<00:15,  2.71it/s]"
                    ]
                },
                {
                    "name": "stdout",
                    "output_type": "stream",
                    "text": [
                        "23-2 Installation of devices for indirect vision.xlsx\n"
                    ]
                },
                {
                    "name": "stderr",
                    "output_type": "stream",
                    "text": [
                        "\r",
                        " 32%|██████████████████████████▍                                                       | 19/59 [00:20<00:26,  1.53it/s]"
                    ]
                },
                {
                    "name": "stdout",
                    "output_type": "stream",
                    "text": [
                        "24 Driver operated controls.pdf.xlsx\n"
                    ]
                },
                {
                    "name": "stderr",
                    "output_type": "stream",
                    "text": [
                        "\r",
                        " 34%|███████████████████████████▊                                                      | 20/59 [00:21<00:19,  1.96it/s]"
                    ]
                },
                {
                    "name": "stdout",
                    "output_type": "stream",
                    "text": [
                        "25-3 Safety Glass.xlsx\n"
                    ]
                },
                {
                    "name": "stderr",
                    "output_type": "stream",
                    "text": [
                        "\r",
                        " 36%|█████████████████████████████▏                                                    | 21/59 [00:24<00:47,  1.24s/it]"
                    ]
                },
                {
                    "name": "stdout",
                    "output_type": "stream",
                    "text": [
                        "26-1 Safety Belt.xlsx\n"
                    ]
                },
                {
                    "name": "stderr",
                    "output_type": "stream",
                    "text": [
                        "\r",
                        " 37%|██████████████████████████████▌                                                   | 22/59 [00:25<00:47,  1.29s/it]"
                    ]
                },
                {
                    "name": "stdout",
                    "output_type": "stream",
                    "text": [
                        "27 Devices for indirect vision.xlsx\n"
                    ]
                },
                {
                    "name": "stderr",
                    "output_type": "stream",
                    "text": [
                        "\r",
                        " 39%|███████████████████████████████▉                                                  | 23/59 [00:26<00:42,  1.18s/it]"
                    ]
                },
                {
                    "name": "stdout",
                    "output_type": "stream",
                    "text": [
                        "29 Filament lamps.pdf.xlsx\n"
                    ]
                },
                {
                    "name": "stderr",
                    "output_type": "stream",
                    "text": [
                        "\r",
                        " 41%|█████████████████████████████████▎                                                | 24/59 [00:26<00:34,  1.00it/s]"
                    ]
                },
                {
                    "name": "stdout",
                    "output_type": "stream",
                    "text": [
                        "31 Direction indicator.xlsx\n"
                    ]
                },
                {
                    "name": "stderr",
                    "output_type": "stream",
                    "text": [
                        "\r",
                        " 42%|██████████████████████████████████▋                                               | 25/59 [00:28<00:36,  1.09s/it]"
                    ]
                },
                {
                    "name": "stdout",
                    "output_type": "stream",
                    "text": [
                        "33 Reversing lamps.xlsx\n"
                    ]
                },
                {
                    "name": "stderr",
                    "output_type": "stream",
                    "text": [
                        "\r",
                        " 44%|████████████████████████████████████▏                                             | 26/59 [00:28<00:27,  1.21it/s]"
                    ]
                },
                {
                    "name": "stdout",
                    "output_type": "stream",
                    "text": [
                        "34 Front position lamps.xlsx\n"
                    ]
                },
                {
                    "name": "stderr",
                    "output_type": "stream",
                    "text": [
                        "\r",
                        " 46%|█████████████████████████████████████▌                                            | 27/59 [00:28<00:22,  1.39it/s]"
                    ]
                },
                {
                    "name": "stdout",
                    "output_type": "stream",
                    "text": [
                        "35 Rear position lamps.xlsx\n"
                    ]
                },
                {
                    "name": "stderr",
                    "output_type": "stream",
                    "text": [
                        "\r",
                        " 47%|██████████████████████████████████████▉                                           | 28/59 [00:29<00:18,  1.68it/s]"
                    ]
                },
                {
                    "name": "stdout",
                    "output_type": "stream",
                    "text": [
                        "39 End-outline marker lamp.xlsx\n"
                    ]
                },
                {
                    "name": "stderr",
                    "output_type": "stream",
                    "text": [
                        "\r",
                        " 49%|████████████████████████████████████████▎                                         | 29/59 [00:29<00:14,  2.03it/s]"
                    ]
                },
                {
                    "name": "stdout",
                    "output_type": "stream",
                    "text": [
                        "41-0 Reflex reflectors.xlsx\n"
                    ]
                },
                {
                    "name": "stderr",
                    "output_type": "stream",
                    "text": [
                        "\r",
                        " 51%|█████████████████████████████████████████▋                                        | 30/59 [00:29<00:13,  2.17it/s]"
                    ]
                },
                {
                    "name": "stdout",
                    "output_type": "stream",
                    "text": [
                        "42-3 Dynamic Braking.xlsx\n"
                    ]
                },
                {
                    "name": "stderr",
                    "output_type": "stream",
                    "text": [
                        "\r",
                        " 53%|███████████████████████████████████████████                                       | 31/59 [00:31<00:23,  1.19it/s]"
                    ]
                },
                {
                    "name": "stdout",
                    "output_type": "stream",
                    "text": [
                        "44-1 Steering control system.xlsx\n",
                        "48-2 Safety belt anchorage.xlsx\n"
                    ]
                },
                {
                    "name": "stderr",
                    "output_type": "stream",
                    "text": [
                        "\r",
                        " 56%|█████████████████████████████████████████████▊                                    | 33/59 [00:31<00:16,  1.56it/s]"
                    ]
                },
                {
                    "name": "stdout",
                    "output_type": "stream",
                    "text": [
                        "49-1 Seats.xlsx\n",
                        "50 Head restraint.xlsx\n"
                    ]
                },
                {
                    "name": "stderr",
                    "output_type": "stream",
                    "text": [
                        "\r",
                        " 59%|████████████████████████████████████████████████▋                                 | 35/59 [00:32<00:11,  2.02it/s]"
                    ]
                },
                {
                    "name": "stdout",
                    "output_type": "stream",
                    "text": [
                        "51-2 Door latches and retention components.xlsx\n",
                        "52-2 Headlamps (headlamps of gas-discharge type excluded).xlsx\n"
                    ]
                },
                {
                    "name": "stderr",
                    "output_type": "stream",
                    "text": [
                        "\r",
                        " 63%|███████████████████████████████████████████████████▍                              | 37/59 [00:32<00:08,  2.50it/s]"
                    ]
                },
                {
                    "name": "stdout",
                    "output_type": "stream",
                    "text": [
                        "54-3 Prevention of fire risks for large passenger vehicle.xlsx\n"
                    ]
                },
                {
                    "name": "stderr",
                    "output_type": "stream",
                    "text": [
                        "\r",
                        " 64%|████████████████████████████████████████████████████▊                             | 38/59 [00:32<00:07,  2.90it/s]"
                    ]
                },
                {
                    "name": "stdout",
                    "output_type": "stream",
                    "text": [
                        "55 Strength of super structure for large passenger vehicle.xlsx\n"
                    ]
                },
                {
                    "name": "stderr",
                    "output_type": "stream",
                    "text": [
                        "\r",
                        " 66%|██████████████████████████████████████████████████████▏                           | 39/59 [00:32<00:05,  3.64it/s]"
                    ]
                },
                {
                    "name": "stdout",
                    "output_type": "stream",
                    "text": [
                        "56-3 Electromagnetic Compatibility.pdf.xlsx\n"
                    ]
                },
                {
                    "name": "stderr",
                    "output_type": "stream",
                    "text": [
                        "\r",
                        " 68%|███████████████████████████████████████████████████████▌                          | 40/59 [00:33<00:05,  3.27it/s]"
                    ]
                },
                {
                    "name": "stdout",
                    "output_type": "stream",
                    "text": [
                        "58 The frameíªs fatigue strength of small-light moped.pdf.xlsx\n",
                        "59-1 Adaptive front lighting system (AFS).pdf.xlsx\n"
                    ]
                },
                {
                    "name": "stderr",
                    "output_type": "stream",
                    "text": [
                        "\r",
                        " 71%|██████████████████████████████████████████████████████████▎                       | 42/59 [00:33<00:04,  4.04it/s]"
                    ]
                },
                {
                    "name": "stdout",
                    "output_type": "stream",
                    "text": [
                        "61 The installation of the mechanical coupling device or component.pdf.xlsx\n",
                        "62 Mechanical coupling device or component.pdf.xlsx\n"
                    ]
                },
                {
                    "name": "stderr",
                    "output_type": "stream",
                    "text": [
                        "\r",
                        " 75%|█████████████████████████████████████████████████████████████▏                    | 44/59 [00:33<00:03,  4.47it/s]"
                    ]
                },
                {
                    "name": "stdout",
                    "output_type": "stream",
                    "text": [
                        "63-1 Low floor vehicle.pdf.xlsx\n"
                    ]
                },
                {
                    "name": "stderr",
                    "output_type": "stream",
                    "text": [
                        "\r",
                        " 76%|██████████████████████████████████████████████████████████████▌                   | 45/59 [00:34<00:03,  3.62it/s]"
                    ]
                },
                {
                    "name": "stdout",
                    "output_type": "stream",
                    "text": [
                        "66 fuel tank.pdf.xlsx\n"
                    ]
                },
                {
                    "name": "stderr",
                    "output_type": "stream",
                    "text": [
                        "\r",
                        " 78%|███████████████████████████████████████████████████████████████▉                  | 46/59 [00:34<00:02,  4.46it/s]"
                    ]
                },
                {
                    "name": "stdout",
                    "output_type": "stream",
                    "text": [
                        "70 Lane departure warning system.pdf.xlsx\n",
                        "72 Advanced emergency braking system.pdf.xlsx\n"
                    ]
                },
                {
                    "name": "stderr",
                    "output_type": "stream",
                    "text": [
                        "\r",
                        " 81%|██████████████████████████████████████████████████████████████████▋               | 48/59 [00:34<00:02,  5.42it/s]"
                    ]
                },
                {
                    "name": "stdout",
                    "output_type": "stream",
                    "text": [
                        "73 Daytime running lamp.xlsx\n",
                        "74 LED light sources.pdf.xlsx\n"
                    ]
                },
                {
                    "name": "stderr",
                    "output_type": "stream",
                    "text": [
                        "\r",
                        " 85%|█████████████████████████████████████████████████████████████████████▍            | 50/59 [00:34<00:01,  6.82it/s]"
                    ]
                },
                {
                    "name": "stdout",
                    "output_type": "stream",
                    "text": [
                        "76 Speed limitation devices.pdf.xlsx\n",
                        "77 External projections.pdf.xlsx\n"
                    ]
                },
                {
                    "name": "stderr",
                    "output_type": "stream",
                    "text": [
                        "\r",
                        " 88%|████████████████████████████████████████████████████████████████████████▎         | 52/59 [00:35<00:01,  5.42it/s]"
                    ]
                },
                {
                    "name": "stdout",
                    "output_type": "stream",
                    "text": [
                        "78 External projections (commercial vehicle).pdf.xlsx\n"
                    ]
                },
                {
                    "name": "stderr",
                    "output_type": "stream",
                    "text": [
                        "\r",
                        " 90%|█████████████████████████████████████████████████████████████████████████▋        | 53/59 [00:35<00:01,  4.19it/s]"
                    ]
                },
                {
                    "name": "stdout",
                    "output_type": "stream",
                    "text": [
                        "79 Rear marking plates for heavy and long vehicles.pdf.xlsx\n",
                        "83 Specifications of specific components for the compressed hydrogen storage system.pdf.xlsx\n"
                    ]
                },
                {
                    "name": "stderr",
                    "output_type": "stream",
                    "text": [
                        "\r",
                        " 93%|████████████████████████████████████████████████████████████████████████████▍     | 55/59 [00:35<00:00,  5.03it/s]"
                    ]
                },
                {
                    "name": "stdout",
                    "output_type": "stream",
                    "text": [
                        "84 Brake assist systems.pdf.xlsx\n",
                        "86 Rear-end collision for prevention of fuel tank fire risks.pdf.xlsx\n"
                    ]
                },
                {
                    "name": "stderr",
                    "output_type": "stream",
                    "text": [
                        "\r",
                        " 97%|███████████████████████████████████████████████████████████████████████████████▏  | 57/59 [00:35<00:00,  6.08it/s]"
                    ]
                },
                {
                    "name": "stdout",
                    "output_type": "stream",
                    "text": [
                        "89 Specifications of the compressed hydrogen storage system(L).pdf.xlsx\n",
                        "90 Specifications of specific components for the compressed hydrogen storage system(L).pdf.xlsx\n"
                    ]
                },
                {
                    "name": "stderr",
                    "output_type": "stream",
                    "text": [
                        "100%|██████████████████████████████████████████████████████████████████████████████████| 59/59 [00:36<00:00,  7.07it/s]\n"
                    ]
                }
            ],
            "source": [
                "train_data = read_labeled_data(data_path=LABELED_DATA)"
            ]
        },
        {
            "cell_type": "code",
            "execution_count": 11,
            "metadata": {},
            "outputs": [
                {
                    "data": {
                        "text/plain": [
                            "1129"
                        ]
                    },
                    "execution_count": 11,
                    "metadata": {},
                    "output_type": "execute_result"
                }
            ],
            "source": [
                "len(train_data)"
            ]
        },
        {
            "cell_type": "code",
            "execution_count": 12,
            "metadata": {},
            "outputs": [],
            "source": [
                "tokenized_df = train_data"
            ]
        },
        {
            "cell_type": "code",
            "execution_count": 13,
            "metadata": {},
            "outputs": [
                {
                    "data": {
                        "image/png": "[encoded data removed]",
                        "text/plain": [
                            "<Figure size 432x288 with 1 Axes>"
                        ]
                    },
                    "metadata": {
                        "needs_background": "light"
                    },
                    "output_type": "display_data"
                }
            ],
            "source": [
                "count = tokenized_df.groupby(by=\"label\").count().reset_index()\n",
                "num2label = {0: \"NoRelation\",\n",
                "             1: \"MinValue\",\n",
                "             2: \"MaxValue\",\n",
                "             3: \"IsValue\"}\n",
                "count[\"label\"] = count[\"label\"].apply(lambda x: num2label[x])\n",
                "bar = count.plot(kind=\"bar\",x=\"label\", y=\"Text\",rot=0)\n"
            ]
        },
        {
            "cell_type": "code",
            "execution_count": 14,
            "metadata": {},
            "outputs": [],
            "source": [
                "doc = nlp(\"The mean wind speed measured at a height of at least 1 m above the ground shall be less than 6 m/s with gusts not exceeding 10 m/s.\")"
            ]
        },
        {
            "cell_type": "code",
            "execution_count": 15,
            "metadata": {},
            "outputs": [
                {
                    "data": {
                        "text/html": [
                            "<div class=\"entities\" style=\"line-height: 2.5; direction: ltr\">The mean wind speed measured at a height of at least \n",
                            "<mark class=\"entity\" style=\"background: #ddd; padding: 0.45em 0.6em; margin: 0 0.25em; line-height: 1; border-radius: 0.35em;\">\n",
                            "    1 m\n",
                            "    <span style=\"font-size: 0.8em; font-weight: bold; line-height: 1; border-radius: 0.35em; text-transform: uppercase; vertical-align: middle; margin-left: 0.5rem\">QuantitativeValue</span>\n",
                            "</mark>\n",
                            " above the ground shall be less than \n",
                            "<mark class=\"entity\" style=\"background: #ddd; padding: 0.45em 0.6em; margin: 0 0.25em; line-height: 1; border-radius: 0.35em;\">\n",
                            "    6 m/s\n",
                            "    <span style=\"font-size: 0.8em; font-weight: bold; line-height: 1; border-radius: 0.35em; text-transform: uppercase; vertical-align: middle; margin-left: 0.5rem\">QuantitativeValue</span>\n",
                            "</mark>\n",
                            " with gusts not exceeding \n",
                            "<mark class=\"entity\" style=\"background: #ddd; padding: 0.45em 0.6em; margin: 0 0.25em; line-height: 1; border-radius: 0.35em;\">\n",
                            "    10 m/s\n",
                            "    <span style=\"font-size: 0.8em; font-weight: bold; line-height: 1; border-radius: 0.35em; text-transform: uppercase; vertical-align: middle; margin-left: 0.5rem\">QuantitativeValue</span>\n",
                            "</mark>\n",
                            ".</div>"
                        ],
                        "text/plain": [
                            "<IPython.core.display.HTML object>"
                        ]
                    },
                    "metadata": {},
                    "output_type": "display_data"
                }
            ],
            "source": [
                "displacy.render(doc,style='ent')"
            ]
        },
        {
            "cell_type": "code",
            "execution_count": 16,
            "metadata": {},
            "outputs": [],
            "source": [
                "tokenizer = BertTokenizer.from_pretrained(\"bert-base-cased\")\n",
                "#bert_model = BertModel.from_pretrained(\"bert-base-cased\")"
            ]
        },
        {
            "cell_type": "code",
            "execution_count": 17,
            "metadata": {},
            "outputs": [],
            "source": [
                "def bert_token_pre(dataframe, index, output = \"all\"):\n",
                "    \"\"\"\n",
                "    output: \"all\"- output whole sentence\n",
                "    output: \"sub\" - output separately \n",
                "    \"\"\"\n",
                "    end = max(dataframe.loc[index, \"Quant_Token\"][1],dataframe.loc[index, \"target_Token\"][1])\n",
                "    start = min(dataframe.loc[index, \"Quant_Token\"][1],dataframe.loc[index, \"target_Token\"][1])\n",
                "    span_before = \" \".join([t.text for t in dataframe.loc[index,\"Tokens\"][:start-1]])\n",
                "    span_current = \" \".join([t.text for t in dataframe.loc[index, \"Tokens\"][start:end+1]])\n",
                "    span_after = \" \".join([t.text for t in dataframe.loc[index, \"Tokens\"][end+1:]])\n",
                "    ber_tok_before = tokenizer.tokenize(span_before)\n",
                "    ber_tok_span = tokenizer.tokenize(span_current)\n",
                "    ber_tok_after = tokenizer.tokenize(span_after)\n",
                "    ber_tok_all = ber_tok_before + ber_tok_span + ber_tok_after\n",
                "    if output == \"all\":\n",
                "        return ber_tok_all\n",
                "    elif output == \"sub\":\n",
                "        return ber_tok_before, ber_tok_span, ber_tok_after"
            ]
        },
        {
            "cell_type": "raw",
            "metadata": {},
            "source": [
                "whole_sent = bert_token_pre(tokenized_df, 0, output = \"all\")\n",
                "bf, main, af = bert_token_pre(tokenized_df,0,output = \"sub\")\n",
                "whole_sent[len(bf):-len(af)]"
            ]
        },
        {
            "cell_type": "code",
            "execution_count": 18,
            "metadata": {},
            "outputs": [],
            "source": [
                "# well let's first get out all the bert embedding\n",
                "tokenized_df_bert = tokenized_df[tokenized_df.Sent_Span!=None]\n",
                "tokenized_df_bert = tokenized_df_bert[tokenized_df_bert.Quant_Token != (None,None)]\n",
                "tokenized_df_bert = tokenized_df_bert[tokenized_df_bert.target_Token!=(None,None)]\n",
                "tokenized_df_bert = tokenized_df_bert.reset_index(drop=True)"
            ]
        },
        {
            "cell_type": "code",
            "execution_count": 19,
            "metadata": {},
            "outputs": [
                {
                    "data": {
                        "text/plain": [
                            "1129"
                        ]
                    },
                    "execution_count": 19,
                    "metadata": {},
                    "output_type": "execute_result"
                }
            ],
            "source": [
                "len(tokenized_df_bert)"
            ]
        },
        {
            "cell_type": "code",
            "execution_count": 20,
            "metadata": {},
            "outputs": [],
            "source": [
                "MAXTEXTSPAN=max(tokenized_df_bert[\"Sent_Span\"].apply(lambda x: len(x)))"
            ]
        },
        {
            "cell_type": "code",
            "execution_count": 21,
            "metadata": {},
            "outputs": [],
            "source": [
                "#tokenizer.encode_plus(tokenized_df.loc[0,\"Text\"],)\n",
                "def padding(tokenized_list, max_length):\n",
                "    if len(tokenized_list) < max_length:\n",
                "        tokens = [\"[CLS]\"] + tokenized_list + [\"[SEP]\"] + (max_length - len(tokenized_list))*[\"[PAD]\"]\n",
                "    else:\n",
                "        tokens = [\"[CLS]\"] + tokenized_list + [\"[SEP]\"]\n",
                "    return tokens\n",
                "    "
            ]
        },
        {
            "cell_type": "code",
            "execution_count": 22,
            "metadata": {},
            "outputs": [
                {
                    "data": {
                        "text/plain": [
                            "201"
                        ]
                    },
                    "execution_count": 22,
                    "metadata": {},
                    "output_type": "execute_result"
                }
            ],
            "source": [
                "# 1. add [CLS] [SEP] tokens\n",
                "def output_maxlen(dataframe):\n",
                "    maxlen = 0\n",
                "    maxlen = max([len(tokenizer.tokenize(text)) for text in dataframe[\"Text\"]])\n",
                "    return maxlen\n",
                "MAX_LEN = output_maxlen(tokenized_df)\n",
                "MAX_LEN"
            ]
        },
        {
            "cell_type": "code",
            "execution_count": 23,
            "metadata": {},
            "outputs": [],
            "source": [
                "model = BertModel.from_pretrained(\"bert-base-cased\")"
            ]
        },
        {
            "cell_type": "code",
            "execution_count": 41,
            "metadata": {},
            "outputs": [],
            "source": [
                "# prepare for input_id\n",
                "def get_hidden_state(dataframe):\n",
                "    input_ids = []\n",
                "    attention_masks = []\n",
                "    for index in range(len(dataframe)):\n",
                "        tokenized_list = bert_token_pre(dataframe, index, output = \"all\")\n",
                "        padded = padding(tokenized_list, output_maxlen(dataframe))\n",
                "        attention_mask = [1 if t!=\"[PAD]\" else 0 for t in padded]\n",
                "        encoded = tokenizer.encode_plus(padded, add_special_tokens=False, pad_to_max_length=True,\n",
                "                                       is_pretokenized = True, return_tensors=\"pt\")\n",
                "        input_id = encoded[\"input_ids\"]\n",
                "        input_ids.append(input_id)\n",
                "        attention_masks.append(torch.tensor(attention_mask))\n",
                "    print(len(input_ids))\n",
                "    print(len(attention_masks))\n",
                "    input_ids = torch.cat(input_ids, dim=0)\n",
                "    ats = torch.cat(attention_masks, dim=0)\n",
                "\n",
                "    with torch.no_grad():\n",
                "        last_hidden_states = model(input_ids=input_ids)[0].numpy()\n",
                "    return last_hidden_states\n",
                "        "
            ]
        },
        {
            "cell_type": "code",
            "execution_count": null,
            "metadata": {},
            "outputs": [],
            "source": []
        },
        {
            "cell_type": "code",
            "execution_count": 25,
            "metadata": {},
            "outputs": [],
            "source": [
                "def generate_train_data(train_df, last_hidden_states_np):\n",
                "    length_bert_tokens = []\n",
                "    lstm_inputs = []\n",
                "    for i in range(len(train_df)):\n",
                "        bf, span, after = bert_token_pre(train_df, i, output = \"sub\")\n",
                "        all_bert_tokens = bert_token_pre(train_df, i, output = \"all\")\n",
                "        bert_index = (len(bf),len(after))\n",
                "        #print(bert_index)\n",
                "        length_bert_tokens.append(len(all_bert_tokens[len(bf):len(bf)+len(span)]))\n",
                "        bert_span_start = len(bf)+1\n",
                "        bert_span_end = len(bf)+len(span)\n",
                "        hidden_state = last_hidden_states_np[i,len(bf):len(bf)+len(span),:]\n",
                "        lstm_inputs.append(hidden_state)\n",
                "    padded = pad_sequences(lstm_inputs, maxlen=MAXTEXTSPAN, padding='post')\n",
                "    return padded\n",
                "    "
            ]
        },
        {
            "cell_type": "code",
            "execution_count": 26,
            "metadata": {},
            "outputs": [],
            "source": [
                "num_classes = len(set(tokenized_df_bert[\"label\"]))"
            ]
        },
        {
            "cell_type": "code",
            "execution_count": 27,
            "metadata": {},
            "outputs": [],
            "source": [
                "SEN_LEN = MAXTEXTSPAN\n",
                "DIM = 768"
            ]
        },
        {
            "cell_type": "code",
            "execution_count": 28,
            "metadata": {},
            "outputs": [
                {
                    "data": {
                        "text/plain": [
                            "52"
                        ]
                    },
                    "execution_count": 28,
                    "metadata": {},
                    "output_type": "execute_result"
                }
            ],
            "source": [
                "SEN_LEN"
            ]
        },
        {
            "cell_type": "code",
            "execution_count": 29,
            "metadata": {},
            "outputs": [
                {
                    "name": "stdout",
                    "output_type": "stream",
                    "text": [
                        "Model: \"bertforRX\"\n",
                        "__________________________________________________________________________________________________\n",
                        "Layer (type)                    Output Shape         Param #     Connected to                     \n",
                        "==================================================================================================\n",
                        "input_1 (InputLayer)            (None, 52, 768)      0                                            \n",
                        "__________________________________________________________________________________________________\n",
                        "lstm_1 (LSTM)                   [(None, 52, 768), (N 4721664     input_1[0][0]                    \n",
                        "__________________________________________________________________________________________________\n",
                        "lstm_2 (LSTM)                   [(None, 768), (None, 4721664     lstm_1[0][0]                     \n",
                        "__________________________________________________________________________________________________\n",
                        "concatenate_1 (Concatenate)     (None, 1536)         0           lstm_1[0][1]                     \n",
                        "                                                                 lstm_2[0][1]                     \n",
                        "__________________________________________________________________________________________________\n",
                        "dense_1 (Dense)                 (None, 4)            6148        concatenate_1[0][0]              \n",
                        "==================================================================================================\n",
                        "Total params: 9,449,476\n",
                        "Trainable params: 9,449,476\n",
                        "Non-trainable params: 0\n",
                        "__________________________________________________________________________________________________\n"
                    ]
                }
            ],
            "source": [
                "Bert_input = Input(shape=(SEN_LEN,DIM))\n",
                "X, X_lstm1, _ = LSTM(768, dropout=0.3, return_state=True, return_sequences=True)(Bert_input)\n",
                "X, X_lstm2, _ = LSTM(768, dropout=0.3, go_backwards=True, return_state=True)(X)\n",
                "X = Concatenate()([X_lstm1,X_lstm2])\n",
                "X= Dense(4, activation=\"softmax\")(X)\n",
                "\n",
                "general_model = Model(Bert_input,X, name=\"bertforRX\")\n",
                "general_model.summary()"
            ]
        },
        {
            "cell_type": "code",
            "execution_count": 30,
            "metadata": {},
            "outputs": [],
            "source": [
                "from keras.optimizers import Adam\n",
                "general_model.compile(Adam(5e-5), loss='categorical_crossentropy', metrics=['accuracy'])"
            ]
        },
        {
            "cell_type": "code",
            "execution_count": 31,
            "metadata": {},
            "outputs": [],
            "source": [
                "from keras.utils import to_categorical\n",
                "from sklearn.model_selection import train_test_split\n",
                "num2label = {0:\"NoRelation\",\n",
                "             1:\"MinValue\",\n",
                "             2: \"MaxValue\",\n",
                "             3: \"IsValue\"}"
            ]
        },
        {
            "cell_type": "code",
            "execution_count": 32,
            "metadata": {},
            "outputs": [],
            "source": [
                "X_train, X_test, y_train, y_test = train_test_split(tokenized_df_bert.loc[:,~tokenized_df_bert.columns.isin([\"label\"])], tokenized_df_bert[\"label\"], test_size=0.2, random_state=42)"
            ]
        },
        {
            "cell_type": "markdown",
            "metadata": {},
            "source": [
                "## base model"
            ]
        },
        {
            "cell_type": "code",
            "execution_count": 33,
            "metadata": {},
            "outputs": [],
            "source": [
                "X_train[\"span\"] = X_train[\"Sent_Span\"].apply(lambda x: [k.text for k in x])\n",
                "X_test[\"span\"] = X_test[\"Sent_Span\"].apply(lambda x:[k.text for k in x])\n",
                "X_train[\"pos\"] = X_train[\"Sent_Span\"].apply(lambda x: [k.pos_ for k in x])\n",
                "X_test[\"pos\"] = X_test[\"Sent_Span\"].apply(lambda x: [k.pos_ for k in x])\n",
                "X_train[\"dep\"] = X_train[\"Sent_Span\"].apply(lambda x: [k.dep_ for k in x])\n",
                "X_test[\"dep\"] = X_test[\"Sent_Span\"].apply(lambda x: [k.dep_ for k in x])"
            ]
        },
        {
            "cell_type": "code",
            "execution_count": 34,
            "metadata": {},
            "outputs": [],
            "source": [
                "for df in [X_train, X_test, y_train, y_test]:\n",
                "    df.reset_index(drop=True, inplace=True)"
            ]
        },
        {
            "cell_type": "code",
            "execution_count": 35,
            "metadata": {},
            "outputs": [],
            "source": [
                "features_stack_train, features_stack_test = bow_train_feature_stack(X_train, X_test, bow_paradict,\n",
                "                                                                    [\"span\",\"pos\", \"dep\"],bow=False)\n",
                "\n"
            ]
        },
        {
            "cell_type": "code",
            "execution_count": 36,
            "metadata": {},
            "outputs": [
                {
                    "name": "stderr",
                    "output_type": "stream",
                    "text": [
                        "C:\\Users\\sye\\AppData\\Local\\Continuum\\anaconda3\\lib\\site-packages\\sklearn\\linear_model\\logistic.py:460: FutureWarning: Default multi_class will be changed to 'auto' in 0.22. Specify the multi_class option to silence this warning.\n",
                        "  \"this warning.\", FutureWarning)\n"
                    ]
                },
                {
                    "name": "stdout",
                    "output_type": "stream",
                    "text": [
                        "[[40  5  5  8]\n",
                        " [ 4 27  9  0]\n",
                        " [ 2  7 53  0]\n",
                        " [17  1  0 48]]\n",
                        "              precision    recall  f1-score   support\n",
                        "\n",
                        "           0       0.63      0.69      0.66        58\n",
                        "           1       0.68      0.68      0.68        40\n",
                        "           2       0.79      0.85      0.82        62\n",
                        "           3       0.86      0.73      0.79        66\n",
                        "\n",
                        "   micro avg       0.74      0.74      0.74       226\n",
                        "   macro avg       0.74      0.74      0.74       226\n",
                        "weighted avg       0.75      0.74      0.74       226\n",
                        "\n",
                        "0.7433628318584071\n"
                    ]
                }
            ],
            "source": [
                "lr = LogisticRegression(random_state=45,solver=\"lbfgs\").fit(features_stack_train,y_train)\n",
                "y_pred=lr.predict(features_stack_test)\n",
                "print(confusion_matrix(y_test,y_pred))\n",
                "print(classification_report(y_test,y_pred))\n",
                "print(accuracy_score(y_test, y_pred))"
            ]
        },
        {
            "cell_type": "code",
            "execution_count": 37,
            "metadata": {},
            "outputs": [
                {
                    "name": "stdout",
                    "output_type": "stream",
                    "text": [
                        "[[43  5  5  5]\n",
                        " [ 3 28  9  0]\n",
                        " [ 2  7 53  0]\n",
                        " [14  1  1 50]]\n",
                        "              precision    recall  f1-score   support\n",
                        "\n",
                        "           0       0.69      0.74      0.72        58\n",
                        "           1       0.68      0.70      0.69        40\n",
                        "           2       0.78      0.85      0.82        62\n",
                        "           3       0.91      0.76      0.83        66\n",
                        "\n",
                        "   micro avg       0.77      0.77      0.77       226\n",
                        "   macro avg       0.77      0.76      0.76       226\n",
                        "weighted avg       0.78      0.77      0.77       226\n",
                        "\n",
                        "0.7699115044247787\n"
                    ]
                }
            ],
            "source": [
                "svclassifier = SVC(kernel='linear')\n",
                "svclassifier.fit(features_stack_train,y_train)\n",
                "y_pred = svclassifier.predict(features_stack_test)\n",
                "\n",
                "print(confusion_matrix(y_test,y_pred))\n",
                "print(classification_report(y_test,y_pred))\n",
                "print(accuracy_score(y_test, y_pred))"
            ]
        },
        {
            "cell_type": "markdown",
            "metadata": {},
            "source": [
                "## end of base model"
            ]
        },
        {
            "cell_type": "code",
            "execution_count": 42,
            "metadata": {},
            "outputs": [
                {
                    "name": "stdout",
                    "output_type": "stream",
                    "text": [
                        "903\n",
                        "903\n",
                        "226\n",
                        "226\n"
                    ]
                }
            ],
            "source": [
                "# prepare train and test data\n",
                "train_last_hidden_states_np = get_hidden_state(X_train)\n",
                "X_train_input = generate_train_data(X_train, train_last_hidden_states_np)\n",
                "test_last_hidden_states_np = get_hidden_state(X_test)\n",
                "X_test_input = generate_train_data(X_test, test_last_hidden_states_np)"
            ]
        },
        {
            "cell_type": "code",
            "execution_count": 43,
            "metadata": {},
            "outputs": [
                {
                    "data": {
                        "text/plain": [
                            "(903, 52, 768)"
                        ]
                    },
                    "execution_count": 43,
                    "metadata": {},
                    "output_type": "execute_result"
                }
            ],
            "source": [
                "X_train_input.shape"
            ]
        },
        {
            "cell_type": "code",
            "execution_count": 44,
            "metadata": {},
            "outputs": [
                {
                    "name": "stdout",
                    "output_type": "stream",
                    "text": [
                        "Train on 903 samples, validate on 226 samples\n",
                        "Epoch 1/100\n",
                        "903/903 [==============================] - ETA: 1:15 - loss: 1.3654 - accuracy: 0.37 - ETA: 1:01 - loss: 1.3797 - accuracy: 0.31 - ETA: 56s - loss: 1.3832 - accuracy: 0.2917 - ETA: 53s - loss: 1.3896 - accuracy: 0.289 - ETA: 49s - loss: 1.3869 - accuracy: 0.287 - ETA: 47s - loss: 1.3845 - accuracy: 0.296 - ETA: 44s - loss: 1.3814 - accuracy: 0.312 - ETA: 42s - loss: 1.3827 - accuracy: 0.312 - ETA: 39s - loss: 1.3782 - accuracy: 0.333 - ETA: 37s - loss: 1.3754 - accuracy: 0.334 - ETA: 35s - loss: 1.3763 - accuracy: 0.329 - ETA: 33s - loss: 1.3741 - accuracy: 0.330 - ETA: 31s - loss: 1.3751 - accuracy: 0.322 - ETA: 28s - loss: 1.3770 - accuracy: 0.312 - ETA: 26s - loss: 1.3750 - accuracy: 0.316 - ETA: 24s - loss: 1.3738 - accuracy: 0.318 - ETA: 22s - loss: 1.3728 - accuracy: 0.321 - ETA: 20s - loss: 1.3712 - accuracy: 0.328 - ETA: 18s - loss: 1.3698 - accuracy: 0.335 - ETA: 16s - loss: 1.3666 - accuracy: 0.342 - ETA: 14s - loss: 1.3652 - accuracy: 0.345 - ETA: 12s - loss: 1.3645 - accuracy: 0.349 - ETA: 10s - loss: 1.3632 - accuracy: 0.350 - ETA: 8s - loss: 1.3608 - accuracy: 0.354 - ETA: 6s - loss: 1.3594 - accuracy: 0.35 - ETA: 4s - loss: 1.3585 - accuracy: 0.36 - ETA: 2s - loss: 1.3563 - accuracy: 0.36 - ETA: 0s - loss: 1.3533 - accuracy: 0.37 - 61s 68ms/step - loss: 1.3532 - accuracy: 0.3732 - val_loss: 1.3188 - val_accuracy: 0.4292\n",
                        "Epoch 2/100\n",
                        "903/903 [==============================] - ETA: 55s - loss: 1.3200 - accuracy: 0.437 - ETA: 53s - loss: 1.3209 - accuracy: 0.453 - ETA: 52s - loss: 1.3252 - accuracy: 0.458 - ETA: 50s - loss: 1.3266 - accuracy: 0.460 - ETA: 48s - loss: 1.3245 - accuracy: 0.443 - ETA: 46s - loss: 1.3249 - accuracy: 0.442 - ETA: 44s - loss: 1.3164 - accuracy: 0.446 - ETA: 42s - loss: 1.3118 - accuracy: 0.449 - ETA: 40s - loss: 1.3022 - accuracy: 0.465 - ETA: 38s - loss: 1.3016 - accuracy: 0.459 - ETA: 36s - loss: 1.2998 - accuracy: 0.463 - ETA: 34s - loss: 1.3008 - accuracy: 0.460 - ETA: 32s - loss: 1.2958 - accuracy: 0.459 - ETA: 30s - loss: 1.2972 - accuracy: 0.453 - ETA: 28s - loss: 1.2905 - accuracy: 0.464 - ETA: 26s - loss: 1.2894 - accuracy: 0.466 - ETA: 24s - loss: 1.2868 - accuracy: 0.466 - ETA: 22s - loss: 1.2853 - accuracy: 0.468 - ETA: 20s - loss: 1.2837 - accuracy: 0.467 - ETA: 18s - loss: 1.2834 - accuracy: 0.460 - ETA: 15s - loss: 1.2759 - accuracy: 0.470 - ETA: 13s - loss: 1.2737 - accuracy: 0.473 - ETA: 11s - loss: 1.2685 - accuracy: 0.481 - ETA: 9s - loss: 1.2644 - accuracy: 0.488 - ETA: 7s - loss: 1.2625 - accuracy: 0.49 - ETA: 4s - loss: 1.2598 - accuracy: 0.48 - ETA: 2s - loss: 1.2557 - accuracy: 0.49 - ETA: 0s - loss: 1.2493 - accuracy: 0.49 - 66s 73ms/step - loss: 1.2476 - accuracy: 0.4994 - val_loss: 1.1818 - val_accuracy: 0.4690\n",
                        "Epoch 3/100\n",
                        "903/903 [==============================] - ETA: 57s - loss: 1.1079 - accuracy: 0.625 - ETA: 54s - loss: 1.1152 - accuracy: 0.546 - ETA: 52s - loss: 1.1399 - accuracy: 0.500 - ETA: 50s - loss: 1.1247 - accuracy: 0.515 - ETA: 49s - loss: 1.1263 - accuracy: 0.543 - ETA: 47s - loss: 1.1233 - accuracy: 0.552 - ETA: 46s - loss: 1.1273 - accuracy: 0.540 - ETA: 44s - loss: 1.1188 - accuracy: 0.546 - ETA: 42s - loss: 1.1096 - accuracy: 0.555 - ETA: 40s - loss: 1.0944 - accuracy: 0.571 - ETA: 37s - loss: 1.0992 - accuracy: 0.568 - ETA: 35s - loss: 1.0964 - accuracy: 0.567 - ETA: 33s - loss: 1.0908 - accuracy: 0.564 - ETA: 31s - loss: 1.0891 - accuracy: 0.564 - ETA: 29s - loss: 1.0823 - accuracy: 0.562 - ETA: 27s - loss: 1.0785 - accuracy: 0.562 - ETA: 25s - loss: 1.0692 - accuracy: 0.566 - ETA: 22s - loss: 1.0744 - accuracy: 0.562 - ETA: 20s - loss: 1.0743 - accuracy: 0.564 - ETA: 18s - loss: 1.0713 - accuracy: 0.564 - ETA: 16s - loss: 1.0804 - accuracy: 0.562 - ETA: 13s - loss: 1.0766 - accuracy: 0.565 - ETA: 11s - loss: 1.0705 - accuracy: 0.569 - ETA: 9s - loss: 1.0631 - accuracy: 0.571 - ETA: 7s - loss: 1.0522 - accuracy: 0.57 - ETA: 5s - loss: 1.0485 - accuracy: 0.57 - ETA: 2s - loss: 1.0444 - accuracy: 0.58 - ETA: 0s - loss: 1.0429 - accuracy: 0.58 - 68s 75ms/step - loss: 1.0397 - accuracy: 0.5847 - val_loss: 0.9828 - val_accuracy: 0.5796\n",
                        "Epoch 4/100\n",
                        "903/903 [==============================] - ETA: 56s - loss: 1.0614 - accuracy: 0.531 - ETA: 54s - loss: 1.0089 - accuracy: 0.578 - ETA: 52s - loss: 1.0071 - accuracy: 0.562 - ETA: 51s - loss: 0.9253 - accuracy: 0.601 - ETA: 49s - loss: 0.9386 - accuracy: 0.587 - ETA: 47s - loss: 0.9315 - accuracy: 0.593 - ETA: 45s - loss: 0.9305 - accuracy: 0.598 - ETA: 43s - loss: 0.9633 - accuracy: 0.601 - ETA: 41s - loss: 0.9499 - accuracy: 0.607 - ETA: 39s - loss: 0.9547 - accuracy: 0.621 - ETA: 37s - loss: 0.9391 - accuracy: 0.622 - ETA: 35s - loss: 0.9430 - accuracy: 0.617 - ETA: 33s - loss: 0.9489 - accuracy: 0.617 - ETA: 31s - loss: 0.9404 - accuracy: 0.622 - ETA: 29s - loss: 0.9230 - accuracy: 0.631 - ETA: 27s - loss: 0.9095 - accuracy: 0.634 - ETA: 25s - loss: 0.9025 - accuracy: 0.634 - ETA: 22s - loss: 0.8935 - accuracy: 0.638 - ETA: 20s - loss: 0.8735 - accuracy: 0.644 - ETA: 18s - loss: 0.8690 - accuracy: 0.643 - ETA: 16s - loss: 0.8615 - accuracy: 0.648 - ETA: 13s - loss: 0.8573 - accuracy: 0.647 - ETA: 11s - loss: 0.8518 - accuracy: 0.652 - ETA: 9s - loss: 0.8430 - accuracy: 0.653 - ETA: 7s - loss: 0.8389 - accuracy: 0.65 - ETA: 4s - loss: 0.8436 - accuracy: 0.65 - ETA: 2s - loss: 0.8414 - accuracy: 0.65 - ETA: 0s - loss: 0.8346 - accuracy: 0.65 - 67s 75ms/step - loss: 0.8351 - accuracy: 0.6567 - val_loss: 0.9518 - val_accuracy: 0.6062\n",
                        "Epoch 5/100\n",
                        "903/903 [==============================] - ETA: 1:02 - loss: 0.8581 - accuracy: 0.71 - ETA: 1:01 - loss: 0.8576 - accuracy: 0.67 - ETA: 58s - loss: 0.8059 - accuracy: 0.6979 - ETA: 55s - loss: 0.8387 - accuracy: 0.656 - ETA: 53s - loss: 0.9519 - accuracy: 0.643 - ETA: 51s - loss: 0.9029 - accuracy: 0.661 - ETA: 48s - loss: 0.9411 - accuracy: 0.651 - ETA: 46s - loss: 0.9100 - accuracy: 0.660 - ETA: 43s - loss: 0.8756 - accuracy: 0.670 - ETA: 41s - loss: 0.8566 - accuracy: 0.671 - ETA: 39s - loss: 0.8472 - accuracy: 0.667 - ETA: 37s - loss: 0.8535 - accuracy: 0.669 - ETA: 34s - loss: 0.8417 - accuracy: 0.673 - ETA: 32s - loss: 0.8537 - accuracy: 0.662 - ETA: 30s - loss: 0.8675 - accuracy: 0.652 - ETA: 27s - loss: 0.8607 - accuracy: 0.648 - ETA: 25s - loss: 0.8573 - accuracy: 0.654 - ETA: 23s - loss: 0.8594 - accuracy: 0.652 - ETA: 20s - loss: 0.8633 - accuracy: 0.656 - ETA: 18s - loss: 0.8637 - accuracy: 0.653 - ETA: 16s - loss: 0.8599 - accuracy: 0.656 - ETA: 14s - loss: 0.8628 - accuracy: 0.654 - ETA: 11s - loss: 0.8579 - accuracy: 0.661 - ETA: 9s - loss: 0.8529 - accuracy: 0.666 - ETA: 7s - loss: 0.8575 - accuracy: 0.66 - ETA: 5s - loss: 0.8449 - accuracy: 0.66 - ETA: 2s - loss: 0.8431 - accuracy: 0.67 - ETA: 0s - loss: 0.8387 - accuracy: 0.67 - 70s 78ms/step - loss: 0.8387 - accuracy: 0.6733 - val_loss: 0.7842 - val_accuracy: 0.6637\n",
                        "Epoch 6/100\n",
                        "903/903 [==============================] - ETA: 1:04 - loss: 0.8688 - accuracy: 0.62 - ETA: 1:00 - loss: 0.7658 - accuracy: 0.68 - ETA: 58s - loss: 0.7984 - accuracy: 0.6771 - ETA: 56s - loss: 0.7629 - accuracy: 0.671 - ETA: 53s - loss: 0.7677 - accuracy: 0.668 - ETA: 51s - loss: 0.7307 - accuracy: 0.682 - ETA: 48s - loss: 0.7621 - accuracy: 0.656 - ETA: 46s - loss: 0.7648 - accuracy: 0.668 - ETA: 44s - loss: 0.7472 - accuracy: 0.677 - ETA: 41s - loss: 0.7250 - accuracy: 0.690 - ETA: 39s - loss: 0.7188 - accuracy: 0.690 - ETA: 37s - loss: 0.7218 - accuracy: 0.692 - ETA: 34s - loss: 0.7308 - accuracy: 0.687 - ETA: 32s - loss: 0.7328 - accuracy: 0.685 - ETA: 30s - loss: 0.7387 - accuracy: 0.681 - ETA: 27s - loss: 0.7304 - accuracy: 0.687 - ETA: 25s - loss: 0.7234 - accuracy: 0.689 - ETA: 22s - loss: 0.7238 - accuracy: 0.692 - ETA: 20s - loss: 0.7141 - accuracy: 0.699 - ETA: 18s - loss: 0.7162 - accuracy: 0.703 - ETA: 16s - loss: 0.7098 - accuracy: 0.709 - ETA: 13s - loss: 0.7064 - accuracy: 0.715 - ETA: 11s - loss: 0.7058 - accuracy: 0.718 - ETA: 9s - loss: 0.6976 - accuracy: 0.724 - ETA: 7s - loss: 0.6915 - accuracy: 0.72 - ETA: 4s - loss: 0.6835 - accuracy: 0.73 - ETA: 2s - loss: 0.6836 - accuracy: 0.73 - ETA: 0s - loss: 0.6803 - accuracy: 0.72 - 67s 74ms/step - loss: 0.6786 - accuracy: 0.7298 - val_loss: 0.7630 - val_accuracy: 0.7035\n"
                    ]
                },
                {
                    "name": "stdout",
                    "output_type": "stream",
                    "text": [
                        "Epoch 7/100\n",
                        "903/903 [==============================] - ETA: 56s - loss: 0.6206 - accuracy: 0.812 - ETA: 54s - loss: 0.6820 - accuracy: 0.734 - ETA: 52s - loss: 0.6129 - accuracy: 0.750 - ETA: 50s - loss: 0.6184 - accuracy: 0.757 - ETA: 48s - loss: 0.5862 - accuracy: 0.768 - ETA: 46s - loss: 0.5837 - accuracy: 0.760 - ETA: 44s - loss: 0.5955 - accuracy: 0.750 - ETA: 42s - loss: 0.5935 - accuracy: 0.746 - ETA: 40s - loss: 0.6197 - accuracy: 0.743 - ETA: 38s - loss: 0.6389 - accuracy: 0.731 - ETA: 36s - loss: 0.6495 - accuracy: 0.727 - ETA: 34s - loss: 0.6619 - accuracy: 0.726 - ETA: 32s - loss: 0.6598 - accuracy: 0.735 - ETA: 30s - loss: 0.6544 - accuracy: 0.743 - ETA: 27s - loss: 0.6506 - accuracy: 0.743 - ETA: 25s - loss: 0.6441 - accuracy: 0.748 - ETA: 23s - loss: 0.6427 - accuracy: 0.746 - ETA: 21s - loss: 0.6357 - accuracy: 0.748 - ETA: 19s - loss: 0.6345 - accuracy: 0.750 - ETA: 17s - loss: 0.6394 - accuracy: 0.748 - ETA: 15s - loss: 0.6387 - accuracy: 0.747 - ETA: 13s - loss: 0.6365 - accuracy: 0.752 - ETA: 10s - loss: 0.6245 - accuracy: 0.759 - ETA: 8s - loss: 0.6262 - accuracy: 0.757 - ETA: 6s - loss: 0.6175 - accuracy: 0.76 - ETA: 4s - loss: 0.6154 - accuracy: 0.76 - ETA: 2s - loss: 0.6138 - accuracy: 0.76 - ETA: 0s - loss: 0.6117 - accuracy: 0.76 - 63s 70ms/step - loss: 0.6150 - accuracy: 0.7630 - val_loss: 0.7691 - val_accuracy: 0.7080\n",
                        "Epoch 8/100\n",
                        "903/903 [==============================] - ETA: 59s - loss: 0.4996 - accuracy: 0.812 - ETA: 57s - loss: 0.5212 - accuracy: 0.796 - ETA: 55s - loss: 0.4078 - accuracy: 0.854 - ETA: 53s - loss: 0.4445 - accuracy: 0.820 - ETA: 51s - loss: 0.4375 - accuracy: 0.843 - ETA: 49s - loss: 0.4810 - accuracy: 0.828 - ETA: 47s - loss: 0.4710 - accuracy: 0.830 - ETA: 45s - loss: 0.4753 - accuracy: 0.832 - ETA: 42s - loss: 0.4778 - accuracy: 0.833 - ETA: 40s - loss: 0.4975 - accuracy: 0.831 - ETA: 38s - loss: 0.5245 - accuracy: 0.815 - ETA: 35s - loss: 0.5129 - accuracy: 0.825 - ETA: 33s - loss: 0.5250 - accuracy: 0.814 - ETA: 31s - loss: 0.5410 - accuracy: 0.812 - ETA: 28s - loss: 0.5402 - accuracy: 0.810 - ETA: 26s - loss: 0.5376 - accuracy: 0.810 - ETA: 24s - loss: 0.5277 - accuracy: 0.814 - ETA: 22s - loss: 0.5361 - accuracy: 0.814 - ETA: 20s - loss: 0.5324 - accuracy: 0.814 - ETA: 17s - loss: 0.5373 - accuracy: 0.812 - ETA: 15s - loss: 0.5346 - accuracy: 0.817 - ETA: 13s - loss: 0.5291 - accuracy: 0.818 - ETA: 11s - loss: 0.5274 - accuracy: 0.816 - ETA: 9s - loss: 0.5239 - accuracy: 0.816 - ETA: 6s - loss: 0.5288 - accuracy: 0.81 - ETA: 4s - loss: 0.5247 - accuracy: 0.81 - ETA: 2s - loss: 0.5246 - accuracy: 0.81 - ETA: 0s - loss: 0.5178 - accuracy: 0.81 - 65s 72ms/step - loss: 0.5211 - accuracy: 0.8173 - val_loss: 0.6723 - val_accuracy: 0.7257\n",
                        "Epoch 9/100\n",
                        "903/903 [==============================] - ETA: 59s - loss: 0.3813 - accuracy: 0.875 - ETA: 56s - loss: 0.4286 - accuracy: 0.843 - ETA: 54s - loss: 0.4636 - accuracy: 0.833 - ETA: 52s - loss: 0.4880 - accuracy: 0.828 - ETA: 50s - loss: 0.4950 - accuracy: 0.825 - ETA: 48s - loss: 0.4720 - accuracy: 0.828 - ETA: 46s - loss: 0.5162 - accuracy: 0.817 - ETA: 44s - loss: 0.5002 - accuracy: 0.820 - ETA: 41s - loss: 0.4735 - accuracy: 0.826 - ETA: 39s - loss: 0.4787 - accuracy: 0.818 - ETA: 37s - loss: 0.4627 - accuracy: 0.823 - ETA: 35s - loss: 0.4574 - accuracy: 0.828 - ETA: 33s - loss: 0.4538 - accuracy: 0.829 - ETA: 31s - loss: 0.4568 - accuracy: 0.828 - ETA: 28s - loss: 0.4655 - accuracy: 0.829 - ETA: 26s - loss: 0.4695 - accuracy: 0.826 - ETA: 24s - loss: 0.4690 - accuracy: 0.825 - ETA: 22s - loss: 0.4741 - accuracy: 0.826 - ETA: 20s - loss: 0.4726 - accuracy: 0.827 - ETA: 18s - loss: 0.4830 - accuracy: 0.820 - ETA: 15s - loss: 0.4818 - accuracy: 0.821 - ETA: 13s - loss: 0.4902 - accuracy: 0.821 - ETA: 11s - loss: 0.4857 - accuracy: 0.822 - ETA: 9s - loss: 0.4920 - accuracy: 0.819 - ETA: 7s - loss: 0.4888 - accuracy: 0.81 - ETA: 5s - loss: 0.4884 - accuracy: 0.81 - ETA: 2s - loss: 0.4864 - accuracy: 0.81 - ETA: 0s - loss: 0.4870 - accuracy: 0.81 - 68s 76ms/step - loss: 0.4870 - accuracy: 0.8195 - val_loss: 0.6270 - val_accuracy: 0.7566\n",
                        "Epoch 10/100\n",
                        "903/903 [==============================] - ETA: 1:02 - loss: 0.4020 - accuracy: 0.81 - ETA: 59s - loss: 0.4297 - accuracy: 0.8594 - ETA: 57s - loss: 0.4504 - accuracy: 0.822 - ETA: 54s - loss: 0.4692 - accuracy: 0.812 - ETA: 52s - loss: 0.4485 - accuracy: 0.825 - ETA: 49s - loss: 0.4566 - accuracy: 0.817 - ETA: 47s - loss: 0.4695 - accuracy: 0.821 - ETA: 45s - loss: 0.4763 - accuracy: 0.812 - ETA: 42s - loss: 0.4718 - accuracy: 0.809 - ETA: 40s - loss: 0.4743 - accuracy: 0.809 - ETA: 38s - loss: 0.4894 - accuracy: 0.804 - ETA: 36s - loss: 0.4665 - accuracy: 0.815 - ETA: 33s - loss: 0.4621 - accuracy: 0.817 - ETA: 31s - loss: 0.4553 - accuracy: 0.819 - ETA: 29s - loss: 0.4421 - accuracy: 0.825 - ETA: 27s - loss: 0.4284 - accuracy: 0.832 - ETA: 24s - loss: 0.4346 - accuracy: 0.830 - ETA: 22s - loss: 0.4310 - accuracy: 0.835 - ETA: 20s - loss: 0.4252 - accuracy: 0.835 - ETA: 18s - loss: 0.4183 - accuracy: 0.837 - ETA: 16s - loss: 0.4256 - accuracy: 0.834 - ETA: 13s - loss: 0.4199 - accuracy: 0.838 - ETA: 11s - loss: 0.4221 - accuracy: 0.839 - ETA: 9s - loss: 0.4217 - accuracy: 0.839 - ETA: 7s - loss: 0.4309 - accuracy: 0.83 - ETA: 4s - loss: 0.4212 - accuracy: 0.84 - ETA: 2s - loss: 0.4321 - accuracy: 0.83 - ETA: 0s - loss: 0.4296 - accuracy: 0.84 - 67s 74ms/step - loss: 0.4281 - accuracy: 0.8427 - val_loss: 0.7424 - val_accuracy: 0.7434\n",
                        "Epoch 11/100\n",
                        "903/903 [==============================] - ETA: 1:00 - loss: 0.4327 - accuracy: 0.87 - ETA: 57s - loss: 0.3635 - accuracy: 0.8906 - ETA: 55s - loss: 0.2979 - accuracy: 0.906 - ETA: 53s - loss: 0.2931 - accuracy: 0.898 - ETA: 51s - loss: 0.2794 - accuracy: 0.900 - ETA: 49s - loss: 0.3235 - accuracy: 0.890 - ETA: 47s - loss: 0.3256 - accuracy: 0.883 - ETA: 44s - loss: 0.3868 - accuracy: 0.871 - ETA: 42s - loss: 0.3879 - accuracy: 0.864 - ETA: 40s - loss: 0.3999 - accuracy: 0.859 - ETA: 38s - loss: 0.4012 - accuracy: 0.863 - ETA: 36s - loss: 0.3896 - accuracy: 0.864 - ETA: 33s - loss: 0.4120 - accuracy: 0.855 - ETA: 31s - loss: 0.4154 - accuracy: 0.857 - ETA: 29s - loss: 0.4050 - accuracy: 0.862 - ETA: 27s - loss: 0.3975 - accuracy: 0.861 - ETA: 25s - loss: 0.4022 - accuracy: 0.858 - ETA: 23s - loss: 0.3960 - accuracy: 0.861 - ETA: 20s - loss: 0.3938 - accuracy: 0.860 - ETA: 18s - loss: 0.3869 - accuracy: 0.864 - ETA: 16s - loss: 0.3756 - accuracy: 0.869 - ETA: 14s - loss: 0.3757 - accuracy: 0.870 - ETA: 11s - loss: 0.3788 - accuracy: 0.869 - ETA: 9s - loss: 0.3788 - accuracy: 0.869 - ETA: 7s - loss: 0.3743 - accuracy: 0.87 - ETA: 5s - loss: 0.3771 - accuracy: 0.86 - ETA: 2s - loss: 0.3862 - accuracy: 0.86 - ETA: 0s - loss: 0.3960 - accuracy: 0.86 - 68s 76ms/step - loss: 0.3976 - accuracy: 0.8616 - val_loss: 0.7181 - val_accuracy: 0.7301\n",
                        "Epoch 12/100\n",
                        "903/903 [==============================] - ETA: 58s - loss: 0.4475 - accuracy: 0.875 - ETA: 55s - loss: 0.4539 - accuracy: 0.875 - ETA: 53s - loss: 0.4353 - accuracy: 0.875 - ETA: 51s - loss: 0.4839 - accuracy: 0.859 - ETA: 49s - loss: 0.5231 - accuracy: 0.843 - ETA: 47s - loss: 0.4845 - accuracy: 0.849 - ETA: 45s - loss: 0.4367 - accuracy: 0.866 - ETA: 43s - loss: 0.4606 - accuracy: 0.859 - ETA: 41s - loss: 0.4724 - accuracy: 0.850 - ETA: 39s - loss: 0.4695 - accuracy: 0.840 - ETA: 36s - loss: 0.4519 - accuracy: 0.849 - ETA: 34s - loss: 0.4571 - accuracy: 0.849 - ETA: 32s - loss: 0.4517 - accuracy: 0.846 - ETA: 30s - loss: 0.4382 - accuracy: 0.854 - ETA: 28s - loss: 0.4343 - accuracy: 0.856 - ETA: 26s - loss: 0.4308 - accuracy: 0.859 - ETA: 24s - loss: 0.4139 - accuracy: 0.867 - ETA: 22s - loss: 0.4029 - accuracy: 0.871 - ETA: 20s - loss: 0.4055 - accuracy: 0.871 - ETA: 18s - loss: 0.4002 - accuracy: 0.873 - ETA: 15s - loss: 0.4132 - accuracy: 0.864 - ETA: 13s - loss: 0.4136 - accuracy: 0.863 - ETA: 11s - loss: 0.4226 - accuracy: 0.860 - ETA: 9s - loss: 0.4267 - accuracy: 0.858 - ETA: 7s - loss: 0.4245 - accuracy: 0.85 - ETA: 4s - loss: 0.4255 - accuracy: 0.85 - ETA: 2s - loss: 0.4276 - accuracy: 0.85 - ETA: 0s - loss: 0.4218 - accuracy: 0.85 - 67s 75ms/step - loss: 0.4191 - accuracy: 0.8605 - val_loss: 0.6147 - val_accuracy: 0.7655\n"
                    ]
                },
                {
                    "name": "stdout",
                    "output_type": "stream",
                    "text": [
                        "Epoch 13/100\n",
                        "903/903 [==============================] - ETA: 1:01 - loss: 0.5044 - accuracy: 0.75 - ETA: 1:00 - loss: 0.3663 - accuracy: 0.84 - ETA: 59s - loss: 0.3599 - accuracy: 0.8542 - ETA: 57s - loss: 0.3749 - accuracy: 0.851 - ETA: 54s - loss: 0.3678 - accuracy: 0.856 - ETA: 52s - loss: 0.3856 - accuracy: 0.854 - ETA: 50s - loss: 0.3955 - accuracy: 0.848 - ETA: 47s - loss: 0.3912 - accuracy: 0.851 - ETA: 45s - loss: 0.4021 - accuracy: 0.843 - ETA: 43s - loss: 0.4053 - accuracy: 0.843 - ETA: 41s - loss: 0.4046 - accuracy: 0.843 - ETA: 38s - loss: 0.4033 - accuracy: 0.841 - ETA: 36s - loss: 0.4030 - accuracy: 0.846 - ETA: 34s - loss: 0.4007 - accuracy: 0.848 - ETA: 31s - loss: 0.3991 - accuracy: 0.852 - ETA: 29s - loss: 0.3917 - accuracy: 0.859 - ETA: 27s - loss: 0.3840 - accuracy: 0.864 - ETA: 24s - loss: 0.3868 - accuracy: 0.864 - ETA: 22s - loss: 0.3819 - accuracy: 0.868 - ETA: 20s - loss: 0.3707 - accuracy: 0.873 - ETA: 17s - loss: 0.3669 - accuracy: 0.875 - ETA: 15s - loss: 0.3688 - accuracy: 0.873 - ETA: 12s - loss: 0.3600 - accuracy: 0.877 - ETA: 10s - loss: 0.3571 - accuracy: 0.878 - ETA: 7s - loss: 0.3620 - accuracy: 0.877 - ETA: 5s - loss: 0.3596 - accuracy: 0.87 - ETA: 3s - loss: 0.3608 - accuracy: 0.87 - ETA: 0s - loss: 0.3558 - accuracy: 0.88 - 75s 83ms/step - loss: 0.3564 - accuracy: 0.8793 - val_loss: 0.6675 - val_accuracy: 0.7699\n",
                        "Epoch 14/100\n",
                        "903/903 [==============================] - ETA: 1:06 - loss: 0.4071 - accuracy: 0.87 - ETA: 1:04 - loss: 0.3631 - accuracy: 0.90 - ETA: 1:00 - loss: 0.3422 - accuracy: 0.88 - ETA: 57s - loss: 0.3459 - accuracy: 0.8906 - ETA: 54s - loss: 0.3890 - accuracy: 0.887 - ETA: 52s - loss: 0.4161 - accuracy: 0.875 - ETA: 50s - loss: 0.4125 - accuracy: 0.870 - ETA: 47s - loss: 0.4460 - accuracy: 0.851 - ETA: 45s - loss: 0.4294 - accuracy: 0.854 - ETA: 42s - loss: 0.4064 - accuracy: 0.859 - ETA: 40s - loss: 0.4130 - accuracy: 0.860 - ETA: 38s - loss: 0.4011 - accuracy: 0.867 - ETA: 36s - loss: 0.4139 - accuracy: 0.863 - ETA: 33s - loss: 0.3999 - accuracy: 0.866 - ETA: 31s - loss: 0.3875 - accuracy: 0.870 - ETA: 28s - loss: 0.3835 - accuracy: 0.869 - ETA: 26s - loss: 0.3798 - accuracy: 0.871 - ETA: 24s - loss: 0.3782 - accuracy: 0.873 - ETA: 21s - loss: 0.3770 - accuracy: 0.871 - ETA: 19s - loss: 0.3691 - accuracy: 0.873 - ETA: 17s - loss: 0.3609 - accuracy: 0.878 - ETA: 14s - loss: 0.3557 - accuracy: 0.880 - ETA: 12s - loss: 0.3502 - accuracy: 0.880 - ETA: 10s - loss: 0.3575 - accuracy: 0.877 - ETA: 7s - loss: 0.3503 - accuracy: 0.881 - ETA: 5s - loss: 0.3437 - accuracy: 0.88 - ETA: 2s - loss: 0.3398 - accuracy: 0.88 - ETA: 0s - loss: 0.3391 - accuracy: 0.88 - 72s 80ms/step - loss: 0.3421 - accuracy: 0.8826 - val_loss: 0.7310 - val_accuracy: 0.7478\n",
                        "Epoch 15/100\n",
                        "903/903 [==============================] - ETA: 1:10 - loss: 0.3174 - accuracy: 0.90 - ETA: 1:06 - loss: 0.2662 - accuracy: 0.92 - ETA: 1:04 - loss: 0.3715 - accuracy: 0.90 - ETA: 1:02 - loss: 0.4276 - accuracy: 0.89 - ETA: 1:00 - loss: 0.4390 - accuracy: 0.89 - ETA: 58s - loss: 0.4001 - accuracy: 0.9010 - ETA: 55s - loss: 0.3867 - accuracy: 0.906 - ETA: 52s - loss: 0.3782 - accuracy: 0.902 - ETA: 49s - loss: 0.3594 - accuracy: 0.906 - ETA: 46s - loss: 0.3517 - accuracy: 0.903 - ETA: 43s - loss: 0.3823 - accuracy: 0.894 - ETA: 40s - loss: 0.3846 - accuracy: 0.888 - ETA: 38s - loss: 0.3999 - accuracy: 0.884 - ETA: 35s - loss: 0.4113 - accuracy: 0.879 - ETA: 33s - loss: 0.4157 - accuracy: 0.872 - ETA: 30s - loss: 0.4065 - accuracy: 0.875 - ETA: 28s - loss: 0.4020 - accuracy: 0.876 - ETA: 25s - loss: 0.3978 - accuracy: 0.878 - ETA: 23s - loss: 0.3935 - accuracy: 0.881 - ETA: 20s - loss: 0.3875 - accuracy: 0.881 - ETA: 18s - loss: 0.3789 - accuracy: 0.883 - ETA: 15s - loss: 0.3796 - accuracy: 0.883 - ETA: 13s - loss: 0.3864 - accuracy: 0.880 - ETA: 10s - loss: 0.3940 - accuracy: 0.876 - ETA: 8s - loss: 0.3967 - accuracy: 0.873 - ETA: 5s - loss: 0.3915 - accuracy: 0.87 - ETA: 3s - loss: 0.3856 - accuracy: 0.87 - ETA: 0s - loss: 0.3896 - accuracy: 0.87 - 76s 85ms/step - loss: 0.3884 - accuracy: 0.8760 - val_loss: 0.6184 - val_accuracy: 0.7788\n",
                        "Epoch 16/100\n",
                        "903/903 [==============================] - ETA: 1:07 - loss: 0.2973 - accuracy: 0.90 - ETA: 1:05 - loss: 0.3549 - accuracy: 0.89 - ETA: 1:03 - loss: 0.3118 - accuracy: 0.89 - ETA: 1:01 - loss: 0.3399 - accuracy: 0.88 - ETA: 58s - loss: 0.3456 - accuracy: 0.8813 - ETA: 56s - loss: 0.3494 - accuracy: 0.869 - ETA: 53s - loss: 0.3157 - accuracy: 0.888 - ETA: 51s - loss: 0.3132 - accuracy: 0.886 - ETA: 48s - loss: 0.3214 - accuracy: 0.871 - ETA: 46s - loss: 0.3030 - accuracy: 0.881 - ETA: 43s - loss: 0.3079 - accuracy: 0.877 - ETA: 41s - loss: 0.3204 - accuracy: 0.877 - ETA: 38s - loss: 0.3290 - accuracy: 0.877 - ETA: 35s - loss: 0.3453 - accuracy: 0.872 - ETA: 33s - loss: 0.3432 - accuracy: 0.870 - ETA: 30s - loss: 0.3364 - accuracy: 0.873 - ETA: 28s - loss: 0.3309 - accuracy: 0.876 - ETA: 25s - loss: 0.3189 - accuracy: 0.881 - ETA: 23s - loss: 0.3079 - accuracy: 0.888 - ETA: 20s - loss: 0.3009 - accuracy: 0.889 - ETA: 18s - loss: 0.3022 - accuracy: 0.891 - ETA: 15s - loss: 0.3021 - accuracy: 0.892 - ETA: 13s - loss: 0.3000 - accuracy: 0.894 - ETA: 10s - loss: 0.3022 - accuracy: 0.891 - ETA: 8s - loss: 0.3017 - accuracy: 0.890 - ETA: 5s - loss: 0.3023 - accuracy: 0.89 - ETA: 3s - loss: 0.2983 - accuracy: 0.89 - ETA: 0s - loss: 0.2949 - accuracy: 0.89 - 75s 83ms/step - loss: 0.2928 - accuracy: 0.8970 - val_loss: 0.7649 - val_accuracy: 0.7434\n",
                        "Epoch 17/100\n",
                        "903/903 [==============================] - ETA: 1:03 - loss: 0.3442 - accuracy: 0.84 - ETA: 1:01 - loss: 0.2722 - accuracy: 0.89 - ETA: 58s - loss: 0.3301 - accuracy: 0.8854 - ETA: 55s - loss: 0.3508 - accuracy: 0.875 - ETA: 53s - loss: 0.3199 - accuracy: 0.887 - ETA: 51s - loss: 0.2845 - accuracy: 0.901 - ETA: 49s - loss: 0.2782 - accuracy: 0.897 - ETA: 46s - loss: 0.2668 - accuracy: 0.902 - ETA: 43s - loss: 0.2748 - accuracy: 0.899 - ETA: 41s - loss: 0.2772 - accuracy: 0.903 - ETA: 39s - loss: 0.2830 - accuracy: 0.903 - ETA: 36s - loss: 0.2911 - accuracy: 0.906 - ETA: 34s - loss: 0.2903 - accuracy: 0.901 - ETA: 32s - loss: 0.2764 - accuracy: 0.906 - ETA: 30s - loss: 0.2726 - accuracy: 0.906 - ETA: 28s - loss: 0.2872 - accuracy: 0.902 - ETA: 25s - loss: 0.2998 - accuracy: 0.898 - ETA: 23s - loss: 0.2960 - accuracy: 0.901 - ETA: 21s - loss: 0.2974 - accuracy: 0.898 - ETA: 18s - loss: 0.2929 - accuracy: 0.898 - ETA: 16s - loss: 0.2952 - accuracy: 0.897 - ETA: 14s - loss: 0.3066 - accuracy: 0.894 - ETA: 12s - loss: 0.3083 - accuracy: 0.892 - ETA: 9s - loss: 0.3193 - accuracy: 0.888 - ETA: 7s - loss: 0.3265 - accuracy: 0.88 - ETA: 5s - loss: 0.3287 - accuracy: 0.88 - ETA: 2s - loss: 0.3211 - accuracy: 0.88 - ETA: 0s - loss: 0.3138 - accuracy: 0.89 - 69s 77ms/step - loss: 0.3124 - accuracy: 0.8937 - val_loss: 0.6678 - val_accuracy: 0.7699\n",
                        "Epoch 18/100\n",
                        "903/903 [==============================] - ETA: 1:03 - loss: 0.2350 - accuracy: 0.87 - ETA: 1:00 - loss: 0.3323 - accuracy: 0.85 - ETA: 57s - loss: 0.3363 - accuracy: 0.8750 - ETA: 55s - loss: 0.3251 - accuracy: 0.875 - ETA: 54s - loss: 0.3346 - accuracy: 0.875 - ETA: 51s - loss: 0.3186 - accuracy: 0.885 - ETA: 49s - loss: 0.3033 - accuracy: 0.883 - ETA: 47s - loss: 0.3184 - accuracy: 0.878 - ETA: 45s - loss: 0.2973 - accuracy: 0.888 - ETA: 42s - loss: 0.2933 - accuracy: 0.893 - ETA: 40s - loss: 0.2782 - accuracy: 0.900 - ETA: 38s - loss: 0.2756 - accuracy: 0.903 - ETA: 35s - loss: 0.2816 - accuracy: 0.901 - ETA: 33s - loss: 0.2859 - accuracy: 0.904 - ETA: 31s - loss: 0.2890 - accuracy: 0.902 - ETA: 28s - loss: 0.2812 - accuracy: 0.902 - ETA: 26s - loss: 0.2817 - accuracy: 0.904 - ETA: 23s - loss: 0.2719 - accuracy: 0.909 - ETA: 21s - loss: 0.2705 - accuracy: 0.907 - ETA: 19s - loss: 0.2789 - accuracy: 0.903 - ETA: 16s - loss: 0.2769 - accuracy: 0.906 - ETA: 14s - loss: 0.2757 - accuracy: 0.909 - ETA: 12s - loss: 0.2687 - accuracy: 0.911 - ETA: 9s - loss: 0.2633 - accuracy: 0.912 - ETA: 7s - loss: 0.2571 - accuracy: 0.91 - ETA: 5s - loss: 0.2613 - accuracy: 0.91 - ETA: 2s - loss: 0.2611 - accuracy: 0.91 - ETA: 0s - loss: 0.2644 - accuracy: 0.91 - 71s 78ms/step - loss: 0.2639 - accuracy: 0.9125 - val_loss: 0.7022 - val_accuracy: 0.7743\n"
                    ]
                },
                {
                    "name": "stdout",
                    "output_type": "stream",
                    "text": [
                        "Epoch 19/100\n",
                        "903/903 [==============================] - ETA: 1:02 - loss: 0.1629 - accuracy: 0.96 - ETA: 1:00 - loss: 0.1266 - accuracy: 0.98 - ETA: 1:00 - loss: 0.2098 - accuracy: 0.95 - ETA: 58s - loss: 0.2410 - accuracy: 0.9297 - ETA: 56s - loss: 0.2794 - accuracy: 0.906 - ETA: 54s - loss: 0.2623 - accuracy: 0.911 - ETA: 51s - loss: 0.3021 - accuracy: 0.892 - ETA: 49s - loss: 0.3059 - accuracy: 0.890 - ETA: 46s - loss: 0.2913 - accuracy: 0.899 - ETA: 44s - loss: 0.2846 - accuracy: 0.896 - ETA: 41s - loss: 0.2791 - accuracy: 0.900 - ETA: 39s - loss: 0.2770 - accuracy: 0.903 - ETA: 36s - loss: 0.2968 - accuracy: 0.901 - ETA: 34s - loss: 0.2941 - accuracy: 0.901 - ETA: 31s - loss: 0.2889 - accuracy: 0.904 - ETA: 29s - loss: 0.2966 - accuracy: 0.900 - ETA: 26s - loss: 0.2856 - accuracy: 0.904 - ETA: 24s - loss: 0.2754 - accuracy: 0.908 - ETA: 21s - loss: 0.2725 - accuracy: 0.907 - ETA: 19s - loss: 0.2804 - accuracy: 0.904 - ETA: 17s - loss: 0.2719 - accuracy: 0.907 - ETA: 14s - loss: 0.2773 - accuracy: 0.906 - ETA: 12s - loss: 0.2770 - accuracy: 0.904 - ETA: 10s - loss: 0.2845 - accuracy: 0.902 - ETA: 7s - loss: 0.2857 - accuracy: 0.902 - ETA: 5s - loss: 0.2828 - accuracy: 0.90 - ETA: 2s - loss: 0.2811 - accuracy: 0.90 - ETA: 0s - loss: 0.2791 - accuracy: 0.90 - 71s 79ms/step - loss: 0.2832 - accuracy: 0.9037 - val_loss: 0.6707 - val_accuracy: 0.7788\n",
                        "Epoch 20/100\n",
                        "903/903 [==============================] - ETA: 1:05 - loss: 0.2594 - accuracy: 0.90 - ETA: 1:04 - loss: 0.2896 - accuracy: 0.89 - ETA: 1:02 - loss: 0.2408 - accuracy: 0.91 - ETA: 59s - loss: 0.2888 - accuracy: 0.8984 - ETA: 56s - loss: 0.3176 - accuracy: 0.881 - ETA: 53s - loss: 0.3395 - accuracy: 0.875 - ETA: 51s - loss: 0.3311 - accuracy: 0.879 - ETA: 48s - loss: 0.2951 - accuracy: 0.894 - ETA: 46s - loss: 0.2795 - accuracy: 0.899 - ETA: 43s - loss: 0.2848 - accuracy: 0.896 - ETA: 41s - loss: 0.2847 - accuracy: 0.897 - ETA: 39s - loss: 0.2856 - accuracy: 0.898 - ETA: 36s - loss: 0.2780 - accuracy: 0.901 - ETA: 34s - loss: 0.2746 - accuracy: 0.904 - ETA: 31s - loss: 0.2967 - accuracy: 0.893 - ETA: 29s - loss: 0.2957 - accuracy: 0.892 - ETA: 26s - loss: 0.2929 - accuracy: 0.893 - ETA: 24s - loss: 0.2858 - accuracy: 0.895 - ETA: 22s - loss: 0.2833 - accuracy: 0.898 - ETA: 19s - loss: 0.2756 - accuracy: 0.901 - ETA: 17s - loss: 0.2802 - accuracy: 0.900 - ETA: 15s - loss: 0.2741 - accuracy: 0.900 - ETA: 12s - loss: 0.2701 - accuracy: 0.903 - ETA: 10s - loss: 0.2801 - accuracy: 0.901 - ETA: 7s - loss: 0.2825 - accuracy: 0.898 - ETA: 5s - loss: 0.2860 - accuracy: 0.89 - ETA: 2s - loss: 0.2860 - accuracy: 0.89 - ETA: 0s - loss: 0.2841 - accuracy: 0.90 - 72s 80ms/step - loss: 0.2842 - accuracy: 0.8992 - val_loss: 0.6712 - val_accuracy: 0.7876\n",
                        "Epoch 21/100\n",
                        "903/903 [==============================] - ETA: 1:06 - loss: 0.3250 - accuracy: 0.87 - ETA: 1:05 - loss: 0.3134 - accuracy: 0.89 - ETA: 1:04 - loss: 0.2588 - accuracy: 0.91 - ETA: 1:01 - loss: 0.2910 - accuracy: 0.89 - ETA: 58s - loss: 0.3088 - accuracy: 0.9000 - ETA: 55s - loss: 0.2938 - accuracy: 0.901 - ETA: 53s - loss: 0.2825 - accuracy: 0.897 - ETA: 50s - loss: 0.2809 - accuracy: 0.902 - ETA: 48s - loss: 0.2893 - accuracy: 0.902 - ETA: 45s - loss: 0.2892 - accuracy: 0.900 - ETA: 42s - loss: 0.2767 - accuracy: 0.906 - ETA: 40s - loss: 0.2773 - accuracy: 0.908 - ETA: 38s - loss: 0.2710 - accuracy: 0.906 - ETA: 35s - loss: 0.2715 - accuracy: 0.904 - ETA: 33s - loss: 0.2801 - accuracy: 0.902 - ETA: 31s - loss: 0.2768 - accuracy: 0.904 - ETA: 28s - loss: 0.2677 - accuracy: 0.908 - ETA: 26s - loss: 0.2575 - accuracy: 0.911 - ETA: 23s - loss: 0.2535 - accuracy: 0.914 - ETA: 21s - loss: 0.2507 - accuracy: 0.914 - ETA: 18s - loss: 0.2481 - accuracy: 0.913 - ETA: 15s - loss: 0.2463 - accuracy: 0.913 - ETA: 13s - loss: 0.2446 - accuracy: 0.911 - ETA: 10s - loss: 0.2465 - accuracy: 0.910 - ETA: 8s - loss: 0.2500 - accuracy: 0.911 - ETA: 5s - loss: 0.2461 - accuracy: 0.91 - ETA: 3s - loss: 0.2521 - accuracy: 0.91 - ETA: 0s - loss: 0.2480 - accuracy: 0.91 - 77s 85ms/step - loss: 0.2473 - accuracy: 0.9147 - val_loss: 0.6790 - val_accuracy: 0.7832\n",
                        "Epoch 22/100\n",
                        "903/903 [==============================] - ETA: 1:12 - loss: 0.0719 - accuracy: 1.00 - ETA: 1:09 - loss: 0.2826 - accuracy: 0.93 - ETA: 1:08 - loss: 0.3378 - accuracy: 0.91 - ETA: 1:05 - loss: 0.3292 - accuracy: 0.90 - ETA: 1:02 - loss: 0.2766 - accuracy: 0.92 - ETA: 59s - loss: 0.2492 - accuracy: 0.9323 - ETA: 56s - loss: 0.2482 - accuracy: 0.924 - ETA: 53s - loss: 0.2385 - accuracy: 0.925 - ETA: 50s - loss: 0.2482 - accuracy: 0.923 - ETA: 47s - loss: 0.2275 - accuracy: 0.931 - ETA: 45s - loss: 0.2341 - accuracy: 0.929 - ETA: 42s - loss: 0.2451 - accuracy: 0.929 - ETA: 39s - loss: 0.2483 - accuracy: 0.927 - ETA: 37s - loss: 0.2442 - accuracy: 0.926 - ETA: 34s - loss: 0.2347 - accuracy: 0.931 - ETA: 31s - loss: 0.2335 - accuracy: 0.931 - ETA: 29s - loss: 0.2360 - accuracy: 0.928 - ETA: 26s - loss: 0.2306 - accuracy: 0.930 - ETA: 24s - loss: 0.2207 - accuracy: 0.934 - ETA: 21s - loss: 0.2319 - accuracy: 0.931 - ETA: 18s - loss: 0.2336 - accuracy: 0.931 - ETA: 16s - loss: 0.2367 - accuracy: 0.927 - ETA: 13s - loss: 0.2329 - accuracy: 0.929 - ETA: 10s - loss: 0.2316 - accuracy: 0.929 - ETA: 8s - loss: 0.2331 - accuracy: 0.928 - ETA: 5s - loss: 0.2525 - accuracy: 0.92 - ETA: 3s - loss: 0.2514 - accuracy: 0.92 - ETA: 0s - loss: 0.2500 - accuracy: 0.92 - 77s 86ms/step - loss: 0.2493 - accuracy: 0.9236 - val_loss: 0.7087 - val_accuracy: 0.7743\n",
                        "Epoch 23/100\n",
                        "903/903 [==============================] - ETA: 1:07 - loss: 0.3439 - accuracy: 0.90 - ETA: 1:05 - loss: 0.3092 - accuracy: 0.89 - ETA: 1:03 - loss: 0.2673 - accuracy: 0.89 - ETA: 1:01 - loss: 0.2189 - accuracy: 0.92 - ETA: 59s - loss: 0.1989 - accuracy: 0.9312 - ETA: 57s - loss: 0.2462 - accuracy: 0.906 - ETA: 54s - loss: 0.2448 - accuracy: 0.906 - ETA: 52s - loss: 0.2447 - accuracy: 0.906 - ETA: 49s - loss: 0.2677 - accuracy: 0.899 - ETA: 46s - loss: 0.2488 - accuracy: 0.909 - ETA: 44s - loss: 0.2456 - accuracy: 0.911 - ETA: 41s - loss: 0.2387 - accuracy: 0.916 - ETA: 39s - loss: 0.2310 - accuracy: 0.918 - ETA: 36s - loss: 0.2268 - accuracy: 0.919 - ETA: 33s - loss: 0.2429 - accuracy: 0.912 - ETA: 31s - loss: 0.2389 - accuracy: 0.912 - ETA: 28s - loss: 0.2439 - accuracy: 0.913 - ETA: 26s - loss: 0.2470 - accuracy: 0.914 - ETA: 23s - loss: 0.2405 - accuracy: 0.917 - ETA: 21s - loss: 0.2501 - accuracy: 0.914 - ETA: 18s - loss: 0.2592 - accuracy: 0.912 - ETA: 15s - loss: 0.2603 - accuracy: 0.911 - ETA: 13s - loss: 0.2542 - accuracy: 0.914 - ETA: 10s - loss: 0.2589 - accuracy: 0.912 - ETA: 8s - loss: 0.2568 - accuracy: 0.913 - ETA: 5s - loss: 0.2524 - accuracy: 0.91 - ETA: 3s - loss: 0.2494 - accuracy: 0.91 - ETA: 0s - loss: 0.2528 - accuracy: 0.91 - 76s 85ms/step - loss: 0.2512 - accuracy: 0.9169 - val_loss: 0.7330 - val_accuracy: 0.7876\n",
                        "Epoch 24/100\n",
                        "903/903 [==============================] - ETA: 1:09 - loss: 0.2355 - accuracy: 0.93 - ETA: 1:06 - loss: 0.2343 - accuracy: 0.92 - ETA: 1:03 - loss: 0.1930 - accuracy: 0.92 - ETA: 1:01 - loss: 0.1701 - accuracy: 0.93 - ETA: 58s - loss: 0.1636 - accuracy: 0.9438 - ETA: 56s - loss: 0.2063 - accuracy: 0.927 - ETA: 53s - loss: 0.2139 - accuracy: 0.924 - ETA: 51s - loss: 0.2114 - accuracy: 0.925 - ETA: 49s - loss: 0.1947 - accuracy: 0.934 - ETA: 46s - loss: 0.2168 - accuracy: 0.931 - ETA: 43s - loss: 0.2076 - accuracy: 0.934 - ETA: 41s - loss: 0.2108 - accuracy: 0.932 - ETA: 38s - loss: 0.2008 - accuracy: 0.935 - ETA: 36s - loss: 0.2058 - accuracy: 0.930 - ETA: 33s - loss: 0.2205 - accuracy: 0.925 - ETA: 31s - loss: 0.2186 - accuracy: 0.925 - ETA: 28s - loss: 0.2251 - accuracy: 0.922 - ETA: 25s - loss: 0.2337 - accuracy: 0.921 - ETA: 23s - loss: 0.2290 - accuracy: 0.922 - ETA: 20s - loss: 0.2285 - accuracy: 0.923 - ETA: 18s - loss: 0.2370 - accuracy: 0.919 - ETA: 15s - loss: 0.2380 - accuracy: 0.917 - ETA: 13s - loss: 0.2382 - accuracy: 0.915 - ETA: 10s - loss: 0.2374 - accuracy: 0.915 - ETA: 8s - loss: 0.2335 - accuracy: 0.917 - ETA: 5s - loss: 0.2435 - accuracy: 0.91 - ETA: 3s - loss: 0.2475 - accuracy: 0.91 - ETA: 0s - loss: 0.2458 - accuracy: 0.91 - 75s 83ms/step - loss: 0.2458 - accuracy: 0.9169 - val_loss: 0.7004 - val_accuracy: 0.7699\n"
                    ]
                },
                {
                    "name": "stdout",
                    "output_type": "stream",
                    "text": [
                        "Epoch 25/100\n",
                        "903/903 [==============================] - ETA: 1:03 - loss: 0.1662 - accuracy: 0.90 - ETA: 1:02 - loss: 0.1662 - accuracy: 0.92 - ETA: 1:01 - loss: 0.1701 - accuracy: 0.92 - ETA: 58s - loss: 0.1609 - accuracy: 0.9375 - ETA: 55s - loss: 0.1463 - accuracy: 0.943 - ETA: 53s - loss: 0.2081 - accuracy: 0.927 - ETA: 51s - loss: 0.2524 - accuracy: 0.919 - ETA: 48s - loss: 0.2478 - accuracy: 0.921 - ETA: 46s - loss: 0.2318 - accuracy: 0.930 - ETA: 43s - loss: 0.2276 - accuracy: 0.934 - ETA: 40s - loss: 0.2117 - accuracy: 0.940 - ETA: 38s - loss: 0.2134 - accuracy: 0.937 - ETA: 36s - loss: 0.2121 - accuracy: 0.935 - ETA: 33s - loss: 0.2069 - accuracy: 0.933 - ETA: 31s - loss: 0.2062 - accuracy: 0.933 - ETA: 28s - loss: 0.2139 - accuracy: 0.929 - ETA: 26s - loss: 0.2082 - accuracy: 0.930 - ETA: 24s - loss: 0.2066 - accuracy: 0.930 - ETA: 21s - loss: 0.2049 - accuracy: 0.930 - ETA: 19s - loss: 0.2098 - accuracy: 0.928 - ETA: 17s - loss: 0.2165 - accuracy: 0.925 - ETA: 14s - loss: 0.2095 - accuracy: 0.929 - ETA: 12s - loss: 0.2183 - accuracy: 0.926 - ETA: 10s - loss: 0.2244 - accuracy: 0.925 - ETA: 7s - loss: 0.2251 - accuracy: 0.926 - ETA: 5s - loss: 0.2220 - accuracy: 0.92 - ETA: 2s - loss: 0.2184 - accuracy: 0.92 - ETA: 0s - loss: 0.2157 - accuracy: 0.92 - 71s 79ms/step - loss: 0.2191 - accuracy: 0.9280 - val_loss: 0.7672 - val_accuracy: 0.7566\n",
                        "Epoch 26/100\n",
                        "903/903 [==============================] - ETA: 1:10 - loss: 0.0582 - accuracy: 1.00 - ETA: 1:06 - loss: 0.0784 - accuracy: 0.98 - ETA: 1:04 - loss: 0.0602 - accuracy: 0.98 - ETA: 1:02 - loss: 0.0973 - accuracy: 0.97 - ETA: 1:00 - loss: 0.1412 - accuracy: 0.95 - ETA: 57s - loss: 0.1517 - accuracy: 0.9427 - ETA: 54s - loss: 0.1653 - accuracy: 0.937 - ETA: 52s - loss: 0.1755 - accuracy: 0.937 - ETA: 49s - loss: 0.1675 - accuracy: 0.941 - ETA: 46s - loss: 0.1725 - accuracy: 0.940 - ETA: 43s - loss: 0.1849 - accuracy: 0.934 - ETA: 40s - loss: 0.1858 - accuracy: 0.937 - ETA: 38s - loss: 0.1914 - accuracy: 0.935 - ETA: 35s - loss: 0.1935 - accuracy: 0.933 - ETA: 32s - loss: 0.1883 - accuracy: 0.935 - ETA: 30s - loss: 0.1942 - accuracy: 0.933 - ETA: 28s - loss: 0.1869 - accuracy: 0.935 - ETA: 25s - loss: 0.1854 - accuracy: 0.937 - ETA: 22s - loss: 0.1861 - accuracy: 0.937 - ETA: 20s - loss: 0.1924 - accuracy: 0.932 - ETA: 17s - loss: 0.1851 - accuracy: 0.936 - ETA: 15s - loss: 0.1824 - accuracy: 0.936 - ETA: 12s - loss: 0.1804 - accuracy: 0.937 - ETA: 10s - loss: 0.1882 - accuracy: 0.937 - ETA: 7s - loss: 0.1847 - accuracy: 0.938 - ETA: 5s - loss: 0.1825 - accuracy: 0.93 - ETA: 3s - loss: 0.1860 - accuracy: 0.93 - ETA: 0s - loss: 0.1827 - accuracy: 0.93 - 75s 83ms/step - loss: 0.1829 - accuracy: 0.9391 - val_loss: 0.6577 - val_accuracy: 0.7876\n",
                        "Epoch 27/100\n",
                        "903/903 [==============================] - ETA: 1:07 - loss: 0.0789 - accuracy: 0.96 - ETA: 1:05 - loss: 0.0617 - accuracy: 0.98 - ETA: 1:02 - loss: 0.0625 - accuracy: 0.97 - ETA: 1:00 - loss: 0.0802 - accuracy: 0.97 - ETA: 57s - loss: 0.1096 - accuracy: 0.9688 - ETA: 55s - loss: 0.1288 - accuracy: 0.963 - ETA: 52s - loss: 0.1623 - accuracy: 0.950 - ETA: 50s - loss: 0.1543 - accuracy: 0.953 - ETA: 48s - loss: 0.1775 - accuracy: 0.944 - ETA: 45s - loss: 0.1963 - accuracy: 0.934 - ETA: 43s - loss: 0.2050 - accuracy: 0.931 - ETA: 40s - loss: 0.1961 - accuracy: 0.934 - ETA: 38s - loss: 0.1932 - accuracy: 0.932 - ETA: 35s - loss: 0.1912 - accuracy: 0.933 - ETA: 33s - loss: 0.1861 - accuracy: 0.935 - ETA: 30s - loss: 0.1967 - accuracy: 0.931 - ETA: 28s - loss: 0.1964 - accuracy: 0.932 - ETA: 25s - loss: 0.1950 - accuracy: 0.934 - ETA: 23s - loss: 0.1933 - accuracy: 0.934 - ETA: 20s - loss: 0.1939 - accuracy: 0.932 - ETA: 17s - loss: 0.1934 - accuracy: 0.933 - ETA: 15s - loss: 0.1893 - accuracy: 0.936 - ETA: 12s - loss: 0.1895 - accuracy: 0.936 - ETA: 10s - loss: 0.1864 - accuracy: 0.937 - ETA: 7s - loss: 0.1919 - accuracy: 0.933 - ETA: 5s - loss: 0.1927 - accuracy: 0.93 - ETA: 3s - loss: 0.1975 - accuracy: 0.93 - ETA: 0s - loss: 0.1940 - accuracy: 0.93 - 74s 82ms/step - loss: 0.1927 - accuracy: 0.9324 - val_loss: 0.7819 - val_accuracy: 0.7611\n",
                        "Epoch 28/100\n",
                        "903/903 [==============================] - ETA: 1:03 - loss: 0.0968 - accuracy: 0.93 - ETA: 1:02 - loss: 0.1474 - accuracy: 0.93 - ETA: 1:00 - loss: 0.1841 - accuracy: 0.93 - ETA: 58s - loss: 0.1771 - accuracy: 0.9375 - ETA: 55s - loss: 0.1577 - accuracy: 0.950 - ETA: 53s - loss: 0.1650 - accuracy: 0.947 - ETA: 51s - loss: 0.2048 - accuracy: 0.928 - ETA: 48s - loss: 0.2116 - accuracy: 0.929 - ETA: 45s - loss: 0.2255 - accuracy: 0.923 - ETA: 43s - loss: 0.2104 - accuracy: 0.928 - ETA: 40s - loss: 0.2135 - accuracy: 0.929 - ETA: 38s - loss: 0.2007 - accuracy: 0.932 - ETA: 36s - loss: 0.2040 - accuracy: 0.932 - ETA: 33s - loss: 0.1925 - accuracy: 0.937 - ETA: 31s - loss: 0.1891 - accuracy: 0.937 - ETA: 29s - loss: 0.1911 - accuracy: 0.935 - ETA: 26s - loss: 0.1909 - accuracy: 0.935 - ETA: 24s - loss: 0.1818 - accuracy: 0.939 - ETA: 21s - loss: 0.1805 - accuracy: 0.937 - ETA: 19s - loss: 0.1750 - accuracy: 0.940 - ETA: 17s - loss: 0.1796 - accuracy: 0.940 - ETA: 14s - loss: 0.1797 - accuracy: 0.941 - ETA: 12s - loss: 0.1884 - accuracy: 0.937 - ETA: 10s - loss: 0.2034 - accuracy: 0.933 - ETA: 7s - loss: 0.2013 - accuracy: 0.935 - ETA: 5s - loss: 0.2024 - accuracy: 0.93 - ETA: 2s - loss: 0.2046 - accuracy: 0.93 - ETA: 0s - loss: 0.1991 - accuracy: 0.93 - 73s 81ms/step - loss: 0.1982 - accuracy: 0.9369 - val_loss: 0.7147 - val_accuracy: 0.7832\n",
                        "Epoch 29/100\n",
                        "903/903 [==============================] - ETA: 1:04 - loss: 0.1780 - accuracy: 0.93 - ETA: 1:03 - loss: 0.1277 - accuracy: 0.95 - ETA: 1:02 - loss: 0.1008 - accuracy: 0.96 - ETA: 1:00 - loss: 0.1210 - accuracy: 0.96 - ETA: 58s - loss: 0.1580 - accuracy: 0.9438 - ETA: 57s - loss: 0.2339 - accuracy: 0.916 - ETA: 55s - loss: 0.2082 - accuracy: 0.924 - ETA: 52s - loss: 0.1895 - accuracy: 0.933 - ETA: 49s - loss: 0.1964 - accuracy: 0.930 - ETA: 47s - loss: 0.1934 - accuracy: 0.934 - ETA: 44s - loss: 0.1849 - accuracy: 0.937 - ETA: 41s - loss: 0.1866 - accuracy: 0.937 - ETA: 39s - loss: 0.1833 - accuracy: 0.937 - ETA: 36s - loss: 0.1804 - accuracy: 0.939 - ETA: 34s - loss: 0.1735 - accuracy: 0.943 - ETA: 31s - loss: 0.1666 - accuracy: 0.945 - ETA: 29s - loss: 0.1660 - accuracy: 0.944 - ETA: 26s - loss: 0.1681 - accuracy: 0.941 - ETA: 24s - loss: 0.1665 - accuracy: 0.942 - ETA: 21s - loss: 0.1659 - accuracy: 0.940 - ETA: 18s - loss: 0.1758 - accuracy: 0.934 - ETA: 16s - loss: 0.1786 - accuracy: 0.933 - ETA: 13s - loss: 0.1774 - accuracy: 0.933 - ETA: 10s - loss: 0.1731 - accuracy: 0.934 - ETA: 8s - loss: 0.1777 - accuracy: 0.933 - ETA: 5s - loss: 0.1741 - accuracy: 0.93 - ETA: 3s - loss: 0.1715 - accuracy: 0.93 - ETA: 0s - loss: 0.1733 - accuracy: 0.93 - 77s 85ms/step - loss: 0.1728 - accuracy: 0.9347 - val_loss: 0.7959 - val_accuracy: 0.7699\n",
                        "Epoch 30/100\n",
                        "903/903 [==============================] - ETA: 1:06 - loss: 0.0612 - accuracy: 0.96 - ETA: 1:03 - loss: 0.1358 - accuracy: 0.92 - ETA: 1:03 - loss: 0.1585 - accuracy: 0.93 - ETA: 1:01 - loss: 0.1279 - accuracy: 0.95 - ETA: 59s - loss: 0.1701 - accuracy: 0.9375 - ETA: 56s - loss: 0.1538 - accuracy: 0.942 - ETA: 53s - loss: 0.1605 - accuracy: 0.937 - ETA: 50s - loss: 0.1494 - accuracy: 0.945 - ETA: 47s - loss: 0.1462 - accuracy: 0.944 - ETA: 45s - loss: 0.1578 - accuracy: 0.940 - ETA: 42s - loss: 0.1590 - accuracy: 0.940 - ETA: 40s - loss: 0.1639 - accuracy: 0.942 - ETA: 37s - loss: 0.1573 - accuracy: 0.944 - ETA: 35s - loss: 0.1730 - accuracy: 0.944 - ETA: 32s - loss: 0.1641 - accuracy: 0.947 - ETA: 30s - loss: 0.1575 - accuracy: 0.949 - ETA: 27s - loss: 0.1568 - accuracy: 0.948 - ETA: 24s - loss: 0.1563 - accuracy: 0.947 - ETA: 22s - loss: 0.1568 - accuracy: 0.949 - ETA: 19s - loss: 0.1605 - accuracy: 0.948 - ETA: 17s - loss: 0.1547 - accuracy: 0.950 - ETA: 15s - loss: 0.1540 - accuracy: 0.951 - ETA: 12s - loss: 0.1617 - accuracy: 0.949 - ETA: 10s - loss: 0.1664 - accuracy: 0.946 - ETA: 7s - loss: 0.1646 - accuracy: 0.947 - ETA: 5s - loss: 0.1640 - accuracy: 0.94 - ETA: 2s - loss: 0.1629 - accuracy: 0.94 - ETA: 0s - loss: 0.1620 - accuracy: 0.94 - 71s 79ms/step - loss: 0.1622 - accuracy: 0.9457 - val_loss: 0.7677 - val_accuracy: 0.7832\n"
                    ]
                },
                {
                    "name": "stdout",
                    "output_type": "stream",
                    "text": [
                        "Epoch 31/100\n",
                        "903/903 [==============================] - ETA: 1:00 - loss: 0.1340 - accuracy: 0.96 - ETA: 58s - loss: 0.2067 - accuracy: 0.9531 - ETA: 56s - loss: 0.1929 - accuracy: 0.947 - ETA: 53s - loss: 0.2036 - accuracy: 0.929 - ETA: 51s - loss: 0.1949 - accuracy: 0.925 - ETA: 49s - loss: 0.2093 - accuracy: 0.916 - ETA: 47s - loss: 0.1884 - accuracy: 0.928 - ETA: 45s - loss: 0.1731 - accuracy: 0.937 - ETA: 43s - loss: 0.1838 - accuracy: 0.937 - ETA: 41s - loss: 0.1795 - accuracy: 0.940 - ETA: 39s - loss: 0.1670 - accuracy: 0.946 - ETA: 36s - loss: 0.1745 - accuracy: 0.942 - ETA: 34s - loss: 0.1636 - accuracy: 0.947 - ETA: 32s - loss: 0.1547 - accuracy: 0.950 - ETA: 30s - loss: 0.1539 - accuracy: 0.950 - ETA: 27s - loss: 0.1680 - accuracy: 0.945 - ETA: 25s - loss: 0.1715 - accuracy: 0.944 - ETA: 23s - loss: 0.1698 - accuracy: 0.944 - ETA: 21s - loss: 0.1714 - accuracy: 0.944 - ETA: 18s - loss: 0.1679 - accuracy: 0.943 - ETA: 16s - loss: 0.1710 - accuracy: 0.940 - ETA: 14s - loss: 0.1680 - accuracy: 0.940 - ETA: 11s - loss: 0.1618 - accuracy: 0.942 - ETA: 9s - loss: 0.1665 - accuracy: 0.942 - ETA: 7s - loss: 0.1628 - accuracy: 0.94 - ETA: 5s - loss: 0.1651 - accuracy: 0.94 - ETA: 2s - loss: 0.1652 - accuracy: 0.94 - ETA: 0s - loss: 0.1655 - accuracy: 0.93 - 68s 75ms/step - loss: 0.1671 - accuracy: 0.9391 - val_loss: 0.7349 - val_accuracy: 0.7832\n",
                        "Epoch 32/100\n",
                        "903/903 [==============================] - ETA: 1:01 - loss: 0.1014 - accuracy: 0.96 - ETA: 59s - loss: 0.0863 - accuracy: 0.9844 - ETA: 56s - loss: 0.1178 - accuracy: 0.968 - ETA: 53s - loss: 0.1746 - accuracy: 0.945 - ETA: 51s - loss: 0.1806 - accuracy: 0.950 - ETA: 49s - loss: 0.1556 - accuracy: 0.958 - ETA: 47s - loss: 0.1495 - accuracy: 0.955 - ETA: 45s - loss: 0.1535 - accuracy: 0.949 - ETA: 43s - loss: 0.1468 - accuracy: 0.951 - ETA: 40s - loss: 0.1515 - accuracy: 0.950 - ETA: 38s - loss: 0.1678 - accuracy: 0.943 - ETA: 36s - loss: 0.1687 - accuracy: 0.945 - ETA: 34s - loss: 0.1814 - accuracy: 0.942 - ETA: 32s - loss: 0.2057 - accuracy: 0.935 - ETA: 29s - loss: 0.1955 - accuracy: 0.939 - ETA: 27s - loss: 0.1923 - accuracy: 0.941 - ETA: 25s - loss: 0.1912 - accuracy: 0.943 - ETA: 23s - loss: 0.1908 - accuracy: 0.941 - ETA: 21s - loss: 0.1973 - accuracy: 0.935 - ETA: 18s - loss: 0.2030 - accuracy: 0.932 - ETA: 16s - loss: 0.2066 - accuracy: 0.930 - ETA: 14s - loss: 0.2098 - accuracy: 0.926 - ETA: 12s - loss: 0.2205 - accuracy: 0.923 - ETA: 9s - loss: 0.2153 - accuracy: 0.927 - ETA: 7s - loss: 0.2138 - accuracy: 0.92 - ETA: 5s - loss: 0.2313 - accuracy: 0.91 - ETA: 2s - loss: 0.2347 - accuracy: 0.91 - ETA: 0s - loss: 0.2430 - accuracy: 0.91 - 70s 78ms/step - loss: 0.2419 - accuracy: 0.9158 - val_loss: 0.6780 - val_accuracy: 0.7522\n",
                        "Epoch 33/100\n",
                        "903/903 [==============================] - ETA: 1:03 - loss: 0.1601 - accuracy: 0.96 - ETA: 1:04 - loss: 0.1703 - accuracy: 0.95 - ETA: 1:02 - loss: 0.1856 - accuracy: 0.94 - ETA: 59s - loss: 0.2184 - accuracy: 0.9375 - ETA: 56s - loss: 0.2283 - accuracy: 0.931 - ETA: 54s - loss: 0.2457 - accuracy: 0.921 - ETA: 51s - loss: 0.2632 - accuracy: 0.906 - ETA: 49s - loss: 0.2578 - accuracy: 0.906 - ETA: 46s - loss: 0.2801 - accuracy: 0.895 - ETA: 44s - loss: 0.2754 - accuracy: 0.890 - ETA: 41s - loss: 0.2883 - accuracy: 0.886 - ETA: 39s - loss: 0.2726 - accuracy: 0.895 - ETA: 36s - loss: 0.2639 - accuracy: 0.899 - ETA: 34s - loss: 0.2573 - accuracy: 0.901 - ETA: 32s - loss: 0.2542 - accuracy: 0.904 - ETA: 29s - loss: 0.2525 - accuracy: 0.904 - ETA: 27s - loss: 0.2477 - accuracy: 0.908 - ETA: 25s - loss: 0.2418 - accuracy: 0.911 - ETA: 22s - loss: 0.2399 - accuracy: 0.914 - ETA: 20s - loss: 0.2376 - accuracy: 0.917 - ETA: 17s - loss: 0.2329 - accuracy: 0.918 - ETA: 15s - loss: 0.2275 - accuracy: 0.921 - ETA: 12s - loss: 0.2264 - accuracy: 0.921 - ETA: 10s - loss: 0.2245 - accuracy: 0.923 - ETA: 7s - loss: 0.2182 - accuracy: 0.926 - ETA: 5s - loss: 0.2161 - accuracy: 0.92 - ETA: 2s - loss: 0.2129 - accuracy: 0.92 - ETA: 0s - loss: 0.2117 - accuracy: 0.92 - 74s 82ms/step - loss: 0.2110 - accuracy: 0.9302 - val_loss: 0.7069 - val_accuracy: 0.7788\n",
                        "Epoch 34/100\n",
                        "903/903 [==============================] - ETA: 1:04 - loss: 0.2474 - accuracy: 0.90 - ETA: 1:02 - loss: 0.2182 - accuracy: 0.92 - ETA: 1:00 - loss: 0.1642 - accuracy: 0.93 - ETA: 58s - loss: 0.1783 - accuracy: 0.9297 - ETA: 55s - loss: 0.1631 - accuracy: 0.937 - ETA: 53s - loss: 0.1490 - accuracy: 0.942 - ETA: 51s - loss: 0.1632 - accuracy: 0.937 - ETA: 48s - loss: 0.1476 - accuracy: 0.945 - ETA: 46s - loss: 0.1479 - accuracy: 0.944 - ETA: 43s - loss: 0.1454 - accuracy: 0.946 - ETA: 41s - loss: 0.1660 - accuracy: 0.940 - ETA: 38s - loss: 0.1600 - accuracy: 0.942 - ETA: 36s - loss: 0.1559 - accuracy: 0.944 - ETA: 34s - loss: 0.1502 - accuracy: 0.948 - ETA: 31s - loss: 0.1461 - accuracy: 0.950 - ETA: 29s - loss: 0.1395 - accuracy: 0.953 - ETA: 27s - loss: 0.1422 - accuracy: 0.952 - ETA: 24s - loss: 0.1442 - accuracy: 0.953 - ETA: 22s - loss: 0.1570 - accuracy: 0.950 - ETA: 19s - loss: 0.1577 - accuracy: 0.950 - ETA: 17s - loss: 0.1527 - accuracy: 0.952 - ETA: 15s - loss: 0.1498 - accuracy: 0.953 - ETA: 12s - loss: 0.1493 - accuracy: 0.952 - ETA: 10s - loss: 0.1511 - accuracy: 0.950 - ETA: 7s - loss: 0.1589 - accuracy: 0.946 - ETA: 5s - loss: 0.1689 - accuracy: 0.94 - ETA: 3s - loss: 0.1680 - accuracy: 0.94 - ETA: 0s - loss: 0.1651 - accuracy: 0.94 - 75s 83ms/step - loss: 0.1638 - accuracy: 0.9480 - val_loss: 0.7713 - val_accuracy: 0.7876\n",
                        "Epoch 35/100\n",
                        "903/903 [==============================] - ETA: 1:08 - loss: 0.0564 - accuracy: 1.00 - ETA: 1:04 - loss: 0.1257 - accuracy: 0.98 - ETA: 1:01 - loss: 0.1601 - accuracy: 0.95 - ETA: 58s - loss: 0.1779 - accuracy: 0.9453 - ETA: 55s - loss: 0.1643 - accuracy: 0.943 - ETA: 53s - loss: 0.1608 - accuracy: 0.947 - ETA: 50s - loss: 0.1442 - accuracy: 0.955 - ETA: 47s - loss: 0.1464 - accuracy: 0.957 - ETA: 45s - loss: 0.1373 - accuracy: 0.958 - ETA: 43s - loss: 0.1331 - accuracy: 0.956 - ETA: 40s - loss: 0.1474 - accuracy: 0.951 - ETA: 38s - loss: 0.1385 - accuracy: 0.955 - ETA: 35s - loss: 0.1394 - accuracy: 0.954 - ETA: 33s - loss: 0.1379 - accuracy: 0.950 - ETA: 31s - loss: 0.1316 - accuracy: 0.954 - ETA: 28s - loss: 0.1519 - accuracy: 0.949 - ETA: 26s - loss: 0.1569 - accuracy: 0.946 - ETA: 23s - loss: 0.1507 - accuracy: 0.949 - ETA: 21s - loss: 0.1494 - accuracy: 0.949 - ETA: 19s - loss: 0.1438 - accuracy: 0.951 - ETA: 16s - loss: 0.1381 - accuracy: 0.953 - ETA: 14s - loss: 0.1478 - accuracy: 0.951 - ETA: 12s - loss: 0.1519 - accuracy: 0.948 - ETA: 9s - loss: 0.1546 - accuracy: 0.947 - ETA: 7s - loss: 0.1659 - accuracy: 0.94 - ETA: 5s - loss: 0.1636 - accuracy: 0.94 - ETA: 2s - loss: 0.1657 - accuracy: 0.94 - ETA: 0s - loss: 0.1638 - accuracy: 0.94 - 69s 77ms/step - loss: 0.1627 - accuracy: 0.9480 - val_loss: 0.8445 - val_accuracy: 0.7699\n",
                        "Epoch 36/100\n",
                        "903/903 [==============================] - ETA: 1:01 - loss: 0.1269 - accuracy: 0.93 - ETA: 59s - loss: 0.1341 - accuracy: 0.9219 - ETA: 57s - loss: 0.1386 - accuracy: 0.927 - ETA: 55s - loss: 0.1296 - accuracy: 0.937 - ETA: 52s - loss: 0.1285 - accuracy: 0.937 - ETA: 50s - loss: 0.1588 - accuracy: 0.927 - ETA: 48s - loss: 0.1570 - accuracy: 0.933 - ETA: 46s - loss: 0.1577 - accuracy: 0.933 - ETA: 43s - loss: 0.1510 - accuracy: 0.937 - ETA: 41s - loss: 0.1569 - accuracy: 0.934 - ETA: 39s - loss: 0.1512 - accuracy: 0.937 - ETA: 37s - loss: 0.1515 - accuracy: 0.934 - ETA: 35s - loss: 0.1503 - accuracy: 0.937 - ETA: 32s - loss: 0.1484 - accuracy: 0.937 - ETA: 30s - loss: 0.1430 - accuracy: 0.939 - ETA: 28s - loss: 0.1453 - accuracy: 0.937 - ETA: 26s - loss: 0.1525 - accuracy: 0.935 - ETA: 23s - loss: 0.1463 - accuracy: 0.939 - ETA: 21s - loss: 0.1420 - accuracy: 0.940 - ETA: 19s - loss: 0.1483 - accuracy: 0.940 - ETA: 16s - loss: 0.1546 - accuracy: 0.940 - ETA: 14s - loss: 0.1539 - accuracy: 0.940 - ETA: 12s - loss: 0.1527 - accuracy: 0.941 - ETA: 9s - loss: 0.1512 - accuracy: 0.941 - ETA: 7s - loss: 0.1569 - accuracy: 0.93 - ETA: 5s - loss: 0.1549 - accuracy: 0.93 - ETA: 2s - loss: 0.1566 - accuracy: 0.93 - ETA: 0s - loss: 0.1538 - accuracy: 0.94 - 70s 77ms/step - loss: 0.1561 - accuracy: 0.9402 - val_loss: 0.8521 - val_accuracy: 0.7743\n"
                    ]
                },
                {
                    "name": "stdout",
                    "output_type": "stream",
                    "text": [
                        "Epoch 37/100\n",
                        "903/903 [==============================] - ETA: 1:02 - loss: 0.4334 - accuracy: 0.84 - ETA: 59s - loss: 0.2869 - accuracy: 0.8906 - ETA: 56s - loss: 0.2799 - accuracy: 0.885 - ETA: 54s - loss: 0.2405 - accuracy: 0.898 - ETA: 52s - loss: 0.2054 - accuracy: 0.918 - ETA: 50s - loss: 0.1862 - accuracy: 0.927 - ETA: 48s - loss: 0.1836 - accuracy: 0.933 - ETA: 45s - loss: 0.1784 - accuracy: 0.933 - ETA: 43s - loss: 0.1951 - accuracy: 0.930 - ETA: 41s - loss: 0.2121 - accuracy: 0.928 - ETA: 39s - loss: 0.2115 - accuracy: 0.926 - ETA: 36s - loss: 0.2016 - accuracy: 0.929 - ETA: 34s - loss: 0.1921 - accuracy: 0.932 - ETA: 32s - loss: 0.1875 - accuracy: 0.933 - ETA: 30s - loss: 0.1864 - accuracy: 0.931 - ETA: 27s - loss: 0.1795 - accuracy: 0.933 - ETA: 25s - loss: 0.1943 - accuracy: 0.932 - ETA: 23s - loss: 0.1877 - accuracy: 0.934 - ETA: 21s - loss: 0.1937 - accuracy: 0.932 - ETA: 18s - loss: 0.1875 - accuracy: 0.935 - ETA: 16s - loss: 0.1807 - accuracy: 0.939 - ETA: 14s - loss: 0.1772 - accuracy: 0.940 - ETA: 11s - loss: 0.1861 - accuracy: 0.937 - ETA: 9s - loss: 0.1822 - accuracy: 0.940 - ETA: 7s - loss: 0.1779 - accuracy: 0.94 - ETA: 5s - loss: 0.1779 - accuracy: 0.94 - ETA: 2s - loss: 0.1744 - accuracy: 0.94 - ETA: 0s - loss: 0.1786 - accuracy: 0.94 - 69s 77ms/step - loss: 0.1775 - accuracy: 0.9435 - val_loss: 0.6522 - val_accuracy: 0.8053\n",
                        "Epoch 38/100\n",
                        "903/903 [==============================] - ETA: 1:03 - loss: 0.3264 - accuracy: 0.87 - ETA: 1:02 - loss: 0.2881 - accuracy: 0.90 - ETA: 1:00 - loss: 0.3348 - accuracy: 0.88 - ETA: 58s - loss: 0.3192 - accuracy: 0.8984 - ETA: 56s - loss: 0.3218 - accuracy: 0.900 - ETA: 54s - loss: 0.2984 - accuracy: 0.906 - ETA: 51s - loss: 0.2700 - accuracy: 0.915 - ETA: 49s - loss: 0.2712 - accuracy: 0.914 - ETA: 47s - loss: 0.2460 - accuracy: 0.923 - ETA: 44s - loss: 0.2293 - accuracy: 0.928 - ETA: 42s - loss: 0.2155 - accuracy: 0.934 - ETA: 39s - loss: 0.2291 - accuracy: 0.929 - ETA: 37s - loss: 0.2201 - accuracy: 0.932 - ETA: 34s - loss: 0.2125 - accuracy: 0.935 - ETA: 32s - loss: 0.2131 - accuracy: 0.933 - ETA: 29s - loss: 0.2033 - accuracy: 0.935 - ETA: 27s - loss: 0.1981 - accuracy: 0.935 - ETA: 24s - loss: 0.1949 - accuracy: 0.937 - ETA: 22s - loss: 0.1895 - accuracy: 0.939 - ETA: 19s - loss: 0.1924 - accuracy: 0.937 - ETA: 17s - loss: 0.1858 - accuracy: 0.940 - ETA: 15s - loss: 0.1828 - accuracy: 0.941 - ETA: 12s - loss: 0.1852 - accuracy: 0.940 - ETA: 10s - loss: 0.1819 - accuracy: 0.941 - ETA: 7s - loss: 0.1789 - accuracy: 0.942 - ETA: 5s - loss: 0.1787 - accuracy: 0.94 - ETA: 2s - loss: 0.1775 - accuracy: 0.94 - ETA: 0s - loss: 0.1770 - accuracy: 0.94 - 73s 80ms/step - loss: 0.1760 - accuracy: 0.9435 - val_loss: 0.7196 - val_accuracy: 0.7655\n",
                        "Epoch 39/100\n",
                        "903/903 [==============================] - ETA: 1:04 - loss: 0.2576 - accuracy: 0.90 - ETA: 1:02 - loss: 0.2267 - accuracy: 0.90 - ETA: 1:00 - loss: 0.1680 - accuracy: 0.93 - ETA: 57s - loss: 0.1419 - accuracy: 0.9453 - ETA: 55s - loss: 0.1195 - accuracy: 0.956 - ETA: 52s - loss: 0.1105 - accuracy: 0.958 - ETA: 50s - loss: 0.1031 - accuracy: 0.964 - ETA: 48s - loss: 0.0942 - accuracy: 0.968 - ETA: 45s - loss: 0.1086 - accuracy: 0.965 - ETA: 43s - loss: 0.1156 - accuracy: 0.959 - ETA: 40s - loss: 0.1222 - accuracy: 0.957 - ETA: 38s - loss: 0.1230 - accuracy: 0.955 - ETA: 36s - loss: 0.1277 - accuracy: 0.956 - ETA: 33s - loss: 0.1267 - accuracy: 0.957 - ETA: 31s - loss: 0.1243 - accuracy: 0.956 - ETA: 29s - loss: 0.1192 - accuracy: 0.959 - ETA: 26s - loss: 0.1165 - accuracy: 0.959 - ETA: 24s - loss: 0.1280 - accuracy: 0.958 - ETA: 22s - loss: 0.1225 - accuracy: 0.960 - ETA: 19s - loss: 0.1237 - accuracy: 0.957 - ETA: 17s - loss: 0.1231 - accuracy: 0.958 - ETA: 14s - loss: 0.1198 - accuracy: 0.960 - ETA: 12s - loss: 0.1263 - accuracy: 0.959 - ETA: 10s - loss: 0.1411 - accuracy: 0.954 - ETA: 7s - loss: 0.1397 - accuracy: 0.955 - ETA: 5s - loss: 0.1403 - accuracy: 0.95 - ETA: 2s - loss: 0.1356 - accuracy: 0.95 - ETA: 0s - loss: 0.1409 - accuracy: 0.95 - 72s 80ms/step - loss: 0.1435 - accuracy: 0.9546 - val_loss: 0.8101 - val_accuracy: 0.7876\n",
                        "Epoch 40/100\n",
                        "903/903 [==============================] - ETA: 1:01 - loss: 0.0791 - accuracy: 0.96 - ETA: 59s - loss: 0.1637 - accuracy: 0.9531 - ETA: 57s - loss: 0.1302 - accuracy: 0.958 - ETA: 54s - loss: 0.1406 - accuracy: 0.945 - ETA: 52s - loss: 0.1439 - accuracy: 0.943 - ETA: 50s - loss: 0.1356 - accuracy: 0.947 - ETA: 47s - loss: 0.1729 - accuracy: 0.937 - ETA: 45s - loss: 0.1685 - accuracy: 0.941 - ETA: 43s - loss: 0.1586 - accuracy: 0.947 - ETA: 40s - loss: 0.1547 - accuracy: 0.946 - ETA: 38s - loss: 0.1587 - accuracy: 0.948 - ETA: 36s - loss: 0.1715 - accuracy: 0.945 - ETA: 34s - loss: 0.1622 - accuracy: 0.949 - ETA: 31s - loss: 0.1633 - accuracy: 0.950 - ETA: 29s - loss: 0.1673 - accuracy: 0.947 - ETA: 27s - loss: 0.1706 - accuracy: 0.945 - ETA: 25s - loss: 0.1633 - accuracy: 0.948 - ETA: 22s - loss: 0.1629 - accuracy: 0.947 - ETA: 20s - loss: 0.1555 - accuracy: 0.950 - ETA: 18s - loss: 0.1505 - accuracy: 0.951 - ETA: 16s - loss: 0.1490 - accuracy: 0.952 - ETA: 13s - loss: 0.1598 - accuracy: 0.948 - ETA: 11s - loss: 0.1704 - accuracy: 0.945 - ETA: 9s - loss: 0.1724 - accuracy: 0.945 - ETA: 7s - loss: 0.1688 - accuracy: 0.94 - ETA: 4s - loss: 0.1703 - accuracy: 0.94 - ETA: 2s - loss: 0.1695 - accuracy: 0.94 - ETA: 0s - loss: 0.1655 - accuracy: 0.94 - 67s 74ms/step - loss: 0.1643 - accuracy: 0.9502 - val_loss: 0.6993 - val_accuracy: 0.7965\n",
                        "Epoch 41/100\n",
                        "903/903 [==============================] - ETA: 1:00 - loss: 0.0288 - accuracy: 1.00 - ETA: 57s - loss: 0.0734 - accuracy: 0.9844 - ETA: 55s - loss: 0.0866 - accuracy: 0.968 - ETA: 53s - loss: 0.1010 - accuracy: 0.968 - ETA: 50s - loss: 0.1325 - accuracy: 0.956 - ETA: 48s - loss: 0.1389 - accuracy: 0.953 - ETA: 46s - loss: 0.1506 - accuracy: 0.946 - ETA: 44s - loss: 0.1554 - accuracy: 0.945 - ETA: 42s - loss: 0.1519 - accuracy: 0.947 - ETA: 39s - loss: 0.1562 - accuracy: 0.946 - ETA: 37s - loss: 0.1596 - accuracy: 0.943 - ETA: 35s - loss: 0.1651 - accuracy: 0.940 - ETA: 33s - loss: 0.1564 - accuracy: 0.942 - ETA: 30s - loss: 0.1608 - accuracy: 0.939 - ETA: 28s - loss: 0.1527 - accuracy: 0.943 - ETA: 26s - loss: 0.1464 - accuracy: 0.947 - ETA: 24s - loss: 0.1472 - accuracy: 0.946 - ETA: 22s - loss: 0.1483 - accuracy: 0.946 - ETA: 20s - loss: 0.1516 - accuracy: 0.944 - ETA: 18s - loss: 0.1492 - accuracy: 0.945 - ETA: 15s - loss: 0.1487 - accuracy: 0.944 - ETA: 13s - loss: 0.1561 - accuracy: 0.938 - ETA: 11s - loss: 0.1643 - accuracy: 0.936 - ETA: 9s - loss: 0.1623 - accuracy: 0.936 - ETA: 7s - loss: 0.1583 - accuracy: 0.93 - ETA: 4s - loss: 0.1542 - accuracy: 0.93 - ETA: 2s - loss: 0.1565 - accuracy: 0.93 - ETA: 0s - loss: 0.1554 - accuracy: 0.94 - 66s 73ms/step - loss: 0.1556 - accuracy: 0.9413 - val_loss: 0.9013 - val_accuracy: 0.7743\n",
                        "Epoch 42/100\n",
                        "903/903 [==============================] - ETA: 1:00 - loss: 0.0348 - accuracy: 1.00 - ETA: 58s - loss: 0.2116 - accuracy: 0.9531 - ETA: 56s - loss: 0.2827 - accuracy: 0.927 - ETA: 54s - loss: 0.2652 - accuracy: 0.929 - ETA: 51s - loss: 0.2393 - accuracy: 0.937 - ETA: 49s - loss: 0.2336 - accuracy: 0.937 - ETA: 47s - loss: 0.2361 - accuracy: 0.933 - ETA: 44s - loss: 0.2254 - accuracy: 0.933 - ETA: 42s - loss: 0.2084 - accuracy: 0.937 - ETA: 40s - loss: 0.2056 - accuracy: 0.937 - ETA: 38s - loss: 0.1885 - accuracy: 0.943 - ETA: 35s - loss: 0.1783 - accuracy: 0.945 - ETA: 33s - loss: 0.1739 - accuracy: 0.947 - ETA: 31s - loss: 0.1780 - accuracy: 0.937 - ETA: 29s - loss: 0.1726 - accuracy: 0.941 - ETA: 27s - loss: 0.1669 - accuracy: 0.943 - ETA: 24s - loss: 0.1609 - accuracy: 0.944 - ETA: 22s - loss: 0.1543 - accuracy: 0.947 - ETA: 20s - loss: 0.1575 - accuracy: 0.944 - ETA: 18s - loss: 0.1603 - accuracy: 0.943 - ETA: 16s - loss: 0.1555 - accuracy: 0.944 - ETA: 13s - loss: 0.1524 - accuracy: 0.946 - ETA: 11s - loss: 0.1586 - accuracy: 0.944 - ETA: 9s - loss: 0.1534 - accuracy: 0.946 - ETA: 7s - loss: 0.1498 - accuracy: 0.94 - ETA: 4s - loss: 0.1453 - accuracy: 0.95 - ETA: 2s - loss: 0.1410 - accuracy: 0.95 - ETA: 0s - loss: 0.1459 - accuracy: 0.94 - 67s 74ms/step - loss: 0.1448 - accuracy: 0.9491 - val_loss: 0.9347 - val_accuracy: 0.7699\n"
                    ]
                },
                {
                    "name": "stdout",
                    "output_type": "stream",
                    "text": [
                        "Epoch 43/100\n",
                        "903/903 [==============================] - ETA: 1:02 - loss: 0.2309 - accuracy: 0.93 - ETA: 1:01 - loss: 0.1592 - accuracy: 0.95 - ETA: 58s - loss: 0.1458 - accuracy: 0.9583 - ETA: 55s - loss: 0.1459 - accuracy: 0.953 - ETA: 53s - loss: 0.1230 - accuracy: 0.962 - ETA: 51s - loss: 0.1151 - accuracy: 0.963 - ETA: 49s - loss: 0.1060 - accuracy: 0.968 - ETA: 46s - loss: 0.1030 - accuracy: 0.968 - ETA: 44s - loss: 0.1096 - accuracy: 0.968 - ETA: 42s - loss: 0.1075 - accuracy: 0.971 - ETA: 40s - loss: 0.1046 - accuracy: 0.971 - ETA: 38s - loss: 0.1014 - accuracy: 0.971 - ETA: 35s - loss: 0.1018 - accuracy: 0.971 - ETA: 33s - loss: 0.0993 - accuracy: 0.971 - ETA: 31s - loss: 0.1010 - accuracy: 0.970 - ETA: 28s - loss: 0.0975 - accuracy: 0.972 - ETA: 26s - loss: 0.1082 - accuracy: 0.968 - ETA: 24s - loss: 0.1111 - accuracy: 0.967 - ETA: 21s - loss: 0.1080 - accuracy: 0.968 - ETA: 19s - loss: 0.1043 - accuracy: 0.970 - ETA: 16s - loss: 0.1115 - accuracy: 0.968 - ETA: 14s - loss: 0.1120 - accuracy: 0.968 - ETA: 12s - loss: 0.1179 - accuracy: 0.967 - ETA: 9s - loss: 0.1142 - accuracy: 0.968 - ETA: 7s - loss: 0.1149 - accuracy: 0.96 - ETA: 5s - loss: 0.1116 - accuracy: 0.96 - ETA: 2s - loss: 0.1173 - accuracy: 0.96 - ETA: 0s - loss: 0.1160 - accuracy: 0.96 - 70s 78ms/step - loss: 0.1153 - accuracy: 0.9668 - val_loss: 0.9339 - val_accuracy: 0.7920\n",
                        "Epoch 44/100\n",
                        "903/903 [==============================] - ETA: 1:03 - loss: 0.1755 - accuracy: 0.90 - ETA: 1:01 - loss: 0.1682 - accuracy: 0.92 - ETA: 58s - loss: 0.2014 - accuracy: 0.8958 - ETA: 56s - loss: 0.1842 - accuracy: 0.898 - ETA: 54s - loss: 0.1775 - accuracy: 0.906 - ETA: 52s - loss: 0.1611 - accuracy: 0.916 - ETA: 49s - loss: 0.1409 - accuracy: 0.928 - ETA: 47s - loss: 0.1267 - accuracy: 0.937 - ETA: 45s - loss: 0.1181 - accuracy: 0.944 - ETA: 42s - loss: 0.1119 - accuracy: 0.950 - ETA: 40s - loss: 0.1218 - accuracy: 0.946 - ETA: 38s - loss: 0.1167 - accuracy: 0.947 - ETA: 36s - loss: 0.1244 - accuracy: 0.947 - ETA: 33s - loss: 0.1470 - accuracy: 0.944 - ETA: 31s - loss: 0.1506 - accuracy: 0.943 - ETA: 29s - loss: 0.1506 - accuracy: 0.943 - ETA: 26s - loss: 0.1641 - accuracy: 0.935 - ETA: 24s - loss: 0.1720 - accuracy: 0.937 - ETA: 21s - loss: 0.1730 - accuracy: 0.935 - ETA: 19s - loss: 0.1670 - accuracy: 0.939 - ETA: 17s - loss: 0.1683 - accuracy: 0.940 - ETA: 14s - loss: 0.1661 - accuracy: 0.940 - ETA: 12s - loss: 0.1611 - accuracy: 0.941 - ETA: 10s - loss: 0.1616 - accuracy: 0.940 - ETA: 7s - loss: 0.1644 - accuracy: 0.938 - ETA: 5s - loss: 0.1659 - accuracy: 0.93 - ETA: 2s - loss: 0.1637 - accuracy: 0.93 - ETA: 0s - loss: 0.1589 - accuracy: 0.94 - 74s 82ms/step - loss: 0.1579 - accuracy: 0.9413 - val_loss: 0.8106 - val_accuracy: 0.7832\n",
                        "Epoch 45/100\n",
                        "903/903 [==============================] - ETA: 1:10 - loss: 0.0298 - accuracy: 1.00 - ETA: 1:07 - loss: 0.1301 - accuracy: 0.96 - ETA: 1:05 - loss: 0.1374 - accuracy: 0.94 - ETA: 1:02 - loss: 0.1587 - accuracy: 0.94 - ETA: 1:00 - loss: 0.1582 - accuracy: 0.94 - ETA: 58s - loss: 0.1858 - accuracy: 0.9323 - ETA: 55s - loss: 0.1812 - accuracy: 0.933 - ETA: 52s - loss: 0.1603 - accuracy: 0.941 - ETA: 49s - loss: 0.1622 - accuracy: 0.941 - ETA: 46s - loss: 0.1607 - accuracy: 0.940 - ETA: 43s - loss: 0.1612 - accuracy: 0.943 - ETA: 40s - loss: 0.1604 - accuracy: 0.945 - ETA: 38s - loss: 0.1675 - accuracy: 0.939 - ETA: 35s - loss: 0.1746 - accuracy: 0.937 - ETA: 32s - loss: 0.1727 - accuracy: 0.937 - ETA: 30s - loss: 0.1717 - accuracy: 0.935 - ETA: 27s - loss: 0.1699 - accuracy: 0.937 - ETA: 24s - loss: 0.1670 - accuracy: 0.937 - ETA: 22s - loss: 0.1644 - accuracy: 0.939 - ETA: 19s - loss: 0.1580 - accuracy: 0.942 - ETA: 17s - loss: 0.1519 - accuracy: 0.944 - ETA: 15s - loss: 0.1475 - accuracy: 0.947 - ETA: 12s - loss: 0.1489 - accuracy: 0.948 - ETA: 10s - loss: 0.1511 - accuracy: 0.946 - ETA: 7s - loss: 0.1467 - accuracy: 0.948 - ETA: 5s - loss: 0.1431 - accuracy: 0.95 - ETA: 2s - loss: 0.1432 - accuracy: 0.95 - ETA: 0s - loss: 0.1463 - accuracy: 0.94 - 71s 79ms/step - loss: 0.1455 - accuracy: 0.9502 - val_loss: 0.7076 - val_accuracy: 0.8097\n",
                        "Epoch 46/100\n",
                        "903/903 [==============================] - ETA: 1:00 - loss: 0.0559 - accuracy: 1.00 - ETA: 1:00 - loss: 0.0613 - accuracy: 1.00 - ETA: 58s - loss: 0.0716 - accuracy: 0.9896 - ETA: 55s - loss: 0.0647 - accuracy: 0.992 - ETA: 53s - loss: 0.0785 - accuracy: 0.981 - ETA: 51s - loss: 0.0759 - accuracy: 0.979 - ETA: 49s - loss: 0.0816 - accuracy: 0.977 - ETA: 46s - loss: 0.0817 - accuracy: 0.980 - ETA: 44s - loss: 0.0822 - accuracy: 0.975 - ETA: 42s - loss: 0.0956 - accuracy: 0.971 - ETA: 40s - loss: 0.0901 - accuracy: 0.974 - ETA: 37s - loss: 0.0922 - accuracy: 0.974 - ETA: 35s - loss: 0.0875 - accuracy: 0.976 - ETA: 33s - loss: 0.0844 - accuracy: 0.975 - ETA: 31s - loss: 0.0843 - accuracy: 0.975 - ETA: 28s - loss: 0.0897 - accuracy: 0.970 - ETA: 26s - loss: 0.0886 - accuracy: 0.970 - ETA: 23s - loss: 0.0897 - accuracy: 0.968 - ETA: 21s - loss: 0.0944 - accuracy: 0.963 - ETA: 19s - loss: 0.0980 - accuracy: 0.962 - ETA: 16s - loss: 0.0966 - accuracy: 0.962 - ETA: 14s - loss: 0.0990 - accuracy: 0.961 - ETA: 12s - loss: 0.0989 - accuracy: 0.962 - ETA: 9s - loss: 0.1035 - accuracy: 0.960 - ETA: 7s - loss: 0.1083 - accuracy: 0.95 - ETA: 5s - loss: 0.1091 - accuracy: 0.95 - ETA: 2s - loss: 0.1120 - accuracy: 0.95 - ETA: 0s - loss: 0.1098 - accuracy: 0.95 - 70s 78ms/step - loss: 0.1145 - accuracy: 0.9590 - val_loss: 0.8094 - val_accuracy: 0.7832\n",
                        "Epoch 47/100\n",
                        "903/903 [==============================] - ETA: 1:00 - loss: 0.0763 - accuracy: 0.96 - ETA: 1:00 - loss: 0.0956 - accuracy: 0.95 - ETA: 57s - loss: 0.0948 - accuracy: 0.9688 - ETA: 56s - loss: 0.0963 - accuracy: 0.960 - ETA: 54s - loss: 0.0812 - accuracy: 0.968 - ETA: 51s - loss: 0.1363 - accuracy: 0.947 - ETA: 49s - loss: 0.1335 - accuracy: 0.946 - ETA: 46s - loss: 0.1231 - accuracy: 0.953 - ETA: 44s - loss: 0.1448 - accuracy: 0.947 - ETA: 41s - loss: 0.1650 - accuracy: 0.943 - ETA: 39s - loss: 0.1745 - accuracy: 0.940 - ETA: 37s - loss: 0.1658 - accuracy: 0.945 - ETA: 34s - loss: 0.1622 - accuracy: 0.944 - ETA: 32s - loss: 0.1700 - accuracy: 0.942 - ETA: 30s - loss: 0.1639 - accuracy: 0.943 - ETA: 28s - loss: 0.1608 - accuracy: 0.945 - ETA: 25s - loss: 0.1550 - accuracy: 0.948 - ETA: 23s - loss: 0.1586 - accuracy: 0.947 - ETA: 21s - loss: 0.1592 - accuracy: 0.947 - ETA: 18s - loss: 0.1556 - accuracy: 0.950 - ETA: 16s - loss: 0.1521 - accuracy: 0.950 - ETA: 14s - loss: 0.1606 - accuracy: 0.947 - ETA: 11s - loss: 0.1611 - accuracy: 0.945 - ETA: 9s - loss: 0.1602 - accuracy: 0.945 - ETA: 7s - loss: 0.1611 - accuracy: 0.94 - ETA: 5s - loss: 0.1574 - accuracy: 0.94 - ETA: 2s - loss: 0.1546 - accuracy: 0.94 - ETA: 0s - loss: 0.1566 - accuracy: 0.94 - 68s 75ms/step - loss: 0.1593 - accuracy: 0.9435 - val_loss: 0.6476 - val_accuracy: 0.8230\n",
                        "Epoch 48/100\n",
                        "903/903 [==============================] - ETA: 1:01 - loss: 0.0611 - accuracy: 1.00 - ETA: 59s - loss: 0.1302 - accuracy: 0.9688 - ETA: 56s - loss: 0.1186 - accuracy: 0.968 - ETA: 54s - loss: 0.1267 - accuracy: 0.960 - ETA: 52s - loss: 0.1160 - accuracy: 0.962 - ETA: 50s - loss: 0.1226 - accuracy: 0.958 - ETA: 48s - loss: 0.1270 - accuracy: 0.955 - ETA: 45s - loss: 0.1280 - accuracy: 0.953 - ETA: 43s - loss: 0.1201 - accuracy: 0.958 - ETA: 41s - loss: 0.1233 - accuracy: 0.959 - ETA: 39s - loss: 0.1209 - accuracy: 0.960 - ETA: 37s - loss: 0.1236 - accuracy: 0.960 - ETA: 35s - loss: 0.1378 - accuracy: 0.956 - ETA: 33s - loss: 0.1366 - accuracy: 0.955 - ETA: 30s - loss: 0.1328 - accuracy: 0.956 - ETA: 28s - loss: 0.1282 - accuracy: 0.959 - ETA: 26s - loss: 0.1237 - accuracy: 0.961 - ETA: 24s - loss: 0.1240 - accuracy: 0.961 - ETA: 21s - loss: 0.1278 - accuracy: 0.962 - ETA: 19s - loss: 0.1236 - accuracy: 0.964 - ETA: 17s - loss: 0.1314 - accuracy: 0.959 - ETA: 14s - loss: 0.1264 - accuracy: 0.961 - ETA: 12s - loss: 0.1228 - accuracy: 0.962 - ETA: 9s - loss: 0.1233 - accuracy: 0.959 - ETA: 7s - loss: 0.1220 - accuracy: 0.96 - ETA: 5s - loss: 0.1189 - accuracy: 0.96 - ETA: 2s - loss: 0.1172 - accuracy: 0.96 - ETA: 0s - loss: 0.1190 - accuracy: 0.96 - 70s 78ms/step - loss: 0.1183 - accuracy: 0.9612 - val_loss: 0.6784 - val_accuracy: 0.8097\n"
                    ]
                },
                {
                    "name": "stdout",
                    "output_type": "stream",
                    "text": [
                        "Epoch 49/100\n",
                        "903/903 [==============================] - ETA: 1:03 - loss: 0.0661 - accuracy: 0.96 - ETA: 1:00 - loss: 0.1460 - accuracy: 0.93 - ETA: 58s - loss: 0.1070 - accuracy: 0.9583 - ETA: 56s - loss: 0.1173 - accuracy: 0.945 - ETA: 53s - loss: 0.1326 - accuracy: 0.937 - ETA: 51s - loss: 0.1160 - accuracy: 0.947 - ETA: 49s - loss: 0.1329 - accuracy: 0.942 - ETA: 47s - loss: 0.1252 - accuracy: 0.949 - ETA: 44s - loss: 0.1304 - accuracy: 0.951 - ETA: 42s - loss: 0.1263 - accuracy: 0.953 - ETA: 40s - loss: 0.1277 - accuracy: 0.954 - ETA: 37s - loss: 0.1230 - accuracy: 0.955 - ETA: 35s - loss: 0.1203 - accuracy: 0.956 - ETA: 33s - loss: 0.1250 - accuracy: 0.957 - ETA: 30s - loss: 0.1228 - accuracy: 0.958 - ETA: 28s - loss: 0.1191 - accuracy: 0.959 - ETA: 26s - loss: 0.1248 - accuracy: 0.955 - ETA: 23s - loss: 0.1239 - accuracy: 0.956 - ETA: 21s - loss: 0.1183 - accuracy: 0.958 - ETA: 19s - loss: 0.1129 - accuracy: 0.960 - ETA: 16s - loss: 0.1153 - accuracy: 0.959 - ETA: 14s - loss: 0.1115 - accuracy: 0.961 - ETA: 12s - loss: 0.1135 - accuracy: 0.959 - ETA: 9s - loss: 0.1111 - accuracy: 0.959 - ETA: 7s - loss: 0.1128 - accuracy: 0.95 - ETA: 5s - loss: 0.1146 - accuracy: 0.95 - ETA: 2s - loss: 0.1156 - accuracy: 0.95 - ETA: 0s - loss: 0.1126 - accuracy: 0.95 - 70s 77ms/step - loss: 0.1118 - accuracy: 0.9601 - val_loss: 0.8346 - val_accuracy: 0.7699\n",
                        "Epoch 50/100\n",
                        "903/903 [==============================] - ETA: 1:02 - loss: 0.0947 - accuracy: 0.96 - ETA: 1:00 - loss: 0.0905 - accuracy: 0.96 - ETA: 58s - loss: 0.0787 - accuracy: 0.9792 - ETA: 55s - loss: 0.0812 - accuracy: 0.968 - ETA: 53s - loss: 0.0819 - accuracy: 0.962 - ETA: 51s - loss: 0.0694 - accuracy: 0.968 - ETA: 49s - loss: 0.0868 - accuracy: 0.968 - ETA: 47s - loss: 0.0833 - accuracy: 0.968 - ETA: 45s - loss: 0.0835 - accuracy: 0.968 - ETA: 42s - loss: 0.0816 - accuracy: 0.968 - ETA: 40s - loss: 0.0819 - accuracy: 0.965 - ETA: 38s - loss: 0.0853 - accuracy: 0.966 - ETA: 35s - loss: 0.0812 - accuracy: 0.968 - ETA: 33s - loss: 0.0832 - accuracy: 0.968 - ETA: 31s - loss: 0.0956 - accuracy: 0.966 - ETA: 28s - loss: 0.0962 - accuracy: 0.964 - ETA: 26s - loss: 0.0948 - accuracy: 0.965 - ETA: 23s - loss: 0.0928 - accuracy: 0.965 - ETA: 21s - loss: 0.0985 - accuracy: 0.960 - ETA: 19s - loss: 0.1027 - accuracy: 0.959 - ETA: 16s - loss: 0.1053 - accuracy: 0.956 - ETA: 14s - loss: 0.1064 - accuracy: 0.954 - ETA: 12s - loss: 0.1053 - accuracy: 0.953 - ETA: 9s - loss: 0.1104 - accuracy: 0.951 - ETA: 7s - loss: 0.1068 - accuracy: 0.95 - ETA: 5s - loss: 0.1118 - accuracy: 0.95 - ETA: 2s - loss: 0.1082 - accuracy: 0.95 - ETA: 0s - loss: 0.1095 - accuracy: 0.95 - 70s 78ms/step - loss: 0.1137 - accuracy: 0.9535 - val_loss: 0.7245 - val_accuracy: 0.8097\n",
                        "Epoch 51/100\n",
                        "903/903 [==============================] - ETA: 1:02 - loss: 0.1973 - accuracy: 0.93 - ETA: 1:00 - loss: 0.1088 - accuracy: 0.96 - ETA: 58s - loss: 0.1313 - accuracy: 0.9688 - ETA: 55s - loss: 0.1228 - accuracy: 0.960 - ETA: 53s - loss: 0.1142 - accuracy: 0.968 - ETA: 51s - loss: 0.1026 - accuracy: 0.974 - ETA: 49s - loss: 0.0958 - accuracy: 0.977 - ETA: 46s - loss: 0.0858 - accuracy: 0.980 - ETA: 44s - loss: 0.0794 - accuracy: 0.982 - ETA: 42s - loss: 0.0813 - accuracy: 0.978 - ETA: 40s - loss: 0.0824 - accuracy: 0.977 - ETA: 37s - loss: 0.0939 - accuracy: 0.976 - ETA: 35s - loss: 0.0936 - accuracy: 0.976 - ETA: 33s - loss: 0.0953 - accuracy: 0.975 - ETA: 30s - loss: 0.0927 - accuracy: 0.977 - ETA: 28s - loss: 0.0887 - accuracy: 0.978 - ETA: 26s - loss: 0.0878 - accuracy: 0.976 - ETA: 23s - loss: 0.0890 - accuracy: 0.974 - ETA: 21s - loss: 0.0896 - accuracy: 0.973 - ETA: 19s - loss: 0.0885 - accuracy: 0.975 - ETA: 16s - loss: 0.0851 - accuracy: 0.976 - ETA: 14s - loss: 0.0855 - accuracy: 0.975 - ETA: 12s - loss: 0.0853 - accuracy: 0.975 - ETA: 9s - loss: 0.0850 - accuracy: 0.975 - ETA: 7s - loss: 0.0868 - accuracy: 0.97 - ETA: 5s - loss: 0.0891 - accuracy: 0.97 - ETA: 2s - loss: 0.0934 - accuracy: 0.97 - ETA: 0s - loss: 0.0941 - accuracy: 0.97 - 70s 77ms/step - loss: 0.0934 - accuracy: 0.9712 - val_loss: 0.8151 - val_accuracy: 0.8053\n",
                        "Epoch 52/100\n",
                        "903/903 [==============================] - ETA: 1:04 - loss: 0.0344 - accuracy: 1.00 - ETA: 1:02 - loss: 0.1291 - accuracy: 0.96 - ETA: 1:00 - loss: 0.0969 - accuracy: 0.97 - ETA: 58s - loss: 0.1022 - accuracy: 0.9688 - ETA: 55s - loss: 0.0894 - accuracy: 0.968 - ETA: 52s - loss: 0.0937 - accuracy: 0.968 - ETA: 50s - loss: 0.0901 - accuracy: 0.968 - ETA: 48s - loss: 0.0924 - accuracy: 0.964 - ETA: 46s - loss: 0.1033 - accuracy: 0.961 - ETA: 44s - loss: 0.1127 - accuracy: 0.959 - ETA: 41s - loss: 0.1116 - accuracy: 0.957 - ETA: 39s - loss: 0.1064 - accuracy: 0.960 - ETA: 36s - loss: 0.1066 - accuracy: 0.961 - ETA: 34s - loss: 0.1135 - accuracy: 0.957 - ETA: 31s - loss: 0.1171 - accuracy: 0.954 - ETA: 29s - loss: 0.1111 - accuracy: 0.957 - ETA: 26s - loss: 0.1123 - accuracy: 0.955 - ETA: 24s - loss: 0.1067 - accuracy: 0.958 - ETA: 21s - loss: 0.1102 - accuracy: 0.957 - ETA: 19s - loss: 0.1165 - accuracy: 0.956 - ETA: 17s - loss: 0.1160 - accuracy: 0.956 - ETA: 14s - loss: 0.1212 - accuracy: 0.957 - ETA: 12s - loss: 0.1184 - accuracy: 0.959 - ETA: 9s - loss: 0.1196 - accuracy: 0.958 - ETA: 7s - loss: 0.1162 - accuracy: 0.96 - ETA: 5s - loss: 0.1148 - accuracy: 0.96 - ETA: 2s - loss: 0.1115 - accuracy: 0.96 - ETA: 0s - loss: 0.1092 - accuracy: 0.96 - 70s 78ms/step - loss: 0.1084 - accuracy: 0.9646 - val_loss: 0.7135 - val_accuracy: 0.8097\n",
                        "Epoch 53/100\n",
                        "903/903 [==============================] - ETA: 1:00 - loss: 0.0958 - accuracy: 0.96 - ETA: 1:00 - loss: 0.1050 - accuracy: 0.96 - ETA: 57s - loss: 0.0958 - accuracy: 0.9792 - ETA: 55s - loss: 0.0799 - accuracy: 0.984 - ETA: 53s - loss: 0.0696 - accuracy: 0.987 - ETA: 50s - loss: 0.0980 - accuracy: 0.963 - ETA: 48s - loss: 0.1001 - accuracy: 0.959 - ETA: 46s - loss: 0.0912 - accuracy: 0.964 - ETA: 44s - loss: 0.0912 - accuracy: 0.961 - ETA: 41s - loss: 0.0858 - accuracy: 0.965 - ETA: 39s - loss: 0.1071 - accuracy: 0.960 - ETA: 37s - loss: 0.1013 - accuracy: 0.963 - ETA: 35s - loss: 0.1020 - accuracy: 0.961 - ETA: 32s - loss: 0.1126 - accuracy: 0.955 - ETA: 30s - loss: 0.1092 - accuracy: 0.956 - ETA: 28s - loss: 0.1079 - accuracy: 0.957 - ETA: 25s - loss: 0.1022 - accuracy: 0.959 - ETA: 23s - loss: 0.0989 - accuracy: 0.961 - ETA: 21s - loss: 0.0951 - accuracy: 0.963 - ETA: 19s - loss: 0.0931 - accuracy: 0.964 - ETA: 16s - loss: 0.0913 - accuracy: 0.965 - ETA: 14s - loss: 0.0881 - accuracy: 0.967 - ETA: 12s - loss: 0.0878 - accuracy: 0.967 - ETA: 9s - loss: 0.0870 - accuracy: 0.966 - ETA: 7s - loss: 0.0947 - accuracy: 0.96 - ETA: 5s - loss: 0.1030 - accuracy: 0.96 - ETA: 2s - loss: 0.1038 - accuracy: 0.96 - ETA: 0s - loss: 0.1059 - accuracy: 0.96 - 70s 78ms/step - loss: 0.1052 - accuracy: 0.9635 - val_loss: 0.7814 - val_accuracy: 0.8009\n",
                        "Epoch 54/100\n",
                        "903/903 [==============================] - ETA: 1:04 - loss: 0.1022 - accuracy: 0.96 - ETA: 1:02 - loss: 0.0692 - accuracy: 0.98 - ETA: 1:00 - loss: 0.0836 - accuracy: 0.97 - ETA: 57s - loss: 0.0744 - accuracy: 0.9766 - ETA: 55s - loss: 0.0649 - accuracy: 0.981 - ETA: 52s - loss: 0.0700 - accuracy: 0.979 - ETA: 50s - loss: 0.0627 - accuracy: 0.982 - ETA: 47s - loss: 0.0637 - accuracy: 0.980 - ETA: 44s - loss: 0.0596 - accuracy: 0.982 - ETA: 42s - loss: 0.0612 - accuracy: 0.981 - ETA: 40s - loss: 0.0737 - accuracy: 0.977 - ETA: 37s - loss: 0.0711 - accuracy: 0.976 - ETA: 35s - loss: 0.0863 - accuracy: 0.971 - ETA: 33s - loss: 0.0963 - accuracy: 0.968 - ETA: 30s - loss: 0.0903 - accuracy: 0.970 - ETA: 28s - loss: 0.0859 - accuracy: 0.972 - ETA: 26s - loss: 0.1073 - accuracy: 0.963 - ETA: 23s - loss: 0.1027 - accuracy: 0.965 - ETA: 21s - loss: 0.1086 - accuracy: 0.963 - ETA: 19s - loss: 0.1046 - accuracy: 0.965 - ETA: 16s - loss: 0.1023 - accuracy: 0.967 - ETA: 14s - loss: 0.1049 - accuracy: 0.964 - ETA: 12s - loss: 0.1144 - accuracy: 0.963 - ETA: 9s - loss: 0.1132 - accuracy: 0.963 - ETA: 7s - loss: 0.1114 - accuracy: 0.96 - ETA: 5s - loss: 0.1124 - accuracy: 0.96 - ETA: 2s - loss: 0.1146 - accuracy: 0.96 - ETA: 0s - loss: 0.1253 - accuracy: 0.95 - 70s 77ms/step - loss: 0.1245 - accuracy: 0.9601 - val_loss: 0.7915 - val_accuracy: 0.7920\n"
                    ]
                },
                {
                    "name": "stdout",
                    "output_type": "stream",
                    "text": [
                        "Epoch 55/100\n",
                        "903/903 [==============================] - ETA: 1:03 - loss: 0.0345 - accuracy: 1.00 - ETA: 1:01 - loss: 0.0946 - accuracy: 0.98 - ETA: 59s - loss: 0.0800 - accuracy: 0.9896 - ETA: 57s - loss: 0.1040 - accuracy: 0.976 - ETA: 54s - loss: 0.1520 - accuracy: 0.962 - ETA: 52s - loss: 0.1286 - accuracy: 0.968 - ETA: 49s - loss: 0.1231 - accuracy: 0.968 - ETA: 47s - loss: 0.1143 - accuracy: 0.968 - ETA: 45s - loss: 0.1235 - accuracy: 0.961 - ETA: 43s - loss: 0.1245 - accuracy: 0.959 - ETA: 40s - loss: 0.1335 - accuracy: 0.954 - ETA: 38s - loss: 0.1381 - accuracy: 0.953 - ETA: 36s - loss: 0.1439 - accuracy: 0.951 - ETA: 33s - loss: 0.1378 - accuracy: 0.955 - ETA: 31s - loss: 0.1340 - accuracy: 0.958 - ETA: 29s - loss: 0.1272 - accuracy: 0.960 - ETA: 26s - loss: 0.1204 - accuracy: 0.963 - ETA: 24s - loss: 0.1220 - accuracy: 0.960 - ETA: 22s - loss: 0.1172 - accuracy: 0.962 - ETA: 19s - loss: 0.1126 - accuracy: 0.964 - ETA: 17s - loss: 0.1088 - accuracy: 0.965 - ETA: 14s - loss: 0.1094 - accuracy: 0.965 - ETA: 12s - loss: 0.1084 - accuracy: 0.967 - ETA: 10s - loss: 0.1062 - accuracy: 0.967 - ETA: 7s - loss: 0.1052 - accuracy: 0.967 - ETA: 5s - loss: 0.1041 - accuracy: 0.96 - ETA: 2s - loss: 0.1059 - accuracy: 0.96 - ETA: 0s - loss: 0.1101 - accuracy: 0.96 - 72s 79ms/step - loss: 0.1130 - accuracy: 0.9635 - val_loss: 0.8223 - val_accuracy: 0.7788\n",
                        "Epoch 56/100\n",
                        "903/903 [==============================] - ETA: 1:04 - loss: 0.0861 - accuracy: 0.93 - ETA: 1:01 - loss: 0.0617 - accuracy: 0.95 - ETA: 59s - loss: 0.0790 - accuracy: 0.9583 - ETA: 57s - loss: 0.0800 - accuracy: 0.953 - ETA: 54s - loss: 0.0908 - accuracy: 0.950 - ETA: 52s - loss: 0.0957 - accuracy: 0.953 - ETA: 50s - loss: 0.0893 - accuracy: 0.955 - ETA: 47s - loss: 0.0919 - accuracy: 0.953 - ETA: 45s - loss: 0.0857 - accuracy: 0.958 - ETA: 43s - loss: 0.1115 - accuracy: 0.953 - ETA: 40s - loss: 0.1045 - accuracy: 0.957 - ETA: 38s - loss: 0.1017 - accuracy: 0.958 - ETA: 36s - loss: 0.0963 - accuracy: 0.961 - ETA: 33s - loss: 0.0903 - accuracy: 0.964 - ETA: 31s - loss: 0.0937 - accuracy: 0.962 - ETA: 29s - loss: 0.0980 - accuracy: 0.962 - ETA: 26s - loss: 0.0948 - accuracy: 0.965 - ETA: 24s - loss: 0.1098 - accuracy: 0.958 - ETA: 21s - loss: 0.1185 - accuracy: 0.953 - ETA: 19s - loss: 0.1179 - accuracy: 0.954 - ETA: 17s - loss: 0.1174 - accuracy: 0.953 - ETA: 14s - loss: 0.1146 - accuracy: 0.956 - ETA: 12s - loss: 0.1141 - accuracy: 0.955 - ETA: 9s - loss: 0.1126 - accuracy: 0.954 - ETA: 7s - loss: 0.1146 - accuracy: 0.95 - ETA: 5s - loss: 0.1125 - accuracy: 0.95 - ETA: 2s - loss: 0.1153 - accuracy: 0.95 - ETA: 0s - loss: 0.1153 - accuracy: 0.95 - 71s 79ms/step - loss: 0.1146 - accuracy: 0.9557 - val_loss: 0.7690 - val_accuracy: 0.7876\n",
                        "Epoch 57/100\n",
                        "903/903 [==============================] - ETA: 1:06 - loss: 0.3068 - accuracy: 0.93 - ETA: 1:04 - loss: 0.2589 - accuracy: 0.93 - ETA: 1:02 - loss: 0.1996 - accuracy: 0.95 - ETA: 59s - loss: 0.1678 - accuracy: 0.9688 - ETA: 56s - loss: 0.1750 - accuracy: 0.962 - ETA: 54s - loss: 0.1548 - accuracy: 0.963 - ETA: 52s - loss: 0.1625 - accuracy: 0.959 - ETA: 49s - loss: 0.1561 - accuracy: 0.964 - ETA: 47s - loss: 0.1496 - accuracy: 0.965 - ETA: 44s - loss: 0.1453 - accuracy: 0.962 - ETA: 41s - loss: 0.1517 - accuracy: 0.960 - ETA: 39s - loss: 0.1550 - accuracy: 0.955 - ETA: 36s - loss: 0.1546 - accuracy: 0.954 - ETA: 34s - loss: 0.1472 - accuracy: 0.957 - ETA: 31s - loss: 0.1477 - accuracy: 0.956 - ETA: 29s - loss: 0.1406 - accuracy: 0.959 - ETA: 26s - loss: 0.1383 - accuracy: 0.959 - ETA: 24s - loss: 0.1324 - accuracy: 0.961 - ETA: 21s - loss: 0.1369 - accuracy: 0.958 - ETA: 19s - loss: 0.1372 - accuracy: 0.957 - ETA: 17s - loss: 0.1337 - accuracy: 0.958 - ETA: 14s - loss: 0.1298 - accuracy: 0.958 - ETA: 12s - loss: 0.1286 - accuracy: 0.959 - ETA: 9s - loss: 0.1238 - accuracy: 0.960 - ETA: 7s - loss: 0.1241 - accuracy: 0.96 - ETA: 5s - loss: 0.1226 - accuracy: 0.96 - ETA: 2s - loss: 0.1248 - accuracy: 0.95 - ETA: 0s - loss: 0.1272 - accuracy: 0.95 - 71s 78ms/step - loss: 0.1263 - accuracy: 0.9601 - val_loss: 0.8485 - val_accuracy: 0.7876\n",
                        "Epoch 58/100\n",
                        "903/903 [==============================] - ETA: 1:05 - loss: 0.1923 - accuracy: 0.93 - ETA: 1:03 - loss: 0.1486 - accuracy: 0.93 - ETA: 1:01 - loss: 0.1788 - accuracy: 0.91 - ETA: 58s - loss: 0.1759 - accuracy: 0.9062 - ETA: 55s - loss: 0.1495 - accuracy: 0.918 - ETA: 53s - loss: 0.1297 - accuracy: 0.932 - ETA: 51s - loss: 0.1130 - accuracy: 0.942 - ETA: 48s - loss: 0.1035 - accuracy: 0.949 - ETA: 46s - loss: 0.0966 - accuracy: 0.954 - ETA: 43s - loss: 0.0925 - accuracy: 0.959 - ETA: 41s - loss: 0.0922 - accuracy: 0.960 - ETA: 38s - loss: 0.1027 - accuracy: 0.958 - ETA: 36s - loss: 0.1058 - accuracy: 0.951 - ETA: 33s - loss: 0.1030 - accuracy: 0.953 - ETA: 31s - loss: 0.1041 - accuracy: 0.952 - ETA: 29s - loss: 0.1033 - accuracy: 0.953 - ETA: 26s - loss: 0.1063 - accuracy: 0.952 - ETA: 24s - loss: 0.1068 - accuracy: 0.951 - ETA: 21s - loss: 0.1047 - accuracy: 0.952 - ETA: 19s - loss: 0.1031 - accuracy: 0.953 - ETA: 17s - loss: 0.1039 - accuracy: 0.953 - ETA: 14s - loss: 0.1020 - accuracy: 0.954 - ETA: 12s - loss: 0.1078 - accuracy: 0.952 - ETA: 9s - loss: 0.1045 - accuracy: 0.954 - ETA: 7s - loss: 0.1068 - accuracy: 0.95 - ETA: 5s - loss: 0.1058 - accuracy: 0.95 - ETA: 2s - loss: 0.1112 - accuracy: 0.95 - ETA: 0s - loss: 0.1103 - accuracy: 0.95 - 72s 79ms/step - loss: 0.1095 - accuracy: 0.9524 - val_loss: 0.8502 - val_accuracy: 0.7788\n",
                        "Epoch 59/100\n",
                        "903/903 [==============================] - ETA: 1:04 - loss: 0.2824 - accuracy: 0.93 - ETA: 1:02 - loss: 0.1814 - accuracy: 0.93 - ETA: 1:00 - loss: 0.1508 - accuracy: 0.94 - ETA: 57s - loss: 0.1269 - accuracy: 0.9531 - ETA: 55s - loss: 0.1200 - accuracy: 0.956 - ETA: 53s - loss: 0.1044 - accuracy: 0.963 - ETA: 51s - loss: 0.1136 - accuracy: 0.955 - ETA: 49s - loss: 0.1047 - accuracy: 0.960 - ETA: 46s - loss: 0.1244 - accuracy: 0.951 - ETA: 44s - loss: 0.1159 - accuracy: 0.956 - ETA: 42s - loss: 0.1124 - accuracy: 0.954 - ETA: 39s - loss: 0.1057 - accuracy: 0.958 - ETA: 37s - loss: 0.1060 - accuracy: 0.956 - ETA: 34s - loss: 0.1031 - accuracy: 0.957 - ETA: 32s - loss: 0.1027 - accuracy: 0.958 - ETA: 29s - loss: 0.1051 - accuracy: 0.957 - ETA: 27s - loss: 0.1012 - accuracy: 0.959 - ETA: 24s - loss: 0.1050 - accuracy: 0.958 - ETA: 22s - loss: 0.1010 - accuracy: 0.960 - ETA: 20s - loss: 0.1006 - accuracy: 0.960 - ETA: 17s - loss: 0.0981 - accuracy: 0.962 - ETA: 15s - loss: 0.0948 - accuracy: 0.964 - ETA: 12s - loss: 0.0936 - accuracy: 0.964 - ETA: 10s - loss: 0.0903 - accuracy: 0.966 - ETA: 7s - loss: 0.0884 - accuracy: 0.966 - ETA: 5s - loss: 0.0877 - accuracy: 0.96 - ETA: 2s - loss: 0.0865 - accuracy: 0.96 - ETA: 0s - loss: 0.0897 - accuracy: 0.96 - 73s 81ms/step - loss: 0.0897 - accuracy: 0.9679 - val_loss: 0.9054 - val_accuracy: 0.7655\n",
                        "Epoch 60/100\n",
                        "903/903 [==============================] - ETA: 1:05 - loss: 0.2112 - accuracy: 0.93 - ETA: 1:03 - loss: 0.1478 - accuracy: 0.95 - ETA: 1:01 - loss: 0.1019 - accuracy: 0.96 - ETA: 59s - loss: 0.0839 - accuracy: 0.9766 - ETA: 58s - loss: 0.0755 - accuracy: 0.981 - ETA: 56s - loss: 0.0724 - accuracy: 0.979 - ETA: 53s - loss: 0.0709 - accuracy: 0.977 - ETA: 50s - loss: 0.0657 - accuracy: 0.980 - ETA: 48s - loss: 0.0846 - accuracy: 0.979 - ETA: 45s - loss: 0.0991 - accuracy: 0.978 - ETA: 43s - loss: 0.0943 - accuracy: 0.977 - ETA: 40s - loss: 0.0902 - accuracy: 0.976 - ETA: 38s - loss: 0.0884 - accuracy: 0.976 - ETA: 35s - loss: 0.0896 - accuracy: 0.973 - ETA: 33s - loss: 0.1016 - accuracy: 0.966 - ETA: 30s - loss: 0.1025 - accuracy: 0.964 - ETA: 28s - loss: 0.1052 - accuracy: 0.963 - ETA: 25s - loss: 0.1011 - accuracy: 0.965 - ETA: 23s - loss: 0.0974 - accuracy: 0.967 - ETA: 20s - loss: 0.1021 - accuracy: 0.965 - ETA: 18s - loss: 0.1000 - accuracy: 0.967 - ETA: 15s - loss: 0.0964 - accuracy: 0.968 - ETA: 13s - loss: 0.0956 - accuracy: 0.968 - ETA: 10s - loss: 0.0923 - accuracy: 0.970 - ETA: 7s - loss: 0.0889 - accuracy: 0.971 - ETA: 5s - loss: 0.0910 - accuracy: 0.96 - ETA: 3s - loss: 0.0919 - accuracy: 0.96 - ETA: 0s - loss: 0.0976 - accuracy: 0.96 - 74s 82ms/step - loss: 0.0971 - accuracy: 0.9679 - val_loss: 0.8309 - val_accuracy: 0.7920\n"
                    ]
                },
                {
                    "name": "stdout",
                    "output_type": "stream",
                    "text": [
                        "Epoch 61/100\n",
                        "903/903 [==============================] - ETA: 1:06 - loss: 0.0301 - accuracy: 1.00 - ETA: 1:03 - loss: 0.1029 - accuracy: 0.98 - ETA: 1:01 - loss: 0.1590 - accuracy: 0.94 - ETA: 58s - loss: 0.1382 - accuracy: 0.9453 - ETA: 56s - loss: 0.1569 - accuracy: 0.950 - ETA: 53s - loss: 0.1360 - accuracy: 0.958 - ETA: 51s - loss: 0.1269 - accuracy: 0.959 - ETA: 48s - loss: 0.1249 - accuracy: 0.960 - ETA: 46s - loss: 0.1244 - accuracy: 0.958 - ETA: 43s - loss: 0.1323 - accuracy: 0.956 - ETA: 41s - loss: 0.1246 - accuracy: 0.960 - ETA: 38s - loss: 0.1313 - accuracy: 0.958 - ETA: 36s - loss: 0.1273 - accuracy: 0.959 - ETA: 34s - loss: 0.1253 - accuracy: 0.957 - ETA: 31s - loss: 0.1204 - accuracy: 0.958 - ETA: 29s - loss: 0.1243 - accuracy: 0.955 - ETA: 26s - loss: 0.1230 - accuracy: 0.955 - ETA: 24s - loss: 0.1175 - accuracy: 0.958 - ETA: 22s - loss: 0.1132 - accuracy: 0.960 - ETA: 19s - loss: 0.1119 - accuracy: 0.960 - ETA: 17s - loss: 0.1092 - accuracy: 0.961 - ETA: 14s - loss: 0.1092 - accuracy: 0.960 - ETA: 12s - loss: 0.1068 - accuracy: 0.960 - ETA: 10s - loss: 0.1066 - accuracy: 0.959 - ETA: 7s - loss: 0.1056 - accuracy: 0.960 - ETA: 5s - loss: 0.1032 - accuracy: 0.96 - ETA: 2s - loss: 0.1008 - accuracy: 0.96 - ETA: 0s - loss: 0.0991 - accuracy: 0.96 - 72s 80ms/step - loss: 0.0991 - accuracy: 0.9623 - val_loss: 0.9515 - val_accuracy: 0.7699\n",
                        "Epoch 62/100\n",
                        "903/903 [==============================] - ETA: 1:06 - loss: 0.1638 - accuracy: 0.90 - ETA: 1:03 - loss: 0.0969 - accuracy: 0.95 - ETA: 1:01 - loss: 0.0978 - accuracy: 0.95 - ETA: 59s - loss: 0.1123 - accuracy: 0.9531 - ETA: 57s - loss: 0.1189 - accuracy: 0.950 - ETA: 54s - loss: 0.1674 - accuracy: 0.932 - ETA: 52s - loss: 0.1683 - accuracy: 0.937 - ETA: 50s - loss: 0.1610 - accuracy: 0.941 - ETA: 48s - loss: 0.1476 - accuracy: 0.944 - ETA: 46s - loss: 0.1344 - accuracy: 0.950 - ETA: 43s - loss: 0.1231 - accuracy: 0.954 - ETA: 41s - loss: 0.1145 - accuracy: 0.958 - ETA: 38s - loss: 0.1198 - accuracy: 0.956 - ETA: 36s - loss: 0.1216 - accuracy: 0.957 - ETA: 33s - loss: 0.1196 - accuracy: 0.956 - ETA: 31s - loss: 0.1183 - accuracy: 0.957 - ETA: 29s - loss: 0.1150 - accuracy: 0.957 - ETA: 26s - loss: 0.1112 - accuracy: 0.958 - ETA: 24s - loss: 0.1069 - accuracy: 0.960 - ETA: 21s - loss: 0.1023 - accuracy: 0.962 - ETA: 18s - loss: 0.0988 - accuracy: 0.964 - ETA: 16s - loss: 0.0967 - accuracy: 0.964 - ETA: 13s - loss: 0.0943 - accuracy: 0.964 - ETA: 10s - loss: 0.0961 - accuracy: 0.964 - ETA: 8s - loss: 0.0988 - accuracy: 0.963 - ETA: 5s - loss: 0.0961 - accuracy: 0.96 - ETA: 3s - loss: 0.0934 - accuracy: 0.96 - ETA: 0s - loss: 0.0917 - accuracy: 0.96 - 77s 85ms/step - loss: 0.0916 - accuracy: 0.9679 - val_loss: 0.7713 - val_accuracy: 0.8186\n",
                        "Epoch 63/100\n",
                        "903/903 [==============================] - ETA: 1:06 - loss: 0.1390 - accuracy: 0.93 - ETA: 1:04 - loss: 0.1362 - accuracy: 0.93 - ETA: 1:01 - loss: 0.1299 - accuracy: 0.94 - ETA: 58s - loss: 0.1071 - accuracy: 0.9609 - ETA: 56s - loss: 0.0958 - accuracy: 0.962 - ETA: 53s - loss: 0.1263 - accuracy: 0.958 - ETA: 51s - loss: 0.1158 - accuracy: 0.959 - ETA: 49s - loss: 0.1147 - accuracy: 0.957 - ETA: 46s - loss: 0.1068 - accuracy: 0.958 - ETA: 44s - loss: 0.1027 - accuracy: 0.959 - ETA: 41s - loss: 0.0959 - accuracy: 0.963 - ETA: 39s - loss: 0.0988 - accuracy: 0.960 - ETA: 36s - loss: 0.0930 - accuracy: 0.963 - ETA: 34s - loss: 0.0915 - accuracy: 0.962 - ETA: 32s - loss: 0.0896 - accuracy: 0.962 - ETA: 29s - loss: 0.0941 - accuracy: 0.960 - ETA: 27s - loss: 0.0924 - accuracy: 0.961 - ETA: 24s - loss: 0.0879 - accuracy: 0.963 - ETA: 22s - loss: 0.0900 - accuracy: 0.963 - ETA: 20s - loss: 0.0870 - accuracy: 0.965 - ETA: 17s - loss: 0.0837 - accuracy: 0.967 - ETA: 15s - loss: 0.0819 - accuracy: 0.968 - ETA: 12s - loss: 0.0801 - accuracy: 0.970 - ETA: 10s - loss: 0.0835 - accuracy: 0.967 - ETA: 7s - loss: 0.0818 - accuracy: 0.968 - ETA: 5s - loss: 0.0850 - accuracy: 0.96 - ETA: 3s - loss: 0.0849 - accuracy: 0.96 - ETA: 0s - loss: 0.0919 - accuracy: 0.96 - 74s 82ms/step - loss: 0.0912 - accuracy: 0.9657 - val_loss: 0.8950 - val_accuracy: 0.8053\n",
                        "Epoch 64/100\n",
                        "903/903 [==============================] - ETA: 1:11 - loss: 0.0225 - accuracy: 1.00 - ETA: 1:07 - loss: 0.1319 - accuracy: 0.96 - ETA: 1:04 - loss: 0.0966 - accuracy: 0.97 - ETA: 1:01 - loss: 0.1193 - accuracy: 0.97 - ETA: 58s - loss: 0.1067 - accuracy: 0.9750 - ETA: 56s - loss: 0.1182 - accuracy: 0.974 - ETA: 54s - loss: 0.1388 - accuracy: 0.968 - ETA: 51s - loss: 0.1397 - accuracy: 0.964 - ETA: 49s - loss: 0.1361 - accuracy: 0.965 - ETA: 47s - loss: 0.1415 - accuracy: 0.962 - ETA: 45s - loss: 0.1421 - accuracy: 0.963 - ETA: 42s - loss: 0.1351 - accuracy: 0.963 - ETA: 39s - loss: 0.1312 - accuracy: 0.961 - ETA: 37s - loss: 0.1328 - accuracy: 0.957 - ETA: 34s - loss: 0.1298 - accuracy: 0.956 - ETA: 32s - loss: 0.1292 - accuracy: 0.957 - ETA: 29s - loss: 0.1361 - accuracy: 0.955 - ETA: 26s - loss: 0.1353 - accuracy: 0.954 - ETA: 24s - loss: 0.1301 - accuracy: 0.957 - ETA: 21s - loss: 0.1287 - accuracy: 0.957 - ETA: 18s - loss: 0.1243 - accuracy: 0.959 - ETA: 16s - loss: 0.1226 - accuracy: 0.958 - ETA: 13s - loss: 0.1279 - accuracy: 0.956 - ETA: 11s - loss: 0.1278 - accuracy: 0.957 - ETA: 8s - loss: 0.1281 - accuracy: 0.956 - ETA: 5s - loss: 0.1281 - accuracy: 0.95 - ETA: 3s - loss: 0.1276 - accuracy: 0.95 - ETA: 0s - loss: 0.1272 - accuracy: 0.95 - 80s 89ms/step - loss: 0.1266 - accuracy: 0.9535 - val_loss: 0.7899 - val_accuracy: 0.7965\n",
                        "Epoch 65/100\n",
                        "903/903 [==============================] - ETA: 1:13 - loss: 0.0825 - accuracy: 0.96 - ETA: 1:11 - loss: 0.1335 - accuracy: 0.93 - ETA: 1:08 - loss: 0.1096 - accuracy: 0.94 - ETA: 1:07 - loss: 0.1070 - accuracy: 0.95 - ETA: 1:05 - loss: 0.1089 - accuracy: 0.95 - ETA: 1:02 - loss: 0.1117 - accuracy: 0.94 - ETA: 59s - loss: 0.1247 - accuracy: 0.9509 - ETA: 57s - loss: 0.1470 - accuracy: 0.945 - ETA: 55s - loss: 0.1349 - accuracy: 0.951 - ETA: 52s - loss: 0.1255 - accuracy: 0.956 - ETA: 49s - loss: 0.1164 - accuracy: 0.960 - ETA: 46s - loss: 0.1086 - accuracy: 0.963 - ETA: 43s - loss: 0.1103 - accuracy: 0.961 - ETA: 40s - loss: 0.1060 - accuracy: 0.964 - ETA: 37s - loss: 0.0998 - accuracy: 0.966 - ETA: 34s - loss: 0.0955 - accuracy: 0.968 - ETA: 32s - loss: 0.0955 - accuracy: 0.968 - ETA: 29s - loss: 0.0971 - accuracy: 0.968 - ETA: 26s - loss: 0.0974 - accuracy: 0.967 - ETA: 23s - loss: 0.0950 - accuracy: 0.967 - ETA: 20s - loss: 0.1047 - accuracy: 0.964 - ETA: 17s - loss: 0.1013 - accuracy: 0.965 - ETA: 14s - loss: 0.1075 - accuracy: 0.964 - ETA: 11s - loss: 0.1081 - accuracy: 0.962 - ETA: 8s - loss: 0.1048 - accuracy: 0.963 - ETA: 6s - loss: 0.1035 - accuracy: 0.96 - ETA: 3s - loss: 0.1001 - accuracy: 0.96 - ETA: 0s - loss: 0.0978 - accuracy: 0.96 - 82s 91ms/step - loss: 0.0973 - accuracy: 0.9668 - val_loss: 0.8282 - val_accuracy: 0.7788\n",
                        "Epoch 66/100\n",
                        "903/903 [==============================] - ETA: 1:05 - loss: 0.0484 - accuracy: 1.00 - ETA: 1:03 - loss: 0.0709 - accuracy: 0.98 - ETA: 1:01 - loss: 0.0544 - accuracy: 0.98 - ETA: 58s - loss: 0.0758 - accuracy: 0.9766 - ETA: 56s - loss: 0.0644 - accuracy: 0.981 - ETA: 53s - loss: 0.0669 - accuracy: 0.979 - ETA: 51s - loss: 0.0749 - accuracy: 0.977 - ETA: 49s - loss: 0.0843 - accuracy: 0.972 - ETA: 46s - loss: 0.0795 - accuracy: 0.975 - ETA: 44s - loss: 0.0733 - accuracy: 0.978 - ETA: 41s - loss: 0.0686 - accuracy: 0.980 - ETA: 39s - loss: 0.0669 - accuracy: 0.979 - ETA: 37s - loss: 0.0651 - accuracy: 0.978 - ETA: 34s - loss: 0.0625 - accuracy: 0.979 - ETA: 32s - loss: 0.0614 - accuracy: 0.979 - ETA: 29s - loss: 0.0586 - accuracy: 0.980 - ETA: 27s - loss: 0.0580 - accuracy: 0.981 - ETA: 24s - loss: 0.0606 - accuracy: 0.980 - ETA: 22s - loss: 0.0593 - accuracy: 0.980 - ETA: 20s - loss: 0.0568 - accuracy: 0.981 - ETA: 17s - loss: 0.0546 - accuracy: 0.982 - ETA: 15s - loss: 0.0546 - accuracy: 0.981 - ETA: 12s - loss: 0.0671 - accuracy: 0.978 - ETA: 10s - loss: 0.0683 - accuracy: 0.977 - ETA: 7s - loss: 0.0702 - accuracy: 0.976 - ETA: 5s - loss: 0.0694 - accuracy: 0.97 - ETA: 3s - loss: 0.0674 - accuracy: 0.97 - ETA: 0s - loss: 0.0656 - accuracy: 0.97 - 75s 83ms/step - loss: 0.0660 - accuracy: 0.9767 - val_loss: 0.7793 - val_accuracy: 0.8009\n"
                    ]
                },
                {
                    "name": "stdout",
                    "output_type": "stream",
                    "text": [
                        "Epoch 67/100\n",
                        "903/903 [==============================] - ETA: 1:06 - loss: 0.0303 - accuracy: 1.00 - ETA: 1:04 - loss: 0.0580 - accuracy: 0.98 - ETA: 1:02 - loss: 0.0436 - accuracy: 0.98 - ETA: 59s - loss: 0.0875 - accuracy: 0.9688 - ETA: 56s - loss: 0.0785 - accuracy: 0.975 - ETA: 54s - loss: 0.1014 - accuracy: 0.963 - ETA: 51s - loss: 0.0899 - accuracy: 0.968 - ETA: 49s - loss: 0.0993 - accuracy: 0.960 - ETA: 46s - loss: 0.0922 - accuracy: 0.965 - ETA: 44s - loss: 0.0999 - accuracy: 0.965 - ETA: 42s - loss: 0.0945 - accuracy: 0.968 - ETA: 39s - loss: 0.0915 - accuracy: 0.968 - ETA: 37s - loss: 0.0975 - accuracy: 0.966 - ETA: 35s - loss: 0.1003 - accuracy: 0.966 - ETA: 32s - loss: 0.0974 - accuracy: 0.966 - ETA: 30s - loss: 0.0934 - accuracy: 0.968 - ETA: 27s - loss: 0.0961 - accuracy: 0.968 - ETA: 25s - loss: 0.0940 - accuracy: 0.968 - ETA: 22s - loss: 0.0960 - accuracy: 0.967 - ETA: 20s - loss: 0.0944 - accuracy: 0.967 - ETA: 17s - loss: 0.0919 - accuracy: 0.967 - ETA: 15s - loss: 0.0881 - accuracy: 0.968 - ETA: 12s - loss: 0.0854 - accuracy: 0.970 - ETA: 10s - loss: 0.0829 - accuracy: 0.971 - ETA: 7s - loss: 0.0804 - accuracy: 0.972 - ETA: 5s - loss: 0.0778 - accuracy: 0.97 - ETA: 3s - loss: 0.0766 - accuracy: 0.97 - ETA: 0s - loss: 0.0752 - accuracy: 0.97 - 75s 83ms/step - loss: 0.0762 - accuracy: 0.9734 - val_loss: 1.1166 - val_accuracy: 0.7522\n",
                        "Epoch 68/100\n",
                        "903/903 [==============================] - ETA: 1:07 - loss: 0.0498 - accuracy: 1.00 - ETA: 1:05 - loss: 0.0418 - accuracy: 1.00 - ETA: 1:02 - loss: 0.0310 - accuracy: 1.00 - ETA: 1:00 - loss: 0.0702 - accuracy: 0.98 - ETA: 57s - loss: 0.0733 - accuracy: 0.9812 - ETA: 55s - loss: 0.0831 - accuracy: 0.979 - ETA: 52s - loss: 0.0969 - accuracy: 0.973 - ETA: 50s - loss: 0.0864 - accuracy: 0.976 - ETA: 48s - loss: 0.0857 - accuracy: 0.975 - ETA: 45s - loss: 0.0888 - accuracy: 0.971 - ETA: 43s - loss: 0.1019 - accuracy: 0.965 - ETA: 40s - loss: 0.0996 - accuracy: 0.966 - ETA: 38s - loss: 0.1057 - accuracy: 0.961 - ETA: 35s - loss: 0.1045 - accuracy: 0.962 - ETA: 33s - loss: 0.0986 - accuracy: 0.964 - ETA: 30s - loss: 0.0942 - accuracy: 0.966 - ETA: 28s - loss: 0.0903 - accuracy: 0.968 - ETA: 25s - loss: 0.0907 - accuracy: 0.968 - ETA: 23s - loss: 0.0983 - accuracy: 0.967 - ETA: 20s - loss: 0.1015 - accuracy: 0.965 - ETA: 18s - loss: 0.1045 - accuracy: 0.962 - ETA: 15s - loss: 0.1032 - accuracy: 0.963 - ETA: 13s - loss: 0.1008 - accuracy: 0.963 - ETA: 10s - loss: 0.1034 - accuracy: 0.960 - ETA: 8s - loss: 0.1111 - accuracy: 0.958 - ETA: 5s - loss: 0.1080 - accuracy: 0.95 - ETA: 3s - loss: 0.1103 - accuracy: 0.95 - ETA: 0s - loss: 0.1147 - accuracy: 0.95 - 74s 82ms/step - loss: 0.1138 - accuracy: 0.9568 - val_loss: 1.0844 - val_accuracy: 0.7389\n",
                        "Epoch 69/100\n",
                        "903/903 [==============================] - ETA: 1:05 - loss: 0.1893 - accuracy: 0.87 - ETA: 1:03 - loss: 0.1690 - accuracy: 0.92 - ETA: 1:01 - loss: 0.1531 - accuracy: 0.92 - ETA: 58s - loss: 0.1245 - accuracy: 0.9453 - ETA: 55s - loss: 0.1138 - accuracy: 0.950 - ETA: 53s - loss: 0.1150 - accuracy: 0.953 - ETA: 50s - loss: 0.1191 - accuracy: 0.955 - ETA: 48s - loss: 0.1085 - accuracy: 0.960 - ETA: 45s - loss: 0.0999 - accuracy: 0.965 - ETA: 43s - loss: 0.1041 - accuracy: 0.962 - ETA: 41s - loss: 0.0992 - accuracy: 0.965 - ETA: 38s - loss: 0.0940 - accuracy: 0.968 - ETA: 36s - loss: 0.0887 - accuracy: 0.971 - ETA: 34s - loss: 0.0863 - accuracy: 0.973 - ETA: 31s - loss: 0.0956 - accuracy: 0.968 - ETA: 29s - loss: 0.0940 - accuracy: 0.970 - ETA: 26s - loss: 0.0916 - accuracy: 0.970 - ETA: 24s - loss: 0.0878 - accuracy: 0.972 - ETA: 22s - loss: 0.0950 - accuracy: 0.968 - ETA: 19s - loss: 0.0933 - accuracy: 0.968 - ETA: 17s - loss: 0.0914 - accuracy: 0.968 - ETA: 14s - loss: 0.0914 - accuracy: 0.968 - ETA: 12s - loss: 0.0934 - accuracy: 0.967 - ETA: 10s - loss: 0.0913 - accuracy: 0.968 - ETA: 7s - loss: 0.0951 - accuracy: 0.967 - ETA: 5s - loss: 0.0928 - accuracy: 0.96 - ETA: 2s - loss: 0.0998 - accuracy: 0.96 - ETA: 0s - loss: 0.1079 - accuracy: 0.96 - 72s 80ms/step - loss: 0.1075 - accuracy: 0.9646 - val_loss: 0.7982 - val_accuracy: 0.7965\n",
                        "Epoch 70/100\n",
                        "903/903 [==============================] - ETA: 1:06 - loss: 0.0232 - accuracy: 1.00 - ETA: 1:03 - loss: 0.0238 - accuracy: 1.00 - ETA: 1:01 - loss: 0.0377 - accuracy: 0.98 - ETA: 59s - loss: 0.0638 - accuracy: 0.9766 - ETA: 56s - loss: 0.0662 - accuracy: 0.975 - ETA: 54s - loss: 0.0793 - accuracy: 0.974 - ETA: 51s - loss: 0.0886 - accuracy: 0.973 - ETA: 49s - loss: 0.0998 - accuracy: 0.968 - ETA: 46s - loss: 0.0978 - accuracy: 0.968 - ETA: 44s - loss: 0.1015 - accuracy: 0.968 - ETA: 41s - loss: 0.1049 - accuracy: 0.968 - ETA: 39s - loss: 0.1031 - accuracy: 0.966 - ETA: 36s - loss: 0.0990 - accuracy: 0.968 - ETA: 34s - loss: 0.0956 - accuracy: 0.971 - ETA: 32s - loss: 0.0927 - accuracy: 0.970 - ETA: 29s - loss: 0.0929 - accuracy: 0.970 - ETA: 27s - loss: 0.0884 - accuracy: 0.972 - ETA: 24s - loss: 0.0857 - accuracy: 0.974 - ETA: 22s - loss: 0.0823 - accuracy: 0.975 - ETA: 19s - loss: 0.0784 - accuracy: 0.976 - ETA: 17s - loss: 0.0824 - accuracy: 0.974 - ETA: 15s - loss: 0.0824 - accuracy: 0.974 - ETA: 12s - loss: 0.0793 - accuracy: 0.975 - ETA: 10s - loss: 0.0814 - accuracy: 0.975 - ETA: 7s - loss: 0.0784 - accuracy: 0.976 - ETA: 5s - loss: 0.0800 - accuracy: 0.97 - ETA: 2s - loss: 0.0779 - accuracy: 0.97 - ETA: 0s - loss: 0.0789 - accuracy: 0.97 - 73s 81ms/step - loss: 0.0783 - accuracy: 0.9767 - val_loss: 0.8958 - val_accuracy: 0.7699\n",
                        "Epoch 71/100\n",
                        "903/903 [==============================] - ETA: 1:06 - loss: 0.1310 - accuracy: 0.93 - ETA: 1:04 - loss: 0.0944 - accuracy: 0.95 - ETA: 1:02 - loss: 0.0903 - accuracy: 0.95 - ETA: 1:00 - loss: 0.1127 - accuracy: 0.94 - ETA: 58s - loss: 0.0951 - accuracy: 0.9563 - ETA: 55s - loss: 0.0989 - accuracy: 0.953 - ETA: 53s - loss: 0.1013 - accuracy: 0.955 - ETA: 50s - loss: 0.0936 - accuracy: 0.957 - ETA: 48s - loss: 0.0902 - accuracy: 0.958 - ETA: 45s - loss: 0.0859 - accuracy: 0.962 - ETA: 43s - loss: 0.1011 - accuracy: 0.960 - ETA: 40s - loss: 0.0956 - accuracy: 0.960 - ETA: 38s - loss: 0.1007 - accuracy: 0.961 - ETA: 35s - loss: 0.0967 - accuracy: 0.964 - ETA: 33s - loss: 0.0995 - accuracy: 0.960 - ETA: 30s - loss: 0.0949 - accuracy: 0.962 - ETA: 28s - loss: 0.0917 - accuracy: 0.965 - ETA: 25s - loss: 0.0996 - accuracy: 0.963 - ETA: 23s - loss: 0.0957 - accuracy: 0.965 - ETA: 20s - loss: 0.0976 - accuracy: 0.964 - ETA: 18s - loss: 0.0936 - accuracy: 0.965 - ETA: 15s - loss: 0.0919 - accuracy: 0.965 - ETA: 13s - loss: 0.0889 - accuracy: 0.967 - ETA: 10s - loss: 0.0901 - accuracy: 0.966 - ETA: 8s - loss: 0.0869 - accuracy: 0.967 - ETA: 5s - loss: 0.0883 - accuracy: 0.96 - ETA: 3s - loss: 0.0896 - accuracy: 0.96 - ETA: 0s - loss: 0.0898 - accuracy: 0.96 - 76s 84ms/step - loss: 0.0897 - accuracy: 0.9668 - val_loss: 0.8576 - val_accuracy: 0.7832\n",
                        "Epoch 72/100\n",
                        "903/903 [==============================] - ETA: 1:06 - loss: 0.0668 - accuracy: 0.96 - ETA: 1:04 - loss: 0.0392 - accuracy: 0.98 - ETA: 1:02 - loss: 0.0335 - accuracy: 0.98 - ETA: 1:00 - loss: 0.0614 - accuracy: 0.98 - ETA: 58s - loss: 0.0628 - accuracy: 0.9875 - ETA: 55s - loss: 0.0737 - accuracy: 0.984 - ETA: 53s - loss: 0.0822 - accuracy: 0.982 - ETA: 50s - loss: 0.0740 - accuracy: 0.984 - ETA: 48s - loss: 0.0687 - accuracy: 0.986 - ETA: 45s - loss: 0.0631 - accuracy: 0.987 - ETA: 43s - loss: 0.0605 - accuracy: 0.988 - ETA: 40s - loss: 0.0640 - accuracy: 0.987 - ETA: 38s - loss: 0.0667 - accuracy: 0.985 - ETA: 35s - loss: 0.0686 - accuracy: 0.984 - ETA: 33s - loss: 0.0731 - accuracy: 0.983 - ETA: 30s - loss: 0.0739 - accuracy: 0.982 - ETA: 28s - loss: 0.0723 - accuracy: 0.983 - ETA: 25s - loss: 0.0691 - accuracy: 0.984 - ETA: 23s - loss: 0.0679 - accuracy: 0.985 - ETA: 20s - loss: 0.0653 - accuracy: 0.985 - ETA: 18s - loss: 0.0638 - accuracy: 0.986 - ETA: 15s - loss: 0.0616 - accuracy: 0.987 - ETA: 13s - loss: 0.0645 - accuracy: 0.986 - ETA: 10s - loss: 0.0635 - accuracy: 0.985 - ETA: 8s - loss: 0.0617 - accuracy: 0.986 - ETA: 5s - loss: 0.0618 - accuracy: 0.98 - ETA: 3s - loss: 0.0649 - accuracy: 0.98 - ETA: 0s - loss: 0.0658 - accuracy: 0.98 - 74s 82ms/step - loss: 0.0666 - accuracy: 0.9834 - val_loss: 0.9075 - val_accuracy: 0.8142\n"
                    ]
                },
                {
                    "name": "stdout",
                    "output_type": "stream",
                    "text": [
                        "Epoch 73/100\n",
                        "903/903 [==============================] - ETA: 1:05 - loss: 0.0354 - accuracy: 1.00 - ETA: 1:03 - loss: 0.0391 - accuracy: 1.00 - ETA: 1:00 - loss: 0.0401 - accuracy: 1.00 - ETA: 58s - loss: 0.0753 - accuracy: 0.9922 - ETA: 56s - loss: 0.0756 - accuracy: 0.987 - ETA: 54s - loss: 0.0695 - accuracy: 0.989 - ETA: 52s - loss: 0.0905 - accuracy: 0.977 - ETA: 50s - loss: 0.0869 - accuracy: 0.976 - ETA: 47s - loss: 0.0918 - accuracy: 0.975 - ETA: 45s - loss: 0.1001 - accuracy: 0.975 - ETA: 42s - loss: 0.0935 - accuracy: 0.977 - ETA: 40s - loss: 0.0911 - accuracy: 0.976 - ETA: 37s - loss: 0.0939 - accuracy: 0.976 - ETA: 35s - loss: 0.0901 - accuracy: 0.977 - ETA: 32s - loss: 0.0922 - accuracy: 0.975 - ETA: 30s - loss: 0.0896 - accuracy: 0.974 - ETA: 27s - loss: 0.1025 - accuracy: 0.972 - ETA: 25s - loss: 0.0997 - accuracy: 0.972 - ETA: 22s - loss: 0.0970 - accuracy: 0.972 - ETA: 20s - loss: 0.1053 - accuracy: 0.968 - ETA: 17s - loss: 0.1011 - accuracy: 0.970 - ETA: 15s - loss: 0.0985 - accuracy: 0.971 - ETA: 12s - loss: 0.0958 - accuracy: 0.972 - ETA: 10s - loss: 0.0937 - accuracy: 0.974 - ETA: 7s - loss: 0.0923 - accuracy: 0.973 - ETA: 5s - loss: 0.0942 - accuracy: 0.97 - ETA: 2s - loss: 0.0940 - accuracy: 0.97 - ETA: 0s - loss: 0.0939 - accuracy: 0.97 - 72s 80ms/step - loss: 0.0934 - accuracy: 0.9723 - val_loss: 0.8876 - val_accuracy: 0.8053\n",
                        "Epoch 74/100\n",
                        "903/903 [==============================] - ETA: 1:04 - loss: 0.0249 - accuracy: 1.00 - ETA: 1:02 - loss: 0.0333 - accuracy: 1.00 - ETA: 1:00 - loss: 0.0303 - accuracy: 1.00 - ETA: 57s - loss: 0.0358 - accuracy: 0.9922 - ETA: 54s - loss: 0.0583 - accuracy: 0.981 - ETA: 52s - loss: 0.0657 - accuracy: 0.979 - ETA: 49s - loss: 0.0655 - accuracy: 0.977 - ETA: 47s - loss: 0.0745 - accuracy: 0.976 - ETA: 45s - loss: 0.0870 - accuracy: 0.975 - ETA: 43s - loss: 0.0969 - accuracy: 0.971 - ETA: 40s - loss: 0.0946 - accuracy: 0.971 - ETA: 38s - loss: 0.0876 - accuracy: 0.974 - ETA: 35s - loss: 0.0826 - accuracy: 0.976 - ETA: 33s - loss: 0.0790 - accuracy: 0.977 - ETA: 31s - loss: 0.0750 - accuracy: 0.979 - ETA: 28s - loss: 0.0775 - accuracy: 0.978 - ETA: 26s - loss: 0.0750 - accuracy: 0.979 - ETA: 24s - loss: 0.0736 - accuracy: 0.979 - ETA: 21s - loss: 0.0735 - accuracy: 0.978 - ETA: 19s - loss: 0.0747 - accuracy: 0.978 - ETA: 17s - loss: 0.0715 - accuracy: 0.979 - ETA: 14s - loss: 0.0694 - accuracy: 0.980 - ETA: 12s - loss: 0.0681 - accuracy: 0.981 - ETA: 9s - loss: 0.0664 - accuracy: 0.981 - ETA: 7s - loss: 0.0685 - accuracy: 0.98 - ETA: 5s - loss: 0.0691 - accuracy: 0.98 - ETA: 2s - loss: 0.0690 - accuracy: 0.98 - ETA: 0s - loss: 0.0744 - accuracy: 0.97 - 71s 79ms/step - loss: 0.0740 - accuracy: 0.9779 - val_loss: 0.8547 - val_accuracy: 0.8186\n",
                        "Epoch 75/100\n",
                        "903/903 [==============================] - ETA: 1:07 - loss: 0.0811 - accuracy: 0.93 - ETA: 1:05 - loss: 0.0467 - accuracy: 0.96 - ETA: 1:02 - loss: 0.0445 - accuracy: 0.96 - ETA: 1:00 - loss: 0.0552 - accuracy: 0.96 - ETA: 57s - loss: 0.0647 - accuracy: 0.9625 - ETA: 55s - loss: 0.0547 - accuracy: 0.968 - ETA: 52s - loss: 0.0668 - accuracy: 0.968 - ETA: 50s - loss: 0.0869 - accuracy: 0.960 - ETA: 47s - loss: 0.0797 - accuracy: 0.965 - ETA: 44s - loss: 0.0947 - accuracy: 0.962 - ETA: 42s - loss: 0.0872 - accuracy: 0.965 - ETA: 39s - loss: 0.0843 - accuracy: 0.966 - ETA: 37s - loss: 0.0793 - accuracy: 0.968 - ETA: 34s - loss: 0.0782 - accuracy: 0.968 - ETA: 32s - loss: 0.0823 - accuracy: 0.966 - ETA: 29s - loss: 0.0790 - accuracy: 0.966 - ETA: 27s - loss: 0.0756 - accuracy: 0.968 - ETA: 24s - loss: 0.0724 - accuracy: 0.970 - ETA: 22s - loss: 0.0697 - accuracy: 0.972 - ETA: 20s - loss: 0.0707 - accuracy: 0.970 - ETA: 17s - loss: 0.0693 - accuracy: 0.970 - ETA: 15s - loss: 0.0807 - accuracy: 0.968 - ETA: 12s - loss: 0.0780 - accuracy: 0.970 - ETA: 10s - loss: 0.0767 - accuracy: 0.970 - ETA: 7s - loss: 0.0781 - accuracy: 0.968 - ETA: 5s - loss: 0.0755 - accuracy: 0.97 - ETA: 2s - loss: 0.0775 - accuracy: 0.96 - ETA: 0s - loss: 0.0753 - accuracy: 0.97 - 73s 81ms/step - loss: 0.0776 - accuracy: 0.9701 - val_loss: 0.9282 - val_accuracy: 0.7965\n",
                        "Epoch 76/100\n",
                        "903/903 [==============================] - ETA: 1:13 - loss: 0.0648 - accuracy: 0.96 - ETA: 1:09 - loss: 0.0425 - accuracy: 0.98 - ETA: 1:06 - loss: 0.0453 - accuracy: 0.97 - ETA: 1:03 - loss: 0.0472 - accuracy: 0.97 - ETA: 59s - loss: 0.0417 - accuracy: 0.9812 - ETA: 57s - loss: 0.0381 - accuracy: 0.984 - ETA: 54s - loss: 0.0448 - accuracy: 0.982 - ETA: 51s - loss: 0.0546 - accuracy: 0.980 - ETA: 48s - loss: 0.0612 - accuracy: 0.979 - ETA: 46s - loss: 0.1017 - accuracy: 0.971 - ETA: 43s - loss: 0.1067 - accuracy: 0.965 - ETA: 40s - loss: 0.1009 - accuracy: 0.968 - ETA: 38s - loss: 0.0946 - accuracy: 0.971 - ETA: 35s - loss: 0.0893 - accuracy: 0.973 - ETA: 33s - loss: 0.0882 - accuracy: 0.972 - ETA: 30s - loss: 0.0944 - accuracy: 0.970 - ETA: 28s - loss: 0.1095 - accuracy: 0.966 - ETA: 25s - loss: 0.1120 - accuracy: 0.963 - ETA: 23s - loss: 0.1066 - accuracy: 0.965 - ETA: 20s - loss: 0.1042 - accuracy: 0.965 - ETA: 18s - loss: 0.1041 - accuracy: 0.965 - ETA: 15s - loss: 0.1004 - accuracy: 0.967 - ETA: 13s - loss: 0.0975 - accuracy: 0.967 - ETA: 10s - loss: 0.0990 - accuracy: 0.964 - ETA: 8s - loss: 0.1018 - accuracy: 0.965 - ETA: 5s - loss: 0.1006 - accuracy: 0.96 - ETA: 3s - loss: 0.1034 - accuracy: 0.96 - ETA: 0s - loss: 0.1042 - accuracy: 0.96 - 77s 85ms/step - loss: 0.1045 - accuracy: 0.9612 - val_loss: 0.8120 - val_accuracy: 0.7876\n",
                        "Epoch 77/100\n",
                        "903/903 [==============================] - ETA: 1:09 - loss: 0.0960 - accuracy: 0.96 - ETA: 1:07 - loss: 0.1057 - accuracy: 0.95 - ETA: 1:04 - loss: 0.0821 - accuracy: 0.96 - ETA: 1:02 - loss: 0.0758 - accuracy: 0.97 - ETA: 59s - loss: 0.0727 - accuracy: 0.9750 - ETA: 56s - loss: 0.0709 - accuracy: 0.974 - ETA: 54s - loss: 0.0705 - accuracy: 0.973 - ETA: 51s - loss: 0.0637 - accuracy: 0.976 - ETA: 48s - loss: 0.0642 - accuracy: 0.979 - ETA: 46s - loss: 0.0622 - accuracy: 0.981 - ETA: 43s - loss: 0.0668 - accuracy: 0.977 - ETA: 41s - loss: 0.0625 - accuracy: 0.979 - ETA: 38s - loss: 0.0617 - accuracy: 0.980 - ETA: 36s - loss: 0.0609 - accuracy: 0.979 - ETA: 33s - loss: 0.0688 - accuracy: 0.975 - ETA: 30s - loss: 0.0714 - accuracy: 0.974 - ETA: 28s - loss: 0.0706 - accuracy: 0.974 - ETA: 25s - loss: 0.0721 - accuracy: 0.972 - ETA: 23s - loss: 0.0765 - accuracy: 0.970 - ETA: 20s - loss: 0.0742 - accuracy: 0.971 - ETA: 18s - loss: 0.0713 - accuracy: 0.973 - ETA: 15s - loss: 0.0697 - accuracy: 0.974 - ETA: 13s - loss: 0.0680 - accuracy: 0.975 - ETA: 10s - loss: 0.0697 - accuracy: 0.975 - ETA: 8s - loss: 0.0734 - accuracy: 0.972 - ETA: 5s - loss: 0.0730 - accuracy: 0.97 - ETA: 3s - loss: 0.0707 - accuracy: 0.97 - ETA: 0s - loss: 0.0699 - accuracy: 0.97 - 75s 83ms/step - loss: 0.0694 - accuracy: 0.9734 - val_loss: 0.7593 - val_accuracy: 0.8186\n",
                        "Epoch 78/100\n",
                        "903/903 [==============================] - ETA: 1:05 - loss: 0.0273 - accuracy: 1.00 - ETA: 1:04 - loss: 0.2248 - accuracy: 0.93 - ETA: 1:02 - loss: 0.1554 - accuracy: 0.95 - ETA: 1:00 - loss: 0.1685 - accuracy: 0.95 - ETA: 57s - loss: 0.1375 - accuracy: 0.9625 - ETA: 55s - loss: 0.1199 - accuracy: 0.968 - ETA: 52s - loss: 0.1335 - accuracy: 0.964 - ETA: 50s - loss: 0.1205 - accuracy: 0.968 - ETA: 47s - loss: 0.1179 - accuracy: 0.968 - ETA: 45s - loss: 0.1074 - accuracy: 0.971 - ETA: 43s - loss: 0.1043 - accuracy: 0.971 - ETA: 40s - loss: 0.1056 - accuracy: 0.971 - ETA: 38s - loss: 0.0990 - accuracy: 0.973 - ETA: 35s - loss: 0.0971 - accuracy: 0.971 - ETA: 32s - loss: 0.0916 - accuracy: 0.972 - ETA: 30s - loss: 0.0886 - accuracy: 0.972 - ETA: 27s - loss: 0.0891 - accuracy: 0.970 - ETA: 25s - loss: 0.0864 - accuracy: 0.972 - ETA: 22s - loss: 0.0861 - accuracy: 0.972 - ETA: 20s - loss: 0.0935 - accuracy: 0.965 - ETA: 17s - loss: 0.0904 - accuracy: 0.967 - ETA: 15s - loss: 0.0876 - accuracy: 0.968 - ETA: 12s - loss: 0.0857 - accuracy: 0.970 - ETA: 10s - loss: 0.0828 - accuracy: 0.971 - ETA: 7s - loss: 0.0806 - accuracy: 0.972 - ETA: 5s - loss: 0.0780 - accuracy: 0.97 - ETA: 3s - loss: 0.0758 - accuracy: 0.97 - ETA: 0s - loss: 0.0756 - accuracy: 0.97 - 74s 82ms/step - loss: 0.0752 - accuracy: 0.9745 - val_loss: 0.7841 - val_accuracy: 0.8186\n"
                    ]
                },
                {
                    "name": "stdout",
                    "output_type": "stream",
                    "text": [
                        "Epoch 79/100\n",
                        "903/903 [==============================] - ETA: 1:04 - loss: 0.0184 - accuracy: 1.00 - ETA: 1:02 - loss: 0.0704 - accuracy: 0.98 - ETA: 1:00 - loss: 0.0498 - accuracy: 0.98 - ETA: 58s - loss: 0.0609 - accuracy: 0.9844 - ETA: 56s - loss: 0.0653 - accuracy: 0.975 - ETA: 53s - loss: 0.0574 - accuracy: 0.979 - ETA: 51s - loss: 0.0506 - accuracy: 0.982 - ETA: 48s - loss: 0.0455 - accuracy: 0.984 - ETA: 46s - loss: 0.0411 - accuracy: 0.986 - ETA: 43s - loss: 0.0442 - accuracy: 0.984 - ETA: 41s - loss: 0.0436 - accuracy: 0.985 - ETA: 38s - loss: 0.0472 - accuracy: 0.984 - ETA: 36s - loss: 0.0445 - accuracy: 0.985 - ETA: 34s - loss: 0.0480 - accuracy: 0.984 - ETA: 31s - loss: 0.0554 - accuracy: 0.981 - ETA: 29s - loss: 0.0576 - accuracy: 0.980 - ETA: 26s - loss: 0.0545 - accuracy: 0.981 - ETA: 24s - loss: 0.0524 - accuracy: 0.982 - ETA: 22s - loss: 0.0572 - accuracy: 0.980 - ETA: 19s - loss: 0.0550 - accuracy: 0.981 - ETA: 17s - loss: 0.0644 - accuracy: 0.977 - ETA: 15s - loss: 0.0623 - accuracy: 0.978 - ETA: 12s - loss: 0.0608 - accuracy: 0.979 - ETA: 10s - loss: 0.0652 - accuracy: 0.976 - ETA: 7s - loss: 0.0700 - accuracy: 0.975 - ETA: 5s - loss: 0.0687 - accuracy: 0.97 - ETA: 2s - loss: 0.0667 - accuracy: 0.97 - ETA: 0s - loss: 0.0657 - accuracy: 0.97 - 73s 81ms/step - loss: 0.0659 - accuracy: 0.9767 - val_loss: 0.9037 - val_accuracy: 0.8230\n",
                        "Epoch 80/100\n",
                        "903/903 [==============================] - ETA: 1:08 - loss: 0.3133 - accuracy: 0.87 - ETA: 1:05 - loss: 0.1841 - accuracy: 0.93 - ETA: 1:02 - loss: 0.1305 - accuracy: 0.95 - ETA: 1:00 - loss: 0.1038 - accuracy: 0.96 - ETA: 57s - loss: 0.1011 - accuracy: 0.9625 - ETA: 55s - loss: 0.0981 - accuracy: 0.963 - ETA: 52s - loss: 0.0884 - accuracy: 0.968 - ETA: 50s - loss: 0.0816 - accuracy: 0.972 - ETA: 47s - loss: 0.0744 - accuracy: 0.975 - ETA: 45s - loss: 0.0739 - accuracy: 0.975 - ETA: 42s - loss: 0.0877 - accuracy: 0.971 - ETA: 40s - loss: 0.0835 - accuracy: 0.974 - ETA: 37s - loss: 0.0794 - accuracy: 0.976 - ETA: 35s - loss: 0.0751 - accuracy: 0.977 - ETA: 32s - loss: 0.0753 - accuracy: 0.977 - ETA: 30s - loss: 0.0741 - accuracy: 0.976 - ETA: 27s - loss: 0.0851 - accuracy: 0.976 - ETA: 25s - loss: 0.0843 - accuracy: 0.975 - ETA: 22s - loss: 0.0850 - accuracy: 0.973 - ETA: 20s - loss: 0.0815 - accuracy: 0.975 - ETA: 17s - loss: 0.0825 - accuracy: 0.974 - ETA: 15s - loss: 0.0824 - accuracy: 0.974 - ETA: 12s - loss: 0.0807 - accuracy: 0.975 - ETA: 10s - loss: 0.0823 - accuracy: 0.974 - ETA: 7s - loss: 0.0875 - accuracy: 0.973 - ETA: 5s - loss: 0.0889 - accuracy: 0.97 - ETA: 3s - loss: 0.0902 - accuracy: 0.97 - ETA: 0s - loss: 0.0887 - accuracy: 0.97 - 74s 82ms/step - loss: 0.0887 - accuracy: 0.9723 - val_loss: 0.8906 - val_accuracy: 0.8186\n",
                        "Epoch 81/100\n",
                        "903/903 [==============================] - ETA: 1:06 - loss: 0.0389 - accuracy: 1.00 - ETA: 1:04 - loss: 0.0454 - accuracy: 1.00 - ETA: 1:02 - loss: 0.0971 - accuracy: 0.97 - ETA: 1:00 - loss: 0.0826 - accuracy: 0.98 - ETA: 57s - loss: 0.1138 - accuracy: 0.9750 - ETA: 55s - loss: 0.0997 - accuracy: 0.979 - ETA: 52s - loss: 0.0920 - accuracy: 0.977 - ETA: 50s - loss: 0.0886 - accuracy: 0.976 - ETA: 47s - loss: 0.0807 - accuracy: 0.979 - ETA: 45s - loss: 0.0733 - accuracy: 0.981 - ETA: 43s - loss: 0.0714 - accuracy: 0.983 - ETA: 41s - loss: 0.0733 - accuracy: 0.981 - ETA: 39s - loss: 0.1068 - accuracy: 0.976 - ETA: 37s - loss: 0.1020 - accuracy: 0.975 - ETA: 34s - loss: 0.0959 - accuracy: 0.977 - ETA: 32s - loss: 0.0957 - accuracy: 0.976 - ETA: 29s - loss: 0.0917 - accuracy: 0.977 - ETA: 26s - loss: 0.0944 - accuracy: 0.977 - ETA: 24s - loss: 0.0968 - accuracy: 0.975 - ETA: 21s - loss: 0.0937 - accuracy: 0.976 - ETA: 18s - loss: 0.0958 - accuracy: 0.974 - ETA: 16s - loss: 0.0968 - accuracy: 0.973 - ETA: 13s - loss: 0.0941 - accuracy: 0.974 - ETA: 10s - loss: 0.0908 - accuracy: 0.975 - ETA: 8s - loss: 0.0891 - accuracy: 0.975 - ETA: 5s - loss: 0.0977 - accuracy: 0.97 - ETA: 3s - loss: 0.0954 - accuracy: 0.97 - ETA: 0s - loss: 0.0958 - accuracy: 0.97 - 79s 87ms/step - loss: 0.0952 - accuracy: 0.9723 - val_loss: 0.8599 - val_accuracy: 0.7743\n",
                        "Epoch 82/100\n",
                        "903/903 [==============================] - ETA: 1:10 - loss: 0.1590 - accuracy: 0.93 - ETA: 1:10 - loss: 0.1515 - accuracy: 0.93 - ETA: 1:08 - loss: 0.1374 - accuracy: 0.93 - ETA: 1:05 - loss: 0.1044 - accuracy: 0.95 - ETA: 1:02 - loss: 0.0873 - accuracy: 0.96 - ETA: 59s - loss: 0.0790 - accuracy: 0.9635 - ETA: 56s - loss: 0.0857 - accuracy: 0.964 - ETA: 53s - loss: 0.0952 - accuracy: 0.960 - ETA: 50s - loss: 0.0881 - accuracy: 0.965 - ETA: 48s - loss: 0.0931 - accuracy: 0.965 - ETA: 45s - loss: 0.0917 - accuracy: 0.965 - ETA: 42s - loss: 0.0859 - accuracy: 0.968 - ETA: 40s - loss: 0.0930 - accuracy: 0.963 - ETA: 37s - loss: 0.0880 - accuracy: 0.966 - ETA: 34s - loss: 0.0906 - accuracy: 0.966 - ETA: 31s - loss: 0.0894 - accuracy: 0.966 - ETA: 29s - loss: 0.0853 - accuracy: 0.968 - ETA: 26s - loss: 0.0817 - accuracy: 0.970 - ETA: 23s - loss: 0.0793 - accuracy: 0.970 - ETA: 21s - loss: 0.0789 - accuracy: 0.970 - ETA: 18s - loss: 0.0778 - accuracy: 0.970 - ETA: 15s - loss: 0.0793 - accuracy: 0.970 - ETA: 13s - loss: 0.0828 - accuracy: 0.970 - ETA: 10s - loss: 0.0848 - accuracy: 0.970 - ETA: 8s - loss: 0.0831 - accuracy: 0.970 - ETA: 5s - loss: 0.0807 - accuracy: 0.97 - ETA: 3s - loss: 0.0854 - accuracy: 0.97 - ETA: 0s - loss: 0.0834 - accuracy: 0.97 - 75s 83ms/step - loss: 0.0830 - accuracy: 0.9723 - val_loss: 0.7155 - val_accuracy: 0.8274\n",
                        "Epoch 83/100\n",
                        "903/903 [==============================] - ETA: 1:03 - loss: 0.0427 - accuracy: 1.00 - ETA: 1:01 - loss: 0.0359 - accuracy: 1.00 - ETA: 59s - loss: 0.0402 - accuracy: 0.9896 - ETA: 57s - loss: 0.0829 - accuracy: 0.960 - ETA: 54s - loss: 0.0735 - accuracy: 0.968 - ETA: 52s - loss: 0.0843 - accuracy: 0.968 - ETA: 49s - loss: 0.0804 - accuracy: 0.968 - ETA: 47s - loss: 0.0805 - accuracy: 0.968 - ETA: 44s - loss: 0.0823 - accuracy: 0.968 - ETA: 42s - loss: 0.0773 - accuracy: 0.971 - ETA: 39s - loss: 0.0863 - accuracy: 0.971 - ETA: 37s - loss: 0.0816 - accuracy: 0.974 - ETA: 35s - loss: 0.0761 - accuracy: 0.976 - ETA: 32s - loss: 0.0776 - accuracy: 0.973 - ETA: 30s - loss: 0.0906 - accuracy: 0.972 - ETA: 28s - loss: 0.0895 - accuracy: 0.972 - ETA: 25s - loss: 0.0851 - accuracy: 0.974 - ETA: 23s - loss: 0.0837 - accuracy: 0.974 - ETA: 21s - loss: 0.0807 - accuracy: 0.975 - ETA: 18s - loss: 0.0774 - accuracy: 0.976 - ETA: 16s - loss: 0.0753 - accuracy: 0.977 - ETA: 14s - loss: 0.0743 - accuracy: 0.977 - ETA: 12s - loss: 0.0722 - accuracy: 0.978 - ETA: 9s - loss: 0.0713 - accuracy: 0.977 - ETA: 7s - loss: 0.0706 - accuracy: 0.97 - ETA: 5s - loss: 0.0740 - accuracy: 0.97 - ETA: 2s - loss: 0.0745 - accuracy: 0.97 - ETA: 0s - loss: 0.0723 - accuracy: 0.97 - 71s 79ms/step - loss: 0.0720 - accuracy: 0.9767 - val_loss: 0.8478 - val_accuracy: 0.8097\n",
                        "Epoch 84/100\n",
                        "903/903 [==============================] - ETA: 1:10 - loss: 0.0441 - accuracy: 1.00 - ETA: 1:07 - loss: 0.0305 - accuracy: 1.00 - ETA: 1:04 - loss: 0.0228 - accuracy: 1.00 - ETA: 1:02 - loss: 0.0488 - accuracy: 0.99 - ETA: 58s - loss: 0.0629 - accuracy: 0.9875 - ETA: 55s - loss: 0.0840 - accuracy: 0.974 - ETA: 52s - loss: 0.0772 - accuracy: 0.977 - ETA: 49s - loss: 0.0773 - accuracy: 0.976 - ETA: 47s - loss: 0.0933 - accuracy: 0.972 - ETA: 44s - loss: 0.0859 - accuracy: 0.975 - ETA: 41s - loss: 0.0940 - accuracy: 0.971 - ETA: 39s - loss: 0.0918 - accuracy: 0.971 - ETA: 36s - loss: 0.0859 - accuracy: 0.973 - ETA: 34s - loss: 0.0887 - accuracy: 0.971 - ETA: 31s - loss: 0.0892 - accuracy: 0.970 - ETA: 29s - loss: 0.0883 - accuracy: 0.970 - ETA: 27s - loss: 0.0924 - accuracy: 0.970 - ETA: 24s - loss: 0.0878 - accuracy: 0.972 - ETA: 22s - loss: 0.0865 - accuracy: 0.973 - ETA: 19s - loss: 0.0840 - accuracy: 0.975 - ETA: 17s - loss: 0.0822 - accuracy: 0.974 - ETA: 15s - loss: 0.0805 - accuracy: 0.974 - ETA: 12s - loss: 0.0781 - accuracy: 0.975 - ETA: 10s - loss: 0.0792 - accuracy: 0.975 - ETA: 7s - loss: 0.0846 - accuracy: 0.975 - ETA: 5s - loss: 0.0852 - accuracy: 0.97 - ETA: 2s - loss: 0.0828 - accuracy: 0.97 - ETA: 0s - loss: 0.0839 - accuracy: 0.97 - 72s 80ms/step - loss: 0.0837 - accuracy: 0.9745 - val_loss: 0.7962 - val_accuracy: 0.8274\n"
                    ]
                },
                {
                    "name": "stdout",
                    "output_type": "stream",
                    "text": [
                        "Epoch 85/100\n",
                        "903/903 [==============================] - ETA: 1:05 - loss: 0.0407 - accuracy: 0.96 - ETA: 1:04 - loss: 0.0404 - accuracy: 0.96 - ETA: 1:02 - loss: 0.0665 - accuracy: 0.96 - ETA: 1:00 - loss: 0.0812 - accuracy: 0.96 - ETA: 57s - loss: 0.0854 - accuracy: 0.9625 - ETA: 55s - loss: 0.0920 - accuracy: 0.963 - ETA: 52s - loss: 0.0837 - accuracy: 0.968 - ETA: 49s - loss: 0.0758 - accuracy: 0.972 - ETA: 47s - loss: 0.0773 - accuracy: 0.972 - ETA: 45s - loss: 0.0715 - accuracy: 0.975 - ETA: 42s - loss: 0.0698 - accuracy: 0.974 - ETA: 40s - loss: 0.0706 - accuracy: 0.974 - ETA: 37s - loss: 0.0701 - accuracy: 0.973 - ETA: 35s - loss: 0.0661 - accuracy: 0.975 - ETA: 32s - loss: 0.0639 - accuracy: 0.977 - ETA: 30s - loss: 0.0656 - accuracy: 0.976 - ETA: 27s - loss: 0.0659 - accuracy: 0.976 - ETA: 25s - loss: 0.0629 - accuracy: 0.977 - ETA: 22s - loss: 0.0602 - accuracy: 0.978 - ETA: 20s - loss: 0.0620 - accuracy: 0.976 - ETA: 17s - loss: 0.0635 - accuracy: 0.976 - ETA: 15s - loss: 0.0619 - accuracy: 0.977 - ETA: 12s - loss: 0.0633 - accuracy: 0.976 - ETA: 10s - loss: 0.0628 - accuracy: 0.976 - ETA: 7s - loss: 0.0608 - accuracy: 0.977 - ETA: 5s - loss: 0.0616 - accuracy: 0.97 - ETA: 2s - loss: 0.0647 - accuracy: 0.97 - ETA: 0s - loss: 0.0642 - accuracy: 0.97 - 73s 81ms/step - loss: 0.0638 - accuracy: 0.9745 - val_loss: 0.7425 - val_accuracy: 0.8363\n",
                        "Epoch 86/100\n",
                        "903/903 [==============================] - ETA: 1:04 - loss: 0.0421 - accuracy: 1.00 - ETA: 1:02 - loss: 0.0597 - accuracy: 0.98 - ETA: 1:00 - loss: 0.0436 - accuracy: 0.98 - ETA: 58s - loss: 0.0441 - accuracy: 0.9844 - ETA: 55s - loss: 0.0501 - accuracy: 0.981 - ETA: 53s - loss: 0.0448 - accuracy: 0.984 - ETA: 51s - loss: 0.0448 - accuracy: 0.986 - ETA: 49s - loss: 0.0433 - accuracy: 0.988 - ETA: 47s - loss: 0.0453 - accuracy: 0.986 - ETA: 44s - loss: 0.0415 - accuracy: 0.987 - ETA: 42s - loss: 0.0384 - accuracy: 0.988 - ETA: 40s - loss: 0.0482 - accuracy: 0.987 - ETA: 37s - loss: 0.0618 - accuracy: 0.985 - ETA: 35s - loss: 0.0582 - accuracy: 0.986 - ETA: 32s - loss: 0.0628 - accuracy: 0.983 - ETA: 30s - loss: 0.0632 - accuracy: 0.982 - ETA: 27s - loss: 0.0617 - accuracy: 0.983 - ETA: 25s - loss: 0.0597 - accuracy: 0.984 - ETA: 22s - loss: 0.0594 - accuracy: 0.983 - ETA: 20s - loss: 0.0581 - accuracy: 0.982 - ETA: 17s - loss: 0.0567 - accuracy: 0.983 - ETA: 15s - loss: 0.0572 - accuracy: 0.983 - ETA: 12s - loss: 0.0559 - accuracy: 0.983 - ETA: 10s - loss: 0.0664 - accuracy: 0.980 - ETA: 7s - loss: 0.0649 - accuracy: 0.981 - ETA: 5s - loss: 0.0636 - accuracy: 0.98 - ETA: 2s - loss: 0.0676 - accuracy: 0.97 - ETA: 0s - loss: 0.0654 - accuracy: 0.97 - 72s 80ms/step - loss: 0.0649 - accuracy: 0.9801 - val_loss: 0.8822 - val_accuracy: 0.8186\n",
                        "Epoch 87/100\n",
                        "903/903 [==============================] - ETA: 1:02 - loss: 0.0545 - accuracy: 0.96 - ETA: 1:00 - loss: 0.0471 - accuracy: 0.96 - ETA: 58s - loss: 0.0351 - accuracy: 0.9792 - ETA: 55s - loss: 0.0423 - accuracy: 0.976 - ETA: 53s - loss: 0.0556 - accuracy: 0.968 - ETA: 50s - loss: 0.0538 - accuracy: 0.968 - ETA: 48s - loss: 0.0599 - accuracy: 0.964 - ETA: 46s - loss: 0.0635 - accuracy: 0.964 - ETA: 43s - loss: 0.0724 - accuracy: 0.965 - ETA: 41s - loss: 0.0662 - accuracy: 0.968 - ETA: 39s - loss: 0.0720 - accuracy: 0.965 - ETA: 36s - loss: 0.0685 - accuracy: 0.968 - ETA: 34s - loss: 0.0698 - accuracy: 0.968 - ETA: 32s - loss: 0.0676 - accuracy: 0.968 - ETA: 30s - loss: 0.0673 - accuracy: 0.968 - ETA: 27s - loss: 0.0724 - accuracy: 0.964 - ETA: 25s - loss: 0.0693 - accuracy: 0.966 - ETA: 23s - loss: 0.0660 - accuracy: 0.968 - ETA: 20s - loss: 0.0662 - accuracy: 0.968 - ETA: 18s - loss: 0.0647 - accuracy: 0.968 - ETA: 16s - loss: 0.0630 - accuracy: 0.970 - ETA: 14s - loss: 0.0655 - accuracy: 0.968 - ETA: 11s - loss: 0.0662 - accuracy: 0.968 - ETA: 9s - loss: 0.0641 - accuracy: 0.970 - ETA: 7s - loss: 0.0625 - accuracy: 0.97 - ETA: 5s - loss: 0.0634 - accuracy: 0.97 - ETA: 2s - loss: 0.0613 - accuracy: 0.97 - ETA: 0s - loss: 0.0601 - accuracy: 0.97 - 68s 75ms/step - loss: 0.0597 - accuracy: 0.9712 - val_loss: 0.8227 - val_accuracy: 0.8230\n",
                        "Epoch 88/100\n",
                        "903/903 [==============================] - ETA: 1:02 - loss: 0.0088 - accuracy: 1.00 - ETA: 1:00 - loss: 0.0163 - accuracy: 1.00 - ETA: 58s - loss: 0.0398 - accuracy: 0.9792 - ETA: 56s - loss: 0.0471 - accuracy: 0.976 - ETA: 54s - loss: 0.0815 - accuracy: 0.968 - ETA: 51s - loss: 0.0696 - accuracy: 0.974 - ETA: 49s - loss: 0.0703 - accuracy: 0.973 - ETA: 47s - loss: 0.0705 - accuracy: 0.972 - ETA: 44s - loss: 0.0723 - accuracy: 0.968 - ETA: 42s - loss: 0.0742 - accuracy: 0.968 - ETA: 40s - loss: 0.0774 - accuracy: 0.968 - ETA: 37s - loss: 0.0795 - accuracy: 0.966 - ETA: 35s - loss: 0.0740 - accuracy: 0.968 - ETA: 33s - loss: 0.0694 - accuracy: 0.971 - ETA: 31s - loss: 0.0661 - accuracy: 0.972 - ETA: 29s - loss: 0.0769 - accuracy: 0.968 - ETA: 26s - loss: 0.0735 - accuracy: 0.970 - ETA: 24s - loss: 0.0712 - accuracy: 0.972 - ETA: 22s - loss: 0.0727 - accuracy: 0.970 - ETA: 19s - loss: 0.0699 - accuracy: 0.971 - ETA: 17s - loss: 0.0722 - accuracy: 0.971 - ETA: 15s - loss: 0.0707 - accuracy: 0.971 - ETA: 12s - loss: 0.0692 - accuracy: 0.971 - ETA: 10s - loss: 0.0746 - accuracy: 0.970 - ETA: 7s - loss: 0.0763 - accuracy: 0.968 - ETA: 5s - loss: 0.0818 - accuracy: 0.96 - ETA: 2s - loss: 0.0836 - accuracy: 0.96 - ETA: 0s - loss: 0.0820 - accuracy: 0.96 - 72s 80ms/step - loss: 0.0852 - accuracy: 0.9668 - val_loss: 0.9445 - val_accuracy: 0.7965\n",
                        "Epoch 89/100\n",
                        "903/903 [==============================] - ETA: 1:03 - loss: 0.0255 - accuracy: 1.00 - ETA: 1:00 - loss: 0.0176 - accuracy: 1.00 - ETA: 57s - loss: 0.0766 - accuracy: 0.9896 - ETA: 55s - loss: 0.1361 - accuracy: 0.953 - ETA: 53s - loss: 0.2468 - accuracy: 0.925 - ETA: 51s - loss: 0.2448 - accuracy: 0.921 - ETA: 48s - loss: 0.2452 - accuracy: 0.910 - ETA: 46s - loss: 0.2353 - accuracy: 0.918 - ETA: 44s - loss: 0.2308 - accuracy: 0.923 - ETA: 41s - loss: 0.2095 - accuracy: 0.931 - ETA: 39s - loss: 0.2075 - accuracy: 0.934 - ETA: 37s - loss: 0.2073 - accuracy: 0.932 - ETA: 34s - loss: 0.2080 - accuracy: 0.930 - ETA: 32s - loss: 0.2018 - accuracy: 0.928 - ETA: 30s - loss: 0.1976 - accuracy: 0.931 - ETA: 27s - loss: 0.1877 - accuracy: 0.933 - ETA: 25s - loss: 0.1874 - accuracy: 0.933 - ETA: 23s - loss: 0.1799 - accuracy: 0.937 - ETA: 21s - loss: 0.1830 - accuracy: 0.935 - ETA: 18s - loss: 0.1826 - accuracy: 0.935 - ETA: 16s - loss: 0.1780 - accuracy: 0.937 - ETA: 14s - loss: 0.1717 - accuracy: 0.940 - ETA: 12s - loss: 0.1669 - accuracy: 0.941 - ETA: 9s - loss: 0.1674 - accuracy: 0.938 - ETA: 7s - loss: 0.1722 - accuracy: 0.93 - ETA: 5s - loss: 0.1673 - accuracy: 0.93 - ETA: 2s - loss: 0.1627 - accuracy: 0.94 - ETA: 0s - loss: 0.1592 - accuracy: 0.94 - 69s 77ms/step - loss: 0.1581 - accuracy: 0.9435 - val_loss: 0.8804 - val_accuracy: 0.8009\n",
                        "Epoch 90/100\n",
                        "903/903 [==============================] - ETA: 1:02 - loss: 0.1275 - accuracy: 0.93 - ETA: 1:00 - loss: 0.0730 - accuracy: 0.96 - ETA: 58s - loss: 0.0668 - accuracy: 0.9792 - ETA: 56s - loss: 0.0858 - accuracy: 0.968 - ETA: 54s - loss: 0.0887 - accuracy: 0.968 - ETA: 51s - loss: 0.0927 - accuracy: 0.968 - ETA: 49s - loss: 0.0834 - accuracy: 0.973 - ETA: 47s - loss: 0.0763 - accuracy: 0.976 - ETA: 44s - loss: 0.0683 - accuracy: 0.979 - ETA: 42s - loss: 0.0682 - accuracy: 0.978 - ETA: 40s - loss: 0.0734 - accuracy: 0.974 - ETA: 38s - loss: 0.0693 - accuracy: 0.976 - ETA: 35s - loss: 0.0657 - accuracy: 0.978 - ETA: 33s - loss: 0.0629 - accuracy: 0.979 - ETA: 31s - loss: 0.0627 - accuracy: 0.981 - ETA: 29s - loss: 0.0619 - accuracy: 0.980 - ETA: 26s - loss: 0.0606 - accuracy: 0.981 - ETA: 24s - loss: 0.0581 - accuracy: 0.982 - ETA: 22s - loss: 0.0610 - accuracy: 0.981 - ETA: 19s - loss: 0.0594 - accuracy: 0.982 - ETA: 17s - loss: 0.0598 - accuracy: 0.983 - ETA: 14s - loss: 0.0627 - accuracy: 0.981 - ETA: 12s - loss: 0.0649 - accuracy: 0.979 - ETA: 10s - loss: 0.0632 - accuracy: 0.980 - ETA: 7s - loss: 0.0622 - accuracy: 0.981 - ETA: 5s - loss: 0.0681 - accuracy: 0.97 - ETA: 2s - loss: 0.0660 - accuracy: 0.97 - ETA: 0s - loss: 0.0650 - accuracy: 0.97 - 72s 80ms/step - loss: 0.0700 - accuracy: 0.9767 - val_loss: 0.8635 - val_accuracy: 0.8009\n"
                    ]
                },
                {
                    "name": "stdout",
                    "output_type": "stream",
                    "text": [
                        "Epoch 91/100\n",
                        "903/903 [==============================] - ETA: 1:06 - loss: 0.0107 - accuracy: 1.00 - ETA: 1:04 - loss: 0.0096 - accuracy: 1.00 - ETA: 1:02 - loss: 0.0737 - accuracy: 0.98 - ETA: 59s - loss: 0.0985 - accuracy: 0.9766 - ETA: 57s - loss: 0.0828 - accuracy: 0.981 - ETA: 54s - loss: 0.0710 - accuracy: 0.984 - ETA: 51s - loss: 0.0793 - accuracy: 0.977 - ETA: 49s - loss: 0.0882 - accuracy: 0.968 - ETA: 46s - loss: 0.0809 - accuracy: 0.972 - ETA: 44s - loss: 0.0761 - accuracy: 0.975 - ETA: 42s - loss: 0.0725 - accuracy: 0.977 - ETA: 39s - loss: 0.0687 - accuracy: 0.979 - ETA: 37s - loss: 0.0762 - accuracy: 0.976 - ETA: 35s - loss: 0.0779 - accuracy: 0.973 - ETA: 32s - loss: 0.0738 - accuracy: 0.975 - ETA: 30s - loss: 0.0698 - accuracy: 0.976 - ETA: 28s - loss: 0.0680 - accuracy: 0.977 - ETA: 25s - loss: 0.0650 - accuracy: 0.979 - ETA: 23s - loss: 0.0625 - accuracy: 0.980 - ETA: 20s - loss: 0.0610 - accuracy: 0.981 - ETA: 18s - loss: 0.0583 - accuracy: 0.982 - ETA: 15s - loss: 0.0565 - accuracy: 0.983 - ETA: 13s - loss: 0.0550 - accuracy: 0.983 - ETA: 10s - loss: 0.0536 - accuracy: 0.984 - ETA: 8s - loss: 0.0613 - accuracy: 0.981 - ETA: 5s - loss: 0.0642 - accuracy: 0.98 - ETA: 3s - loss: 0.0628 - accuracy: 0.98 - ETA: 0s - loss: 0.0610 - accuracy: 0.98 - 76s 84ms/step - loss: 0.0613 - accuracy: 0.9823 - val_loss: 0.7798 - val_accuracy: 0.8274\n",
                        "Epoch 92/100\n",
                        "903/903 [==============================] - ETA: 1:06 - loss: 0.1383 - accuracy: 0.96 - ETA: 1:04 - loss: 0.0966 - accuracy: 0.96 - ETA: 1:01 - loss: 0.0726 - accuracy: 0.97 - ETA: 59s - loss: 0.0774 - accuracy: 0.9688 - ETA: 56s - loss: 0.0706 - accuracy: 0.968 - ETA: 54s - loss: 0.0787 - accuracy: 0.963 - ETA: 51s - loss: 0.0717 - accuracy: 0.968 - ETA: 49s - loss: 0.0809 - accuracy: 0.964 - ETA: 46s - loss: 0.0725 - accuracy: 0.968 - ETA: 44s - loss: 0.0727 - accuracy: 0.968 - ETA: 41s - loss: 0.0716 - accuracy: 0.968 - ETA: 39s - loss: 0.0763 - accuracy: 0.966 - ETA: 37s - loss: 0.0725 - accuracy: 0.968 - ETA: 35s - loss: 0.0721 - accuracy: 0.968 - ETA: 32s - loss: 0.0693 - accuracy: 0.968 - ETA: 30s - loss: 0.0760 - accuracy: 0.966 - ETA: 28s - loss: 0.0721 - accuracy: 0.968 - ETA: 25s - loss: 0.0688 - accuracy: 0.970 - ETA: 22s - loss: 0.0657 - accuracy: 0.972 - ETA: 20s - loss: 0.0649 - accuracy: 0.971 - ETA: 17s - loss: 0.0655 - accuracy: 0.971 - ETA: 15s - loss: 0.0680 - accuracy: 0.971 - ETA: 12s - loss: 0.0660 - accuracy: 0.972 - ETA: 10s - loss: 0.0670 - accuracy: 0.972 - ETA: 7s - loss: 0.0674 - accuracy: 0.972 - ETA: 5s - loss: 0.0674 - accuracy: 0.97 - ETA: 2s - loss: 0.0668 - accuracy: 0.97 - ETA: 0s - loss: 0.0686 - accuracy: 0.97 - 73s 81ms/step - loss: 0.0680 - accuracy: 0.9723 - val_loss: 0.8950 - val_accuracy: 0.8230\n",
                        "Epoch 93/100\n",
                        "903/903 [==============================] - ETA: 1:05 - loss: 0.0097 - accuracy: 1.00 - ETA: 1:02 - loss: 0.0115 - accuracy: 1.00 - ETA: 1:00 - loss: 0.0479 - accuracy: 0.98 - ETA: 57s - loss: 0.0423 - accuracy: 0.9922 - ETA: 55s - loss: 0.0351 - accuracy: 0.993 - ETA: 52s - loss: 0.0307 - accuracy: 0.994 - ETA: 50s - loss: 0.0270 - accuracy: 0.995 - ETA: 48s - loss: 0.0248 - accuracy: 0.996 - ETA: 46s - loss: 0.0284 - accuracy: 0.993 - ETA: 43s - loss: 0.0377 - accuracy: 0.987 - ETA: 41s - loss: 0.0487 - accuracy: 0.983 - ETA: 38s - loss: 0.0534 - accuracy: 0.981 - ETA: 36s - loss: 0.0563 - accuracy: 0.980 - ETA: 33s - loss: 0.0543 - accuracy: 0.982 - ETA: 31s - loss: 0.0695 - accuracy: 0.977 - ETA: 28s - loss: 0.0654 - accuracy: 0.978 - ETA: 26s - loss: 0.0691 - accuracy: 0.976 - ETA: 23s - loss: 0.0779 - accuracy: 0.972 - ETA: 21s - loss: 0.0745 - accuracy: 0.973 - ETA: 19s - loss: 0.0749 - accuracy: 0.973 - ETA: 16s - loss: 0.0734 - accuracy: 0.973 - ETA: 14s - loss: 0.0719 - accuracy: 0.974 - ETA: 12s - loss: 0.0711 - accuracy: 0.974 - ETA: 9s - loss: 0.0720 - accuracy: 0.974 - ETA: 7s - loss: 0.0719 - accuracy: 0.97 - ETA: 5s - loss: 0.0760 - accuracy: 0.97 - ETA: 2s - loss: 0.0743 - accuracy: 0.97 - ETA: 0s - loss: 0.0758 - accuracy: 0.97 - 69s 76ms/step - loss: 0.0754 - accuracy: 0.9723 - val_loss: 0.7964 - val_accuracy: 0.8451\n",
                        "Epoch 94/100\n",
                        "903/903 [==============================] - ETA: 1:00 - loss: 0.1313 - accuracy: 0.96 - ETA: 58s - loss: 0.0780 - accuracy: 0.9844 - ETA: 56s - loss: 0.0804 - accuracy: 0.979 - ETA: 54s - loss: 0.0785 - accuracy: 0.976 - ETA: 51s - loss: 0.0803 - accuracy: 0.968 - ETA: 49s - loss: 0.1407 - accuracy: 0.953 - ETA: 47s - loss: 0.1220 - accuracy: 0.959 - ETA: 45s - loss: 0.1092 - accuracy: 0.964 - ETA: 43s - loss: 0.1105 - accuracy: 0.965 - ETA: 40s - loss: 0.1081 - accuracy: 0.965 - ETA: 38s - loss: 0.1003 - accuracy: 0.968 - ETA: 36s - loss: 0.0967 - accuracy: 0.968 - ETA: 34s - loss: 0.0993 - accuracy: 0.966 - ETA: 32s - loss: 0.0958 - accuracy: 0.966 - ETA: 29s - loss: 0.0910 - accuracy: 0.968 - ETA: 27s - loss: 0.0876 - accuracy: 0.968 - ETA: 25s - loss: 0.0828 - accuracy: 0.970 - ETA: 23s - loss: 0.0803 - accuracy: 0.970 - ETA: 20s - loss: 0.0773 - accuracy: 0.972 - ETA: 18s - loss: 0.0812 - accuracy: 0.970 - ETA: 16s - loss: 0.0823 - accuracy: 0.968 - ETA: 14s - loss: 0.0831 - accuracy: 0.968 - ETA: 11s - loss: 0.0804 - accuracy: 0.970 - ETA: 9s - loss: 0.0835 - accuracy: 0.970 - ETA: 7s - loss: 0.0841 - accuracy: 0.96 - ETA: 5s - loss: 0.0816 - accuracy: 0.97 - ETA: 2s - loss: 0.0806 - accuracy: 0.96 - ETA: 0s - loss: 0.0781 - accuracy: 0.97 - 69s 77ms/step - loss: 0.0776 - accuracy: 0.9712 - val_loss: 0.7728 - val_accuracy: 0.8230\n",
                        "Epoch 95/100\n",
                        "903/903 [==============================] - ETA: 1:04 - loss: 0.0582 - accuracy: 0.96 - ETA: 1:01 - loss: 0.0353 - accuracy: 0.98 - ETA: 59s - loss: 0.0493 - accuracy: 0.9792 - ETA: 57s - loss: 0.0519 - accuracy: 0.976 - ETA: 55s - loss: 0.0504 - accuracy: 0.975 - ETA: 53s - loss: 0.0591 - accuracy: 0.968 - ETA: 51s - loss: 0.0531 - accuracy: 0.973 - ETA: 49s - loss: 0.0613 - accuracy: 0.968 - ETA: 46s - loss: 0.0571 - accuracy: 0.972 - ETA: 45s - loss: 0.0644 - accuracy: 0.971 - ETA: 42s - loss: 0.0587 - accuracy: 0.974 - ETA: 40s - loss: 0.0546 - accuracy: 0.976 - ETA: 37s - loss: 0.0572 - accuracy: 0.973 - ETA: 35s - loss: 0.0630 - accuracy: 0.973 - ETA: 32s - loss: 0.0609 - accuracy: 0.975 - ETA: 30s - loss: 0.0597 - accuracy: 0.974 - ETA: 27s - loss: 0.0584 - accuracy: 0.976 - ETA: 25s - loss: 0.0660 - accuracy: 0.972 - ETA: 22s - loss: 0.0638 - accuracy: 0.973 - ETA: 20s - loss: 0.0659 - accuracy: 0.973 - ETA: 17s - loss: 0.0639 - accuracy: 0.974 - ETA: 15s - loss: 0.0619 - accuracy: 0.975 - ETA: 12s - loss: 0.0598 - accuracy: 0.976 - ETA: 10s - loss: 0.0657 - accuracy: 0.975 - ETA: 7s - loss: 0.0735 - accuracy: 0.973 - ETA: 5s - loss: 0.0720 - accuracy: 0.97 - ETA: 3s - loss: 0.0712 - accuracy: 0.97 - ETA: 0s - loss: 0.0806 - accuracy: 0.97 - 74s 82ms/step - loss: 0.0801 - accuracy: 0.9712 - val_loss: 0.8788 - val_accuracy: 0.7920\n",
                        "Epoch 96/100\n",
                        "903/903 [==============================] - ETA: 1:09 - loss: 0.0125 - accuracy: 1.00 - ETA: 1:06 - loss: 0.0246 - accuracy: 1.00 - ETA: 1:05 - loss: 0.0409 - accuracy: 0.98 - ETA: 1:03 - loss: 0.0581 - accuracy: 0.98 - ETA: 59s - loss: 0.0555 - accuracy: 0.9812 - ETA: 56s - loss: 0.0552 - accuracy: 0.979 - ETA: 53s - loss: 0.0562 - accuracy: 0.977 - ETA: 51s - loss: 0.0513 - accuracy: 0.980 - ETA: 48s - loss: 0.0515 - accuracy: 0.982 - ETA: 45s - loss: 0.0504 - accuracy: 0.984 - ETA: 43s - loss: 0.0638 - accuracy: 0.977 - ETA: 40s - loss: 0.0728 - accuracy: 0.974 - ETA: 38s - loss: 0.0681 - accuracy: 0.976 - ETA: 35s - loss: 0.0670 - accuracy: 0.975 - ETA: 33s - loss: 0.0646 - accuracy: 0.977 - ETA: 30s - loss: 0.0617 - accuracy: 0.978 - ETA: 28s - loss: 0.0614 - accuracy: 0.979 - ETA: 25s - loss: 0.0600 - accuracy: 0.980 - ETA: 23s - loss: 0.0604 - accuracy: 0.980 - ETA: 20s - loss: 0.0670 - accuracy: 0.978 - ETA: 18s - loss: 0.0647 - accuracy: 0.979 - ETA: 15s - loss: 0.0634 - accuracy: 0.980 - ETA: 12s - loss: 0.0632 - accuracy: 0.979 - ETA: 10s - loss: 0.0622 - accuracy: 0.979 - ETA: 7s - loss: 0.0639 - accuracy: 0.977 - ETA: 5s - loss: 0.0632 - accuracy: 0.97 - ETA: 2s - loss: 0.0615 - accuracy: 0.97 - ETA: 0s - loss: 0.0602 - accuracy: 0.97 - 73s 81ms/step - loss: 0.0599 - accuracy: 0.9790 - val_loss: 0.7764 - val_accuracy: 0.8142\n"
                    ]
                },
                {
                    "name": "stdout",
                    "output_type": "stream",
                    "text": [
                        "Epoch 97/100\n",
                        "903/903 [==============================] - ETA: 1:01 - loss: 0.0936 - accuracy: 0.93 - ETA: 59s - loss: 0.0581 - accuracy: 0.9688 - ETA: 57s - loss: 0.0567 - accuracy: 0.968 - ETA: 55s - loss: 0.0702 - accuracy: 0.968 - ETA: 52s - loss: 0.0651 - accuracy: 0.975 - ETA: 50s - loss: 0.0708 - accuracy: 0.968 - ETA: 48s - loss: 0.0783 - accuracy: 0.968 - ETA: 46s - loss: 0.0722 - accuracy: 0.972 - ETA: 44s - loss: 0.0659 - accuracy: 0.975 - ETA: 42s - loss: 0.0670 - accuracy: 0.971 - ETA: 39s - loss: 0.0642 - accuracy: 0.974 - ETA: 37s - loss: 0.0712 - accuracy: 0.971 - ETA: 35s - loss: 0.0710 - accuracy: 0.971 - ETA: 33s - loss: 0.0799 - accuracy: 0.968 - ETA: 30s - loss: 0.0766 - accuracy: 0.970 - ETA: 28s - loss: 0.0841 - accuracy: 0.966 - ETA: 26s - loss: 0.0834 - accuracy: 0.965 - ETA: 23s - loss: 0.0830 - accuracy: 0.965 - ETA: 21s - loss: 0.0804 - accuracy: 0.965 - ETA: 19s - loss: 0.0820 - accuracy: 0.964 - ETA: 16s - loss: 0.0848 - accuracy: 0.962 - ETA: 14s - loss: 0.0817 - accuracy: 0.964 - ETA: 12s - loss: 0.0786 - accuracy: 0.966 - ETA: 9s - loss: 0.0758 - accuracy: 0.967 - ETA: 7s - loss: 0.0767 - accuracy: 0.96 - ETA: 5s - loss: 0.0768 - accuracy: 0.96 - ETA: 2s - loss: 0.0753 - accuracy: 0.96 - ETA: 0s - loss: 0.0740 - accuracy: 0.96 - 71s 78ms/step - loss: 0.0735 - accuracy: 0.9679 - val_loss: 0.7725 - val_accuracy: 0.8097\n",
                        "Epoch 98/100\n",
                        "903/903 [==============================] - ETA: 1:07 - loss: 0.0216 - accuracy: 1.00 - ETA: 1:04 - loss: 0.0498 - accuracy: 0.96 - ETA: 1:01 - loss: 0.0385 - accuracy: 0.97 - ETA: 58s - loss: 0.0589 - accuracy: 0.9766 - ETA: 55s - loss: 0.0757 - accuracy: 0.975 - ETA: 53s - loss: 0.0660 - accuracy: 0.979 - ETA: 50s - loss: 0.0603 - accuracy: 0.982 - ETA: 48s - loss: 0.0535 - accuracy: 0.984 - ETA: 45s - loss: 0.0525 - accuracy: 0.982 - ETA: 43s - loss: 0.0484 - accuracy: 0.984 - ETA: 40s - loss: 0.0538 - accuracy: 0.980 - ETA: 38s - loss: 0.0656 - accuracy: 0.976 - ETA: 35s - loss: 0.0636 - accuracy: 0.976 - ETA: 33s - loss: 0.0601 - accuracy: 0.977 - ETA: 31s - loss: 0.0605 - accuracy: 0.977 - ETA: 28s - loss: 0.0583 - accuracy: 0.978 - ETA: 26s - loss: 0.0564 - accuracy: 0.979 - ETA: 23s - loss: 0.0545 - accuracy: 0.980 - ETA: 21s - loss: 0.0526 - accuracy: 0.981 - ETA: 19s - loss: 0.0534 - accuracy: 0.981 - ETA: 16s - loss: 0.0511 - accuracy: 0.982 - ETA: 14s - loss: 0.0550 - accuracy: 0.980 - ETA: 12s - loss: 0.0559 - accuracy: 0.979 - ETA: 9s - loss: 0.0542 - accuracy: 0.980 - ETA: 7s - loss: 0.0528 - accuracy: 0.98 - ETA: 5s - loss: 0.0526 - accuracy: 0.98 - ETA: 2s - loss: 0.0557 - accuracy: 0.98 - ETA: 0s - loss: 0.0541 - accuracy: 0.98 - 70s 77ms/step - loss: 0.0538 - accuracy: 0.9812 - val_loss: 0.9019 - val_accuracy: 0.7965\n",
                        "Epoch 99/100\n",
                        "903/903 [==============================] - ETA: 1:03 - loss: 0.0236 - accuracy: 1.00 - ETA: 1:01 - loss: 0.0147 - accuracy: 1.00 - ETA: 59s - loss: 0.0251 - accuracy: 0.9896 - ETA: 57s - loss: 0.0357 - accuracy: 0.984 - ETA: 55s - loss: 0.0304 - accuracy: 0.987 - ETA: 52s - loss: 0.0290 - accuracy: 0.989 - ETA: 50s - loss: 0.0308 - accuracy: 0.986 - ETA: 47s - loss: 0.0289 - accuracy: 0.988 - ETA: 45s - loss: 0.0351 - accuracy: 0.979 - ETA: 42s - loss: 0.0321 - accuracy: 0.981 - ETA: 40s - loss: 0.0295 - accuracy: 0.983 - ETA: 38s - loss: 0.0294 - accuracy: 0.981 - ETA: 35s - loss: 0.0307 - accuracy: 0.980 - ETA: 33s - loss: 0.0294 - accuracy: 0.982 - ETA: 31s - loss: 0.0332 - accuracy: 0.981 - ETA: 28s - loss: 0.0323 - accuracy: 0.982 - ETA: 26s - loss: 0.0307 - accuracy: 0.983 - ETA: 24s - loss: 0.0299 - accuracy: 0.984 - ETA: 21s - loss: 0.0308 - accuracy: 0.985 - ETA: 19s - loss: 0.0325 - accuracy: 0.984 - ETA: 16s - loss: 0.0358 - accuracy: 0.983 - ETA: 14s - loss: 0.0351 - accuracy: 0.984 - ETA: 12s - loss: 0.0365 - accuracy: 0.985 - ETA: 9s - loss: 0.0358 - accuracy: 0.985 - ETA: 7s - loss: 0.0351 - accuracy: 0.98 - ETA: 5s - loss: 0.0348 - accuracy: 0.98 - ETA: 2s - loss: 0.0336 - accuracy: 0.98 - ETA: 0s - loss: 0.0391 - accuracy: 0.98 - 71s 79ms/step - loss: 0.0444 - accuracy: 0.9845 - val_loss: 0.9467 - val_accuracy: 0.8142\n",
                        "Epoch 100/100\n",
                        "903/903 [==============================] - ETA: 1:03 - loss: 0.0927 - accuracy: 0.93 - ETA: 1:02 - loss: 0.0533 - accuracy: 0.96 - ETA: 1:00 - loss: 0.1170 - accuracy: 0.95 - ETA: 57s - loss: 0.1032 - accuracy: 0.9609 - ETA: 55s - loss: 0.0876 - accuracy: 0.968 - ETA: 52s - loss: 0.0801 - accuracy: 0.968 - ETA: 50s - loss: 0.0725 - accuracy: 0.973 - ETA: 48s - loss: 0.0921 - accuracy: 0.960 - ETA: 45s - loss: 0.0841 - accuracy: 0.965 - ETA: 43s - loss: 0.0915 - accuracy: 0.962 - ETA: 41s - loss: 0.0862 - accuracy: 0.963 - ETA: 38s - loss: 0.0961 - accuracy: 0.960 - ETA: 36s - loss: 0.0952 - accuracy: 0.959 - ETA: 33s - loss: 0.0910 - accuracy: 0.959 - ETA: 31s - loss: 0.0927 - accuracy: 0.960 - ETA: 29s - loss: 0.0957 - accuracy: 0.960 - ETA: 26s - loss: 0.0909 - accuracy: 0.963 - ETA: 24s - loss: 0.0890 - accuracy: 0.963 - ETA: 22s - loss: 0.0852 - accuracy: 0.965 - ETA: 19s - loss: 0.0866 - accuracy: 0.964 - ETA: 17s - loss: 0.0866 - accuracy: 0.964 - ETA: 15s - loss: 0.0841 - accuracy: 0.965 - ETA: 12s - loss: 0.0832 - accuracy: 0.966 - ETA: 10s - loss: 0.0803 - accuracy: 0.967 - ETA: 7s - loss: 0.0781 - accuracy: 0.968 - ETA: 5s - loss: 0.0753 - accuracy: 0.97 - ETA: 2s - loss: 0.0726 - accuracy: 0.97 - ETA: 0s - loss: 0.0723 - accuracy: 0.97 - 73s 81ms/step - loss: 0.0717 - accuracy: 0.9712 - val_loss: 0.7901 - val_accuracy: 0.8274\n"
                    ]
                }
            ],
            "source": [
                "epochs = 100\n",
                "batch_size = 32\n",
                "\n",
                "history = general_model.fit(x=X_train_input,\n",
                "                  y=to_categorical(y_train),batch_size = batch_size,validation_data=(X_test_input,to_categorical(y_test)),\n",
                "                  epochs = epochs)"
            ]
        },
        {
            "cell_type": "code",
            "execution_count": 45,
            "metadata": {},
            "outputs": [
                {
                    "name": "stdout",
                    "output_type": "stream",
                    "text": [
                        "dict_keys(['val_loss', 'val_accuracy', 'loss', 'accuracy'])\n"
                    ]
                },
                {
                    "data": {
                        "image/png": "[encoded data removed]",
                        "text/plain": [
                            "<Figure size 432x288 with 1 Axes>"
                        ]
                    },
                    "metadata": {
                        "needs_background": "light"
                    },
                    "output_type": "display_data"
                },
                {
                    "data": {
                        "image/png": "[encoded data removed]",
                        "text/plain": [
                            "<Figure size 432x288 with 1 Axes>"
                        ]
                    },
                    "metadata": {
                        "needs_background": "light"
                    },
                    "output_type": "display_data"
                }
            ],
            "source": [
                "print(history.history.keys())\n",
                "# summarize history for accuracy\n",
                "plt.plot(history.history['accuracy'])\n",
                "plt.plot(history.history['val_accuracy'])\n",
                "plt.title('model accuracy')\n",
                "plt.ylabel('accuracy')\n",
                "plt.xlabel('epoch')\n",
                "plt.legend(['train', 'test'], loc='upper left')\n",
                "plt.show()\n",
                "# summarize history for loss\n",
                "plt.plot(history.history['loss'])\n",
                "plt.plot(history.history['val_loss'])\n",
                "plt.title('model loss')\n",
                "plt.ylabel('loss')\n",
                "plt.xlabel('epoch')\n",
                "plt.legend(['train', 'test'], loc='upper left')\n",
                "plt.show()"
            ]
        },
        {
            "cell_type": "code",
            "execution_count": 48,
            "metadata": {},
            "outputs": [],
            "source": [
                "general_model.save('bert_relation_extraction')\n",
                "#general_model = tf.keras.models.load_model('bert_relation_extraction')\n"
            ]
        },
        {
            "cell_type": "code",
            "execution_count": 47,
            "metadata": {},
            "outputs": [
                {
                    "name": "stdout",
                    "output_type": "stream",
                    "text": [
                        "              precision    recall  f1-score   support\n",
                        "\n",
                        "  NoRelation       0.77      0.84      0.80        58\n",
                        "    MinValue       0.79      0.68      0.73        40\n",
                        "    MaxValue       0.84      0.94      0.89        62\n",
                        "     IsValue       0.90      0.80      0.85        66\n",
                        "\n",
                        "   micro avg       0.83      0.83      0.83       226\n",
                        "   macro avg       0.82      0.81      0.82       226\n",
                        "weighted avg       0.83      0.83      0.83       226\n",
                        "\n"
                    ]
                }
            ],
            "source": [
                "from sklearn.metrics import classification_report\n",
                "y_pred = general_model.predict(X_test_input, batch_size=32, verbose=10)\n",
                "y_pred_bool = np.argmax(y_pred, axis=1)\n",
                "print(classification_report(y_test,y_pred_bool,target_names=['NoRelation','MinValue','MaxValue','IsValue']))"
            ]
        },
        {
            "cell_type": "code",
            "execution_count": null,
            "metadata": {},
            "outputs": [],
            "source": []
        },
        {
            "cell_type": "code",
            "execution_count": null,
            "metadata": {},
            "outputs": [],
            "source": []
        },
        {
            "cell_type": "code",
            "execution_count": null,
            "metadata": {},
            "outputs": [],
            "source": []
        }
    ],
    "metadata": {
        "kernelspec": {
            "display_name": "Python 3",
            "language": "python",
            "name": "python3"
        },
        "language_info": {
            "codemirror_mode": {
                "name": "ipython",
                "version": 3
            },
            "file_extension": ".py",
            "mimetype": "text/x-python",
            "name": "python",
            "nbconvert_exporter": "python",
            "pygments_lexer": "ipython3",
            "version": "3.7.3"
        }
    },
    "nbformat": 4,
    "nbformat_minor": 2
}
